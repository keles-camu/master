{
 "cells": [
  {
   "cell_type": "markdown",
   "metadata": {},
   "source": [
    "# Funciones"
   ]
  },
  {
   "cell_type": "markdown",
   "metadata": {},
   "source": [
    "Sin parámetros"
   ]
  },
  {
   "cell_type": "code",
   "execution_count": 1,
   "metadata": {},
   "outputs": [],
   "source": [
    "def saludar():\n",
    "    print('Hola !')"
   ]
  },
  {
   "cell_type": "code",
   "execution_count": 2,
   "metadata": {},
   "outputs": [
    {
     "name": "stdout",
     "output_type": "stream",
     "text": [
      "Hola !\n"
     ]
    }
   ],
   "source": [
    "saludar()"
   ]
  },
  {
   "cell_type": "markdown",
   "metadata": {},
   "source": [
    "Con un parámetro de entrada"
   ]
  },
  {
   "cell_type": "code",
   "execution_count": 10,
   "metadata": {},
   "outputs": [
    {
     "name": "stdout",
     "output_type": "stream",
     "text": [
      "Hola Juan !\n"
     ]
    }
   ],
   "source": [
    "def saluda_nombre(nombre):\n",
    "    print('Hola', nombre, '!')\n",
    "\n",
    "saluda_nombre(nombre = 'Juan')"
   ]
  },
  {
   "cell_type": "markdown",
   "metadata": {},
   "source": [
    "Más de un parámetro de entrada."
   ]
  },
  {
   "cell_type": "code",
   "execution_count": 5,
   "metadata": {},
   "outputs": [],
   "source": [
    "def aplica_iva(nombre_artículo, precio):\n",
    "    print('El precio total de', nombre_artículo, 'es: ', round(precio + (precio*0.21),2))"
   ]
  },
  {
   "cell_type": "code",
   "execution_count": 6,
   "metadata": {},
   "outputs": [
    {
     "name": "stdout",
     "output_type": "stream",
     "text": [
      "El precio total de NVIDIA GTX 2080 es:  2474.45\n"
     ]
    }
   ],
   "source": [
    "aplica_iva(nombre_artículo='NVIDIA GTX 2080', precio=2045)"
   ]
  },
  {
   "cell_type": "code",
   "execution_count": 2,
   "metadata": {},
   "outputs": [
    {
     "name": "stdout",
     "output_type": "stream",
     "text": [
      "La media de 3 y 5 es: 4.0\n"
     ]
    }
   ],
   "source": [
    "def escribe_media(a,b):\n",
    "    media = (a + b) / 2\n",
    "    print(f\"La media de {a} y {b} es: {media}\")\n",
    "\n",
    "escribe_media(3,5)"
   ]
  },
  {
   "cell_type": "code",
   "execution_count": 10,
   "metadata": {},
   "outputs": [
    {
     "name": "stdout",
     "output_type": "stream",
     "text": [
      "La media de 3 y 5 es 4.0\n"
     ]
    }
   ],
   "source": [
    "def escribe_media(a,b):\n",
    "    media = (a + b) / 2\n",
    "    print(\"La media de\", a, \"y\", b, \"es\", media)\n",
    "\n",
    "escribe_media(3,5)"
   ]
  },
  {
   "cell_type": "markdown",
   "metadata": {},
   "source": [
    "Devolver parámetro de salida"
   ]
  },
  {
   "cell_type": "code",
   "execution_count": 16,
   "metadata": {},
   "outputs": [
    {
     "name": "stdout",
     "output_type": "stream",
     "text": [
      "El precio final del artículo es:  2420.0 euros\n"
     ]
    }
   ],
   "source": [
    "def obten_precio_total(precio):\n",
    "    precio_final = round(precio + (precio * 0.21), 2)\n",
    "    \n",
    "    return precio_final\n",
    "\n",
    "precio_total = obten_precio_total(precio=2000)\n",
    "\n",
    "print('El precio final del artículo es: ', precio_total, 'euros')"
   ]
  },
  {
   "cell_type": "code",
   "execution_count": 22,
   "metadata": {},
   "outputs": [
    {
     "name": "stdout",
     "output_type": "stream",
     "text": [
      "El precio final del artículo es:  <function precio_total at 0x7fdae95c7c10> euros\n"
     ]
    }
   ],
   "source": [
    "def precio_total(precio):\n",
    "    precio_final = round(precio + (precio * 0.21), 2)\n",
    "    \n",
    "    return precio_final\n",
    "\n",
    "precio_total(precio=2000)\n",
    "\n",
    "print('El precio final del artículo es: ', precio_total, 'euros')"
   ]
  },
  {
   "cell_type": "markdown",
   "metadata": {},
   "source": [
    "Más de un parámetro de salida"
   ]
  },
  {
   "cell_type": "code",
   "execution_count": 10,
   "metadata": {},
   "outputs": [],
   "source": [
    "# Dada una secuencia de números.\n",
    "# Almacenar todos los números pares en una lista.\n",
    "# Todos los números impares en otra lista\n",
    "# Devolver ambas listas\n",
    "\n",
    "def pares_impares(numbers):\n",
    "    \n",
    "    # Inicializamos lista pares e impares\n",
    "    pares = []\n",
    "    impares = []\n",
    "    \n",
    "    for item in numbers:\n",
    "        if item % 2 == 0:\n",
    "            # Es par\n",
    "            pares.append(item)\n",
    "        else:\n",
    "            # Es impar\n",
    "            impares.append(item)\n",
    "            \n",
    "    return pares, impares"
   ]
  },
  {
   "cell_type": "code",
   "execution_count": 11,
   "metadata": {},
   "outputs": [],
   "source": [
    "tupla_números = (1, 8, 23, 0, 199, 457, 398, 5, 9, 150, 780, 7592)\n",
    "\n",
    "lista_pares, lista_impares = pares_impares(numbers=tupla_números)"
   ]
  },
  {
   "cell_type": "code",
   "execution_count": 12,
   "metadata": {},
   "outputs": [
    {
     "name": "stdout",
     "output_type": "stream",
     "text": [
      "Todos los números pares de la secuencia son: [8, 0, 398, 150, 780, 7592]\n",
      "Todos los números impares de la secuencia son: [1, 23, 199, 457, 5, 9]\n"
     ]
    }
   ],
   "source": [
    "print('Todos los números pares de la secuencia son:', lista_pares)\n",
    "print('Todos los números impares de la secuencia son:', lista_impares)"
   ]
  },
  {
   "cell_type": "markdown",
   "metadata": {},
   "source": [
    "Llamar a una función dentro de otra función."
   ]
  },
  {
   "cell_type": "code",
   "execution_count": 13,
   "metadata": {},
   "outputs": [],
   "source": [
    "def banner():\n",
    "    print('-'*20)\n",
    "    print('*'*20)\n",
    "    print('-'*20)"
   ]
  },
  {
   "cell_type": "code",
   "execution_count": 2,
   "metadata": {},
   "outputs": [],
   "source": [
    "def programa_principal():\n",
    "    banner()\n",
    "    print('Iniciando el programa... \\n')\n",
    "    banner()\n",
    "    print('Saliendo del programa') "
   ]
  },
  {
   "cell_type": "code",
   "execution_count": 15,
   "metadata": {},
   "outputs": [
    {
     "name": "stdout",
     "output_type": "stream",
     "text": [
      "--------------------\n",
      "********************\n",
      "--------------------\n",
      "Iniciando el programa... \n",
      "\n",
      "--------------------\n",
      "********************\n",
      "--------------------\n",
      "Saliendo del programa\n"
     ]
    }
   ],
   "source": [
    "programa_principal()"
   ]
  },
  {
   "cell_type": "markdown",
   "metadata": {},
   "source": [
    "If you do not know the number of arguments that will be passed into your function, there is a prefix you can add in the function definition:"
   ]
  },
  {
   "cell_type": "code",
   "execution_count": 3,
   "metadata": {},
   "outputs": [],
   "source": [
    "def my_function(*kids):\n",
    "    print(\"The youngest child is \" + kids[2])"
   ]
  },
  {
   "cell_type": "markdown",
   "metadata": {},
   "source": [
    "If you do not know the number of keyword arguments that will be passed into your function, there is a prefix you can add in the function definition"
   ]
  },
  {
   "cell_type": "code",
   "execution_count": 15,
   "metadata": {},
   "outputs": [],
   "source": [
    "def my_function(**kid):\n",
    "    print(\"His last name is \" + kid[\"lname\"])"
   ]
  },
  {
   "cell_type": "markdown",
   "metadata": {},
   "source": [
    "## Valores por defecto"
   ]
  },
  {
   "cell_type": "code",
   "execution_count": 3,
   "metadata": {},
   "outputs": [
    {
     "name": "stdout",
     "output_type": "stream",
     "text": [
      "10\n"
     ]
    }
   ],
   "source": [
    "#El valor por defecto siempre se debe incluir en el último parámetro, si no, devlverá error\n",
    "\n",
    "def multiplicar (num_1,num_2=2):\n",
    "    return num_1*num_2\n",
    "print (multiplicar(5))"
   ]
  },
  {
   "cell_type": "markdown",
   "metadata": {},
   "source": [
    "## Return"
   ]
  },
  {
   "cell_type": "code",
   "execution_count": 5,
   "metadata": {},
   "outputs": [
    {
     "name": "stdout",
     "output_type": "stream",
     "text": [
      "Núm. Atómico: 2\n",
      "Denominación: Helio\n"
     ]
    }
   ],
   "source": [
    "def elemento_quimico(símbolo):\n",
    "    elementos = {'H':'1-Hidrógeno', 'He':'2-Helio', 'Li':'3-Litio'}\n",
    "    elemento = elementos[símbolo]\n",
    "    lista = elemento.split('-')\n",
    "    \n",
    "    return (lista[0], lista[1]) # El return en Python permite devolver más de un valor\n",
    "\n",
    "num_atomico, denomina = elemento_quimico('He')\n",
    "print('Núm. Atómico:', num_atomico)\n",
    "print('Denominación:', denomina)"
   ]
  },
  {
   "cell_type": "markdown",
   "metadata": {},
   "source": [
    "## Parámetros arbitrarios"
   ]
  },
  {
   "cell_type": "code",
   "execution_count": 1,
   "metadata": {},
   "outputs": [
    {
     "name": "stdout",
     "output_type": "stream",
     "text": [
      "Fixed\n",
      "arbitrario 1\n",
      "arbitrario 2\n",
      "arbitrario 3\n"
     ]
    }
   ],
   "source": [
    "# Como lista\n",
    "\n",
    "def recorrer_parametros_arbitrarios(parametro_fijo, *arbitrarios):\n",
    "    \n",
    "    print (parametro_fijo)\n",
    "    for argumento in arbitrarios:\n",
    "        print (argumento)\n",
    "\n",
    "recorrer_parametros_arbitrarios('Fixed', 'arbitrario 1', 'arbitrario 2', 'arbitrario 3')\n",
    "\n",
    "# Estos argumentos llegarán a la función en forma de LISTA.\n",
    "# Si una función espera recibir parámetros fijos y arbitrarios,\n",
    "# los arbitrarios siempre deben suceder a los fijos"
   ]
  },
  {
   "cell_type": "code",
   "execution_count": 2,
   "metadata": {},
   "outputs": [
    {
     "name": "stdout",
     "output_type": "stream",
     "text": [
      "('tercero', 3)\n",
      "1\n",
      "2\n"
     ]
    }
   ],
   "source": [
    "# Como diccionario\n",
    "\n",
    "def varios(param1, param2, **otros):\n",
    "    \n",
    "    for i in otros.items():\n",
    "        print (i)\n",
    "    print (param1)\n",
    "    print (param2)\n",
    "    \n",
    "varios(1, 2, tercero = 3)\n",
    "\n",
    "#En el diccionario hay que pasar clave (solo un string) = valor (puede ser un número o un string)"
   ]
  },
  {
   "cell_type": "markdown",
   "metadata": {},
   "source": [
    "## Lambda"
   ]
  },
  {
   "cell_type": "code",
   "execution_count": 14,
   "metadata": {},
   "outputs": [
    {
     "name": "stdout",
     "output_type": "stream",
     "text": [
      "6\n"
     ]
    }
   ],
   "source": [
    "#Solo para expresiones. No pueden contener bucles ni utilizar return para regresar un valor.\n",
    "#La sintaxis para crearla es: Lambda <parámetros>:<expresión></expresión></parámetros>\n",
    "\n",
    "print ((lambda x: x*2)(3))\n",
    "Sol = 6"
   ]
  },
  {
   "cell_type": "code",
   "execution_count": 18,
   "metadata": {},
   "outputs": [
    {
     "name": "stdout",
     "output_type": "stream",
     "text": [
      "15\n"
     ]
    }
   ],
   "source": [
    "print (4 + 2 * (lambda x,y: x*y)(2,3)-1)"
   ]
  },
  {
   "cell_type": "code",
   "execution_count": 19,
   "metadata": {},
   "outputs": [
    {
     "name": "stdout",
     "output_type": "stream",
     "text": [
      "7.0\n"
     ]
    }
   ],
   "source": [
    "print(4 + 2 * (lambda x,y: x/y)(4,2)-1)"
   ]
  },
  {
   "cell_type": "code",
   "execution_count": 1,
   "metadata": {},
   "outputs": [
    {
     "name": "stdout",
     "output_type": "stream",
     "text": [
      "[-5, -4, -3, -2, -1]\n"
     ]
    }
   ],
   "source": [
    "print (list (filter ((lambda x: x < 0), range (-5,5))))"
   ]
  },
  {
   "cell_type": "markdown",
   "metadata": {},
   "source": [
    "## Funciones de alto orden"
   ]
  },
  {
   "cell_type": "markdown",
   "metadata": {},
   "source": [
    "- map(func,lista) → Devuelve una lista aplicando func a cada elemento.\n",
    "\n",
    "\n",
    "- reduce(func,lista,(primero)) → Devuelve un valor aplicando la operación binaria func.\n",
    "\n",
    "\n",
    "- filter(pred, lista) → Devuelve una lista filtrando con el predicado."
   ]
  },
  {
   "cell_type": "code",
   "execution_count": 7,
   "metadata": {},
   "outputs": [
    {
     "name": "stdout",
     "output_type": "stream",
     "text": [
      "[4, 8, 12, 16]\n"
     ]
    }
   ],
   "source": [
    "# Ejemplo map\n",
    "\n",
    "lista = [2, 4, 6, 8]\n",
    "\n",
    "print(list(map(lambda x: x*2,lista))) # Para que devuelva la lista debemos castear"
   ]
  },
  {
   "cell_type": "code",
   "execution_count": 1,
   "metadata": {},
   "outputs": [
    {
     "name": "stdout",
     "output_type": "stream",
     "text": [
      "[2, 4, 6, 8]\n"
     ]
    }
   ],
   "source": [
    "def addition(n):\n",
    "    return n + n\n",
    "numbers = (1, 2, 3, 4)\n",
    "result = list(map(addition, numbers))\n",
    "print(result)"
   ]
  },
  {
   "cell_type": "code",
   "execution_count": 11,
   "metadata": {},
   "outputs": [
    {
     "name": "stdout",
     "output_type": "stream",
     "text": [
      "20\n"
     ]
    }
   ],
   "source": [
    "# Ejemplo reduce\n",
    "\n",
    "import functools\n",
    "\n",
    "lista=[2,4,6,8]\n",
    "\n",
    "print(functools.reduce(lambda x,y: x+y,lista))"
   ]
  },
  {
   "cell_type": "code",
   "execution_count": 16,
   "metadata": {},
   "outputs": [
    {
     "name": "stdout",
     "output_type": "stream",
     "text": [
      " hola como estas.\n"
     ]
    }
   ],
   "source": [
    "import functools\n",
    "\n",
    "lista = [\"hola \",\"como \",\"estas.\"]\n",
    "\n",
    "print (\" %s\" %functools.reduce (lambda x, y: x+y, lista))"
   ]
  },
  {
   "cell_type": "code",
   "execution_count": 15,
   "metadata": {},
   "outputs": [
    {
     "name": "stdout",
     "output_type": "stream",
     "text": [
      "[2, 3, 5, 6]\n"
     ]
    }
   ],
   "source": [
    "# Ejemplo filter\n",
    "\n",
    "def positivos(numeros):\n",
    "\n",
    "    return list(filter(lambda n: n >= 0, numeros))\n",
    "\n",
    "print(positivos([2,3,-4,5,6]))"
   ]
  },
  {
   "cell_type": "code",
   "execution_count": 17,
   "metadata": {},
   "outputs": [
    {
     "name": "stdout",
     "output_type": "stream",
     "text": [
      "[-5, -4, -3, -2, -1]\n"
     ]
    }
   ],
   "source": [
    "print (list (filter ((lambda x: x < 0), range (-5,5))))"
   ]
  },
  {
   "cell_type": "markdown",
   "metadata": {},
   "source": [
    "## Bloque Main"
   ]
  },
  {
   "cell_type": "markdown",
   "metadata": {},
   "source": [
    "Realizaremos un programa en el que el usuario vaya introduciendo frases hasta que teclee 'basta', estas frases las almacenaremos en una lista, posteriormente, iremos almacenando en una nueva lista todas las frases que contengan la letra 'a', finalmente desde el cuerpo principal del programa mostraremos estas frases por pantalla.\n",
    "\n",
    "PD: En estas funciones iremos introduciendo comentarios de varias líneas para documentar correctamente las funciones e incluir ayuda.\n",
    "\n",
    "1. Obtenemos todas las frases"
   ]
  },
  {
   "cell_type": "code",
   "execution_count": 16,
   "metadata": {},
   "outputs": [],
   "source": [
    "def get_phrases():\n",
    "    \"\"\"\n",
    "    Función que solicita frases al usuario hasta que \n",
    "    el usuario teclea 'basta'\n",
    "    \n",
    "    input: None\n",
    "    output: list[]\n",
    "    \"\"\"\n",
    "    # Lista vacía para almacenar frases\n",
    "    frases = []\n",
    "    \n",
    "    respuesta = input()\n",
    "    \n",
    "    while respuesta != 'basta':\n",
    "        frases.append(respuesta)\n",
    "        \n",
    "        respuesta = input()\n",
    "        \n",
    "    return frases      "
   ]
  },
  {
   "cell_type": "markdown",
   "metadata": {},
   "source": [
    "2. Filtraremos por todas las frases que contengan la letra 'a'"
   ]
  },
  {
   "cell_type": "code",
   "execution_count": 17,
   "metadata": {},
   "outputs": [],
   "source": [
    "def filter_phrases(lista_frases):\n",
    "    \"\"\"\n",
    "    Función que recibe una lista con frases y las \n",
    "    va filtrando iterativamente, quedándose solamente con\n",
    "    aquellas frases que tienen la letra 'a'\n",
    "    \n",
    "    input: list\n",
    "    output: list\n",
    "    \"\"\"\n",
    "    \n",
    "    # Definimos una nueva lista para almacenar todas las frases con la letra a\n",
    "    frases_con_a = []\n",
    "    \n",
    "    for item in lista_frases:\n",
    "        if 'a' in item:\n",
    "            frases_con_a.append(item)\n",
    "        else:\n",
    "            pass\n",
    "        \n",
    "    return frases_con_a"
   ]
  },
  {
   "cell_type": "markdown",
   "metadata": {},
   "source": [
    "3. Creamos una función que simplemente irá mostrando por pantalla cada frase de la lista filtrada anteriormente"
   ]
  },
  {
   "cell_type": "code",
   "execution_count": 18,
   "metadata": {},
   "outputs": [],
   "source": [
    "def show_filtered_phrases(frases_filtradas):\n",
    "    \"\"\"\n",
    "    Función que devuelve iterativamente todas las \n",
    "    frases filtradas.\n",
    "    \n",
    "    input: list\n",
    "    output: None\n",
    "    \"\"\"\n",
    "    \n",
    "    # Utilizamos un bucle for para mostrar todas las palabras\n",
    "    \n",
    "    for frase in range(len(frases_filtradas)):\n",
    "        print('Frase en posición {} --> {} '.format(frase, frases_filtradas[frase]))\n",
    "        \n",
    "    # Como se puede comprobar aquí estamos utilizando format\n",
    "    # para imprimir, lo que hacemos es mostrar más ordenado\n",
    "    # lo que esté entre corchetes.\n",
    "    \n",
    "    # No return"
   ]
  },
  {
   "cell_type": "markdown",
   "metadata": {},
   "source": [
    "4. Definimos el bloque main"
   ]
  },
  {
   "cell_type": "code",
   "execution_count": 19,
   "metadata": {},
   "outputs": [
    {
     "name": "stdout",
     "output_type": "stream",
     "text": [
      "hola\n",
      "adios\n",
      "esta frase si va a aparecer por pantalla\n",
      "screen\n",
      "coffe\n",
      "null phrase\n",
      "bye\n",
      "mostrar\n",
      "basta\n",
      "Frase en posición 0 --> hola \n",
      "Frase en posición 1 --> adios \n",
      "Frase en posición 2 --> esta frase si va a aparecer por pantalla \n",
      "Frase en posición 3 --> null phrase \n",
      "Frase en posición 4 --> mostrar \n"
     ]
    }
   ],
   "source": [
    "if __name__ == '__main__':\n",
    "    todas_las_frases = get_phrases()\n",
    "    frases_clean = filter_phrases(lista_frases=todas_las_frases)\n",
    "    show_filtered_phrases(frases_filtradas=frases_clean)"
   ]
  }
 ],
 "metadata": {
  "kernelspec": {
   "display_name": "Python 3 (ipykernel)",
   "language": "python",
   "name": "python3"
  },
  "language_info": {
   "codemirror_mode": {
    "name": "ipython",
    "version": 3
   },
   "file_extension": ".py",
   "mimetype": "text/x-python",
   "name": "python",
   "nbconvert_exporter": "python",
   "pygments_lexer": "ipython3",
   "version": "3.9.12"
  }
 },
 "nbformat": 4,
 "nbformat_minor": 2
}
