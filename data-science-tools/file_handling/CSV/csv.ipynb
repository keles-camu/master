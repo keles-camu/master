{
 "cells": [
  {
   "cell_type": "markdown",
   "id": "fdc0731b",
   "metadata": {},
   "source": [
    "# CSV"
   ]
  },
  {
   "cell_type": "markdown",
   "id": "1905b9ac",
   "metadata": {},
   "source": [
    "## Read"
   ]
  },
  {
   "cell_type": "code",
   "execution_count": 1,
   "id": "1cd43998",
   "metadata": {},
   "outputs": [],
   "source": [
    "import csv"
   ]
  },
  {
   "cell_type": "code",
   "execution_count": 2,
   "id": "4d9f3126",
   "metadata": {},
   "outputs": [
    {
     "data": {
      "text/plain": [
       "<_io.TextIOWrapper name='compras.csv' mode='rt' encoding='UTF-8'>"
      ]
     },
     "execution_count": 2,
     "metadata": {},
     "output_type": "execute_result"
    }
   ],
   "source": [
    "compras_file = open('compras.csv', mode = 'rt')\n",
    "compras_file"
   ]
  },
  {
   "cell_type": "code",
   "execution_count": 3,
   "id": "c8770261",
   "metadata": {},
   "outputs": [
    {
     "data": {
      "text/plain": [
       "<_csv.reader at 0x7fde20363580>"
      ]
     },
     "execution_count": 3,
     "metadata": {},
     "output_type": "execute_result"
    }
   ],
   "source": [
    "reader_compras = csv.reader (compras_file)\n",
    "reader_compras"
   ]
  },
  {
   "cell_type": "code",
   "execution_count": 4,
   "id": "9c08aae0",
   "metadata": {},
   "outputs": [
    {
     "data": {
      "text/plain": [
       "[['\\ufeffFECHA', 'ARTICULO', 'CUANTIA', 'PRECIO UNIDAD', 'TOTAL'],\n",
       " ['15/03/2020', 'Barra Pan', '2', '0.55', '1.1'],\n",
       " ['16/03/2020', 'Bolígrafo Bic', '3', '0.22', '0.66'],\n",
       " ['17/03/2020', 'Cuaderno', '1', '1.25', '1.25'],\n",
       " ['18/03/2020', 'Refresco', '5', '0.8', '4'],\n",
       " ['19/03/2020', 'Silla Gamer', '1', '153', '153'],\n",
       " ['20/03/2020', 'Paquete folios A4', '3', '2.48', '7.44'],\n",
       " ['21/03/2020', 'Pack x6 Vaso cristal', '2', '6', '12'],\n",
       " ['22/03/2020', 'Manzanas (Kg.)', '1', '2.48', '2.48'],\n",
       " ['23/03/2020', 'Naranjas (Kg.)', '2', '1.29', '2.58'],\n",
       " ['24/03/2020', 'Naranja Malla', '1', '1.5', '1.5']]"
      ]
     },
     "execution_count": 4,
     "metadata": {},
     "output_type": "execute_result"
    }
   ],
   "source": [
    "clean_compras = list(reader_compras)\n",
    "clean_compras"
   ]
  },
  {
   "cell_type": "markdown",
   "id": "d5effd05",
   "metadata": {},
   "source": [
    "## Write"
   ]
  },
  {
   "cell_type": "code",
   "execution_count": 5,
   "id": "d37a31ca",
   "metadata": {},
   "outputs": [
    {
     "data": {
      "text/plain": [
       "[['\\ufeffFECHA', 'ARTICULO', 'CUANTIA', 'PRECIO UNIDAD', 'TOTAL'],\n",
       " ['15/03/2020', 'Barra Pan', '2', '0.55', '1.1'],\n",
       " ['16/03/2020', 'Bolígrafo Bic', '3', '0.22', '0.66'],\n",
       " ['17/03/2020', 'Cuaderno', '1', '1.25', '1.25'],\n",
       " ['18/03/2020', 'Refresco', '5', '0.8', '4'],\n",
       " ['19/03/2020', 'Silla Gamer', '1', '153', '153'],\n",
       " ['20/03/2020', 'Paquete folios A4', '3', '2.48', '7.44'],\n",
       " ['21/03/2020', 'Pack x6 Vaso cristal', '2', '6', '12'],\n",
       " ['22/03/2020', 'Manzanas (Kg.)', '1', '2.48', '2.48'],\n",
       " ['23/03/2020', 'Naranjas (Kg.)', '2', '1.29', '2.58'],\n",
       " ['24/03/2020', 'Naranja Malla', '1', '1.5', '1.5'],\n",
       " ['24/03/2020', 'Nueva compra 1', '1', '1', '1'],\n",
       " ['24/03/2020', 'Nueva compra 2', '2', '1.25', '2.5'],\n",
       " ['24/03/2020', 'Nueva compra 3', '1', '2', '2']]"
      ]
     },
     "execution_count": 5,
     "metadata": {},
     "output_type": "execute_result"
    }
   ],
   "source": [
    "clean_compras.append(['24/03/2020', 'Nueva compra 1', '1', '1', '1'])\n",
    "clean_compras.append(['24/03/2020', 'Nueva compra 2', '2', '1.25', '2.5'])\n",
    "clean_compras.append(['24/03/2020', 'Nueva compra 3', '1', '2', '2'])\n",
    "\n",
    "clean_compras"
   ]
  },
  {
   "cell_type": "code",
   "execution_count": 6,
   "id": "b8bfaf04",
   "metadata": {},
   "outputs": [],
   "source": [
    "file = open('compras_actualizadas.csv', 'wt', newline = '')\n",
    "#print(file.mode)\n",
    "writer = csv.writer(file)\n",
    "writer.writerows(clean_compras)\n",
    "file.close()"
   ]
  }
 ],
 "metadata": {
  "kernelspec": {
   "display_name": "Python 3 (ipykernel)",
   "language": "python",
   "name": "python3"
  },
  "language_info": {
   "codemirror_mode": {
    "name": "ipython",
    "version": 3
   },
   "file_extension": ".py",
   "mimetype": "text/x-python",
   "name": "python",
   "nbconvert_exporter": "python",
   "pygments_lexer": "ipython3",
   "version": "3.11.2"
  }
 },
 "nbformat": 4,
 "nbformat_minor": 5
}
