{
 "cells": [
  {
   "cell_type": "markdown",
   "id": "bcbe8b14",
   "metadata": {},
   "source": [
    "# JSON"
   ]
  },
  {
   "cell_type": "markdown",
   "id": "8a27802d",
   "metadata": {},
   "source": [
    "## Read"
   ]
  },
  {
   "cell_type": "code",
   "execution_count": 1,
   "id": "41e7427e",
   "metadata": {},
   "outputs": [],
   "source": [
    "import json"
   ]
  },
  {
   "cell_type": "code",
   "execution_count": 2,
   "id": "89a9800b",
   "metadata": {},
   "outputs": [
    {
     "data": {
      "text/plain": [
       "{'squadName': 'Super hero squad',\n",
       " 'homeTown': 'Metro City',\n",
       " 'formed': 2016,\n",
       " 'secretBase': 'Super tower',\n",
       " 'active': True,\n",
       " 'members': [{'name': 'Molecule Man',\n",
       "   'age': 29,\n",
       "   'secretIdentity': 'Dan Jukes',\n",
       "   'powers': ['Radiation resistance', 'Turning tiny', 'Radiation blast']},\n",
       "  {'name': 'Madame Uppercut',\n",
       "   'age': 39,\n",
       "   'secretIdentity': 'Jane Wilson',\n",
       "   'powers': ['Million tonne punch',\n",
       "    'Damage resistance',\n",
       "    'Superhuman reflexes']}]}"
      ]
     },
     "execution_count": 2,
     "metadata": {},
     "output_type": "execute_result"
    }
   ],
   "source": [
    "with open('superheroes.json', 'rt') as f:\n",
    "    superheroes = json.load(f)\n",
    "superheroes"
   ]
  },
  {
   "cell_type": "code",
   "execution_count": 3,
   "id": "77f919d1",
   "metadata": {},
   "outputs": [
    {
     "data": {
      "text/plain": [
       "dict_keys(['squadName', 'homeTown', 'formed', 'secretBase', 'active', 'members'])"
      ]
     },
     "execution_count": 3,
     "metadata": {},
     "output_type": "execute_result"
    }
   ],
   "source": [
    "superheroes.keys()"
   ]
  },
  {
   "cell_type": "code",
   "execution_count": 4,
   "id": "95cc0931",
   "metadata": {},
   "outputs": [
    {
     "data": {
      "text/plain": [
       "'Metro City'"
      ]
     },
     "execution_count": 4,
     "metadata": {},
     "output_type": "execute_result"
    }
   ],
   "source": [
    "superheroes['homeTown']"
   ]
  },
  {
   "cell_type": "code",
   "execution_count": 5,
   "id": "ec60c243",
   "metadata": {},
   "outputs": [
    {
     "data": {
      "text/plain": [
       "'Superhuman reflexes'"
      ]
     },
     "execution_count": 5,
     "metadata": {},
     "output_type": "execute_result"
    }
   ],
   "source": [
    "superheroes['members'][1]['powers'][2]"
   ]
  },
  {
   "cell_type": "code",
   "execution_count": 6,
   "id": "33a0e627",
   "metadata": {},
   "outputs": [
    {
     "name": "stdout",
     "output_type": "stream",
     "text": [
      "{'name': 'Molecule Man', 'age': 29, 'secretIdentity': 'Dan Jukes', 'powers': ['Radiation resistance', 'Turning tiny', 'Radiation blast']} \n",
      "\n",
      "{'name': 'Madame Uppercut', 'age': 39, 'secretIdentity': 'Jane Wilson', 'powers': ['Million tonne punch', 'Damage resistance', 'Superhuman reflexes']} \n",
      "\n"
     ]
    }
   ],
   "source": [
    "for member in superheroes['members']:\n",
    "    print(member, '\\n')"
   ]
  },
  {
   "cell_type": "code",
   "execution_count": 7,
   "id": "54e6c601",
   "metadata": {},
   "outputs": [
    {
     "name": "stdout",
     "output_type": "stream",
     "text": [
      "Molecule Man\n",
      "29\n",
      "Dan Jukes\n",
      "['Radiation resistance', 'Turning tiny', 'Radiation blast']\n",
      "Madame Uppercut\n",
      "39\n",
      "Jane Wilson\n",
      "['Million tonne punch', 'Damage resistance', 'Superhuman reflexes']\n"
     ]
    }
   ],
   "source": [
    "for member in superheroes ['members']:\n",
    "    for value in member.keys():\n",
    "        print(member[value])"
   ]
  },
  {
   "cell_type": "markdown",
   "id": "6f417773",
   "metadata": {},
   "source": [
    "## Write"
   ]
  },
  {
   "cell_type": "code",
   "execution_count": 8,
   "id": "ff75ddaa",
   "metadata": {},
   "outputs": [
    {
     "data": {
      "text/plain": [
       "{'squadName': 'Super hero squad',\n",
       " 'homeTown': 'Metro City',\n",
       " 'formed': 2016,\n",
       " 'secretBase': 'Super tower',\n",
       " 'active': True,\n",
       " 'members': [{'name': 'Molecule Man',\n",
       "   'age': 29,\n",
       "   'secretIdentity': 'Dan Jukes',\n",
       "   'powers': ['Radiation resistance', 'Turning tiny', 'Radiation blast']},\n",
       "  {'name': 'Madame Uppercut',\n",
       "   'age': 39,\n",
       "   'secretIdentity': 'Jane Wilson',\n",
       "   'powers': ['Million tonne punch',\n",
       "    'Damage resistance',\n",
       "    'Superhuman reflexes']}],\n",
       " 'new_superheroe': {'name': 'Eternal Flame',\n",
       "  'age': 1000000,\n",
       "  'secretIdentity': 'Unknown',\n",
       "  'powers': ['Immortality',\n",
       "   'Heat Immunity',\n",
       "   'Inferno',\n",
       "   'Teleportation',\n",
       "   'Interdimensional travel']}}"
      ]
     },
     "execution_count": 8,
     "metadata": {},
     "output_type": "execute_result"
    }
   ],
   "source": [
    "new_superheroe = {\n",
    "    \"name\": \"Eternal Flame\",\n",
    "    \"age\": 1000000,\n",
    "    \"secretIdentity\": \"Unknown\",\n",
    "    \"powers\": [\n",
    "        \"Immortality\",\n",
    "        \"Heat Immunity\",\n",
    "        \"Inferno\",\n",
    "        \"Teleportation\",\n",
    "        \"Interdimensional travel\"\n",
    "    ]\n",
    "}\n",
    "\n",
    "superheroes.update({\"new_superheroe\": new_superheroe})\n",
    "\n",
    "superheroes"
   ]
  },
  {
   "cell_type": "code",
   "execution_count": 9,
   "id": "1cd5536f",
   "metadata": {},
   "outputs": [],
   "source": [
    "with open('superheroes_update.json', 'w') as outfile:\n",
    "    json.dump(superheroes, outfile) # json.dump toma un diccionario de datos y guarda como un JSON"
   ]
  },
  {
   "cell_type": "code",
   "execution_count": 10,
   "id": "59d659cd",
   "metadata": {},
   "outputs": [],
   "source": [
    "with open('superheroes_update_ok.json', 'w') as outfile:\n",
    "    json.dump(superheroes, outfile, indent=4)"
   ]
  },
  {
   "cell_type": "code",
   "execution_count": null,
   "id": "663df5f1",
   "metadata": {},
   "outputs": [],
   "source": []
  },
  {
   "cell_type": "code",
   "execution_count": 11,
   "id": "e0b27153",
   "metadata": {},
   "outputs": [
    {
     "name": "stdout",
     "output_type": "stream",
     "text": [
      "{\"IBEX_35\" : {\"ACCIONA\" : [95.9500, 14.70, 95.9500, 95.9500, 6.302], \"B.SANTANDER\" : [2.2195, 9.99, 2.2195, 2.2195, 203.685], \"IBERDROLA\" : [8.5880, 4.32, 8.5880, 8.5880, 98.298]}, \"IBEX_MEDIUM_CAP\" : {\"EUSKALTEL\" : [6.1500, 3.71, 6.1500, 6.0200, 947], \"LIBERBANK\" : [0.1552, 7.48, 0.1648, 0.1551, 304.384], \"SACYR\" : [1.1960, 4.09, 1.2260, 1.1960, 125.271]}}\n",
      "\n",
      "\n",
      "{\n",
      "    \"IBEX_35\" : {\n",
      "        \"ACCIONA\" : [95.9500, 14.70, 95.9500, 95.9500, 6.302],\n",
      "        \"B.SANTANDER\" : [2.2195, 9.99, 2.2195, 2.2195, 203.685],\n",
      "        \"IBERDROLA\" : [8.5880, 4.32, 8.5880, 8.5880, 98.298]\n",
      "    },\n",
      "    \"IBEX_MEDIUM_CAP\" : {\n",
      "        \"EUSKALTEL\" : [6.1500, 3.71, 6.1500, 6.0200, 947],\n",
      "        \"LIBERBANK\" : [0.1552, 7.48, 0.1648, 0.1551, 304.384],\n",
      "        \"SACYR\" : [1.1960, 4.09, 1.2260, 1.1960, 125.271]\n",
      "    }\n",
      "}\n",
      "r\n"
     ]
    }
   ],
   "source": [
    "json_file = open('mercados.json')\n",
    "\n",
    "print(json_file.read())\n",
    "\n",
    "print(json_file.mode)"
   ]
  },
  {
   "cell_type": "code",
   "execution_count": 12,
   "id": "8b009207",
   "metadata": {},
   "outputs": [
    {
     "name": "stdout",
     "output_type": "stream",
     "text": [
      "\"mercados.json\"\n"
     ]
    }
   ],
   "source": [
    "import json\n",
    "\n",
    "x = {\n",
    "  \"name\": \"John\",\n",
    "  \"age\": 30,\n",
    "  \"city\": \"New York\"\n",
    "}\n",
    "\n",
    "y = json.dumps('mercados.json')\n",
    "\n",
    "print(y)"
   ]
  },
  {
   "cell_type": "code",
   "execution_count": 13,
   "id": "d22c9290",
   "metadata": {},
   "outputs": [
    {
     "name": "stdout",
     "output_type": "stream",
     "text": [
      "30\n"
     ]
    }
   ],
   "source": [
    "import json\n",
    "\n",
    "x =  '{ \"name\":\"John\", \"age\":30, \"city\":\"New York\"}'\n",
    "\n",
    "y = json.loads(x)\n",
    "\n",
    "print(y[\"age\"]) "
   ]
  },
  {
   "cell_type": "code",
   "execution_count": null,
   "id": "70ecc7a9",
   "metadata": {},
   "outputs": [],
   "source": []
  }
 ],
 "metadata": {
  "kernelspec": {
   "display_name": "Python 3 (ipykernel)",
   "language": "python",
   "name": "python3"
  },
  "language_info": {
   "codemirror_mode": {
    "name": "ipython",
    "version": 3
   },
   "file_extension": ".py",
   "mimetype": "text/x-python",
   "name": "python",
   "nbconvert_exporter": "python",
   "pygments_lexer": "ipython3",
   "version": "3.9.12"
  }
 },
 "nbformat": 4,
 "nbformat_minor": 5
}
