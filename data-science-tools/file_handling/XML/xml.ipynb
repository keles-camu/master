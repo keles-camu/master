{
 "cells": [
  {
   "cell_type": "markdown",
   "id": "b0465edc",
   "metadata": {},
   "source": [
    "# XML"
   ]
  },
  {
   "cell_type": "markdown",
   "id": "67250f10",
   "metadata": {},
   "source": [
    "## Read"
   ]
  },
  {
   "cell_type": "code",
   "execution_count": 1,
   "id": "15aa5648",
   "metadata": {},
   "outputs": [],
   "source": [
    "import xml.dom.minidom"
   ]
  },
  {
   "cell_type": "code",
   "execution_count": 2,
   "id": "15e883ea",
   "metadata": {},
   "outputs": [
    {
     "data": {
      "text/plain": [
       "<xml.dom.minidom.Document at 0x7f8bf8008100>"
      ]
     },
     "execution_count": 2,
     "metadata": {},
     "output_type": "execute_result"
    }
   ],
   "source": [
    "#Parseamos el archivo xml\n",
    "raw_xml = xml.dom.minidom.parse('books.xml')\n",
    "raw_xml"
   ]
  },
  {
   "cell_type": "code",
   "execution_count": 3,
   "id": "7f3cefd5",
   "metadata": {},
   "outputs": [
    {
     "data": {
      "text/plain": [
       "<DOM Element: Catalog at 0x7f8c183e2790>"
      ]
     },
     "execution_count": 3,
     "metadata": {},
     "output_type": "execute_result"
    }
   ],
   "source": [
    "#Generalmente en XML hay un elemento principal que abre y cierra el XML (en el ej. Catalog)\n",
    "#Para poder procesarlo se usa la función __documentElement__\n",
    "\n",
    "libros_object = raw_xml.documentElement\n",
    "libros_object"
   ]
  },
  {
   "cell_type": "code",
   "execution_count": 4,
   "id": "0bcc62b9",
   "metadata": {},
   "outputs": [
    {
     "data": {
      "text/plain": [
       "[<DOM Element: Book at 0x7f8c183e2af0>, <DOM Element: Book at 0x7f8bf80169d0>]"
      ]
     },
     "execution_count": 4,
     "metadata": {},
     "output_type": "execute_result"
    }
   ],
   "source": [
    "#El objeto DOM ha encontrado el elemento Catalog\n",
    "#Ahora podremos iterar y procesar todos sus elementos o nodos\n",
    "#En este caso, el elemento Book está bajo el elemento general Catalog\n",
    "#Utilizaremos la función __getElementsByTagName(Nombre_Nodo)__\n",
    "\n",
    "books = libros_object.getElementsByTagName('Book') # En lugar de utilizar “documentElement”, sw identifica a los diferentes elementos por el nombre de su etiqueta \n",
    "books"
   ]
  },
  {
   "cell_type": "code",
   "execution_count": 5,
   "id": "315e10b4",
   "metadata": {},
   "outputs": [
    {
     "name": "stdout",
     "output_type": "stream",
     "text": [
      "[<DOM Element: Author at 0x7f8bf8016670>]\n",
      "[<DOM Element: Author at 0x7f8bf8016a60>]\n"
     ]
    }
   ],
   "source": [
    "#Si atendemos a la lista capturada, tenemos dos objetos DOM en los que el elemento es Book\n",
    "#Ahora, iteramos sobre el resto de elementos de cada libro\n",
    "#Estamos realizando la misma operación de Catalog a Book que de Book a Autor\n",
    "#Por lo tanto de nuevo utilizaremos __getElementsByTagName(Nombre_Nodo)__\n",
    "#en este caso, para ir accediendo a cada campo, de forma iterativa con un bucle for\n",
    "\n",
    "for item in books:\n",
    "    Author = item.getElementsByTagName('Author')\n",
    "    print(Author)"
   ]
  },
  {
   "cell_type": "code",
   "execution_count": 6,
   "id": "bbbd8d7e",
   "metadata": {},
   "outputs": [
    {
     "name": "stdout",
     "output_type": "stream",
     "text": [
      "1\n",
      "1\n"
     ]
    }
   ],
   "source": [
    "#Como no hay más elementos sobre los que iterar\n",
    "#si no que queremos acceder directamente al contenido,\n",
    "#tenemos que acceder a los elementos de las listas DOM Element.\n",
    "#Comprobamos que cada lista son de longitud 1\n",
    "\n",
    "for item in books:\n",
    "    print(len(item.getElementsByTagName('Author')))\n",
    "    #Author = item.getElementsByTagName('Author')\n",
    "    #print(Author)"
   ]
  },
  {
   "cell_type": "code",
   "execution_count": 7,
   "id": "23477007",
   "metadata": {},
   "outputs": [
    {
     "name": "stdout",
     "output_type": "stream",
     "text": [
      "[<DOM Text node \"'Garghentin'...\">]\n",
      "[<DOM Text node \"'Garcia, De'...\">]\n"
     ]
    }
   ],
   "source": [
    "#Las listas son indexables por [0]\n",
    "#Si hubiera más elementos sobre Author, se crearía un nuevo bucle for para recorrer estos subelementos\n",
    "#Sobre lista del elemento Author, para acceder al contenido, se usa la función __childNodes__ que devuelve una nueva lista\n",
    "\n",
    "for item in books:\n",
    "    Author = item.getElementsByTagName('Author')[0].childNodes\n",
    "    print(Author)"
   ]
  },
  {
   "cell_type": "code",
   "execution_count": 8,
   "id": "e94a9df8",
   "metadata": {},
   "outputs": [
    {
     "name": "stdout",
     "output_type": "stream",
     "text": [
      "1\n",
      "1\n"
     ]
    }
   ],
   "source": [
    "#De nuevo hemos obtenido una lista por cada autor de cada libro\n",
    "#Comprobamos la longitud de estas listas\n",
    "\n",
    "for item in books:\n",
    "    print(len(item.getElementsByTagName('Author')[0].childNodes))"
   ]
  },
  {
   "cell_type": "code",
   "execution_count": 9,
   "id": "868a490a",
   "metadata": {},
   "outputs": [
    {
     "name": "stdout",
     "output_type": "stream",
     "text": [
      "<DOM Text node \"'Garghentin'...\">\n",
      "<DOM Text node \"'Garcia, De'...\">\n"
     ]
    }
   ],
   "source": [
    "#De nuevo, hay solamente un autor, por lo tanto son indexables por [0]\n",
    "\n",
    "for item in books:\n",
    "    Author = item.getElementsByTagName('Author')[0].childNodes[0]\n",
    "    print(Author)"
   ]
  },
  {
   "cell_type": "code",
   "execution_count": 10,
   "id": "5c7a2d04",
   "metadata": {},
   "outputs": [
    {
     "name": "stdout",
     "output_type": "stream",
     "text": [
      "Garghentini, Davide\n",
      "Garcia, Debra\n"
     ]
    }
   ],
   "source": [
    "#Finalmente, estamos en un nodo conel atributo Text\n",
    "#Para recuperar este texto, hacemos uso de la función __.data__\n",
    "\n",
    "for item in books:\n",
    "    Author = item.getElementsByTagName('Author')[0].childNodes[0].data\n",
    "    print(Author)"
   ]
  },
  {
   "cell_type": "code",
   "execution_count": 11,
   "id": "326bc5ed",
   "metadata": {},
   "outputs": [
    {
     "name": "stdout",
     "output_type": "stream",
     "text": [
      "Garghentini, Davide\n",
      "Garcia, Debra\n"
     ]
    }
   ],
   "source": [
    "#Para comprender este código de una forma más sencilla, en lugar de obtener un ítem por línea\n",
    "#se realizan nuevos bucles por si la longitud de las lista es diferente\n",
    "#Para ello se reescribe el anterior código a lo siguiente:\n",
    "\n",
    "for item in books:\n",
    "    target = 'Autor'\n",
    "    for tag in item.getElementsByTagName('Author'):\n",
    "        for nodo in tag.childNodes:\n",
    "            autor = nodo.data\n",
    "            print(autor)"
   ]
  },
  {
   "cell_type": "code",
   "execution_count": 12,
   "id": "c57cb177",
   "metadata": {},
   "outputs": [
    {
     "name": "stdout",
     "output_type": "stream",
     "text": [
      "Procesando libro ...\n",
      "\t * Autor: Garghentini, Davide \n",
      "\t * Título: XML Developer's Guide \n",
      "\t * Género: Computer \n",
      "\t * Precio: 44.95 \n",
      "\t * Fecha publicación: 2000-10-01 \n",
      "\t * Descripción: An in-depth look at creating applications\n",
      "      with XML. \n",
      "-------------------------\n",
      "Procesando libro ...\n",
      "\t * Autor: Garcia, Debra \n",
      "\t * Título: Midnight Rain \n",
      "\t * Género: Fantasy \n",
      "\t * Precio: 5.95 \n",
      "\t * Fecha publicación: 2000-12-16 \n",
      "\t * Descripción: A former architect battles corporate zombies,\n",
      "      an evil sorceress, and her own childhood to become queen\n",
      "      of the world. \n",
      "-------------------------\n"
     ]
    }
   ],
   "source": [
    "#Finalmente, podemos mostrar toda la información del XML iterando sobre los nodos hijos\n",
    "#del mismo modo que hemos realizado con el autor\n",
    "\n",
    "for item in books:\n",
    "    print('Procesando libro ...')\n",
    "    \n",
    "    Author = item.getElementsByTagName('Author')[0].childNodes[0].data\n",
    "    Title = item.getElementsByTagName('Title')[0].childNodes[0].data\n",
    "    Genre = item.getElementsByTagName('Genre')[0].childNodes[0].data\n",
    "    Price = item.getElementsByTagName('Price')[0].childNodes[0].data\n",
    "    PublishDate = item.getElementsByTagName('PublishDate')[0].childNodes[0].data\n",
    "    Description = item.getElementsByTagName('Description')[0].childNodes[0].data\n",
    "    \n",
    "    print('\\t * Autor: {} '.format(Author))\n",
    "    print('\\t * Título: {} '.format(Title))\n",
    "    print('\\t * Género: {} '.format(Genre))\n",
    "    print('\\t * Precio: {} '.format(Price))\n",
    "    print('\\t * Fecha publicación: {} '.format(PublishDate))\n",
    "    print('\\t * Descripción: {} '.format(Description))\n",
    "    print('-'*25)"
   ]
  },
  {
   "cell_type": "code",
   "execution_count": 13,
   "id": "d6d0253e",
   "metadata": {},
   "outputs": [
    {
     "name": "stdout",
     "output_type": "stream",
     "text": [
      "Procesando libro ...\n",
      "\t * Title: XML Developer's Guide \n",
      "\t * Genre: Computer \n",
      "\t * Price: 44.95 \n",
      "\t * PublishDate: 2000-10-01 \n",
      "\t * Description: An in-depth look at creating applications\n",
      "      with XML. \n",
      "-------------------------\n",
      "Procesando libro ...\n",
      "\t * Title: Midnight Rain \n",
      "\t * Genre: Fantasy \n",
      "\t * Price: 5.95 \n",
      "\t * PublishDate: 2000-12-16 \n",
      "\t * Description: A former architect battles corporate zombies,\n",
      "      an evil sorceress, and her own childhood to become queen\n",
      "      of the world. \n",
      "-------------------------\n"
     ]
    }
   ],
   "source": [
    "#Análogamente utilizando más bucles para los índices \n",
    "\n",
    "for item in books:\n",
    "    print('Procesando libro ...')\n",
    "    \n",
    "    target = ['Autor', 'Title', 'Genre', 'Price', 'PublishDate', 'Description']\n",
    "    \n",
    "    for elemento in target:\n",
    "        # Iteramos por cada elemento\n",
    "        for tag in item.getElementsByTagName(elemento):\n",
    "            # Iteramos por cada tag name\n",
    "            for nodo in tag.childNodes:\n",
    "                # Iteramos por cada nodo\n",
    "                final_data = nodo.data\n",
    "                print('\\t * {}: {} '.format(elemento, final_data))\n",
    "    print('-'*25)"
   ]
  },
  {
   "cell_type": "code",
   "execution_count": null,
   "id": "41ea86c5",
   "metadata": {},
   "outputs": [],
   "source": []
  }
 ],
 "metadata": {
  "kernelspec": {
   "display_name": "Python 3 (ipykernel)",
   "language": "python",
   "name": "python3"
  },
  "language_info": {
   "codemirror_mode": {
    "name": "ipython",
    "version": 3
   },
   "file_extension": ".py",
   "mimetype": "text/x-python",
   "name": "python",
   "nbconvert_exporter": "python",
   "pygments_lexer": "ipython3",
   "version": "3.9.12"
  }
 },
 "nbformat": 4,
 "nbformat_minor": 5
}
