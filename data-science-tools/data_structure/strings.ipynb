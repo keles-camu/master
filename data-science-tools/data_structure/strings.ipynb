{
 "cells": [
  {
   "cell_type": "markdown",
   "id": "d5855e7a",
   "metadata": {},
   "source": [
    "## Multiline Strings"
   ]
  },
  {
   "cell_type": "code",
   "execution_count": 1,
   "id": "0835b5ea",
   "metadata": {},
   "outputs": [
    {
     "name": "stdout",
     "output_type": "stream",
     "text": [
      "Lorem ipsum dolor sit amet,\n",
      "consectetur adipiscing elit,\n",
      "sed do eiusmod tempor incididunt\n",
      "ut labore et dolore magna aliqua.\n"
     ]
    }
   ],
   "source": [
    "a = '''Lorem ipsum dolor sit amet,\n",
    "consectetur adipiscing elit,\n",
    "sed do eiusmod tempor incididunt\n",
    "ut labore et dolore magna aliqua.'''\n",
    "print(a)"
   ]
  },
  {
   "cell_type": "markdown",
   "id": "fad1d341",
   "metadata": {},
   "source": [
    "## Operators"
   ]
  },
  {
   "cell_type": "code",
   "execution_count": 1,
   "id": "f32e9320",
   "metadata": {},
   "outputs": [
    {
     "name": "stdout",
     "output_type": "stream",
     "text": [
      "Hola Mundo\n"
     ]
    }
   ],
   "source": [
    "# Concatenar\n",
    "\n",
    "mensaje1 = 'Hola' + ' ' + 'Mundo'\n",
    "print(mensaje1)"
   ]
  },
  {
   "cell_type": "code",
   "execution_count": 2,
   "id": "fbcf992e",
   "metadata": {},
   "outputs": [
    {
     "name": "stdout",
     "output_type": "stream",
     "text": [
      "Hola Hola Hola Mundo\n"
     ]
    }
   ],
   "source": [
    "# Multiplicar\n",
    "\n",
    "mensaje2a = 'Hola ' * 3\n",
    "mensaje2b = 'Mundo'\n",
    "\n",
    "print(mensaje2a + mensaje2b) "
   ]
  },
  {
   "cell_type": "code",
   "execution_count": 3,
   "id": "ee2c2078",
   "metadata": {},
   "outputs": [
    {
     "name": "stdout",
     "output_type": "stream",
     "text": [
      "Hola Mundo\n"
     ]
    }
   ],
   "source": [
    "# Añadir\n",
    "\n",
    "mensaje3 = 'Hola'\n",
    "mensaje3 += ' '\n",
    "mensaje3 += 'Mundo'\n",
    "\n",
    "print(mensaje3) "
   ]
  },
  {
   "cell_type": "markdown",
   "id": "00ba2dcb",
   "metadata": {},
   "source": [
    "## To access elements of the string"
   ]
  },
  {
   "cell_type": "code",
   "execution_count": 2,
   "id": "b98f19e7",
   "metadata": {},
   "outputs": [
    {
     "name": "stdout",
     "output_type": "stream",
     "text": [
      "e\n"
     ]
    }
   ],
   "source": [
    "a = \"Hello, World!\"\n",
    "print(a[1])"
   ]
  },
  {
   "cell_type": "markdown",
   "id": "26d5d5fe",
   "metadata": {},
   "source": [
    "## Looping Through a String"
   ]
  },
  {
   "cell_type": "code",
   "execution_count": 6,
   "id": "fa4dafa2",
   "metadata": {},
   "outputs": [
    {
     "name": "stdout",
     "output_type": "stream",
     "text": [
      "banana"
     ]
    }
   ],
   "source": [
    "for x in \"banana\":\n",
    "    print(x,end='')"
   ]
  },
  {
   "cell_type": "markdown",
   "id": "b2c60c8a",
   "metadata": {},
   "source": [
    "## String Length"
   ]
  },
  {
   "cell_type": "code",
   "execution_count": 4,
   "id": "da2f9f46",
   "metadata": {},
   "outputs": [
    {
     "name": "stdout",
     "output_type": "stream",
     "text": [
      "13\n"
     ]
    }
   ],
   "source": [
    "a = \"Hello, World!\"\n",
    "print(len(a))"
   ]
  },
  {
   "cell_type": "markdown",
   "id": "340495e5",
   "metadata": {},
   "source": [
    "## Check String"
   ]
  },
  {
   "cell_type": "code",
   "execution_count": 7,
   "id": "348fbefb",
   "metadata": {},
   "outputs": [
    {
     "name": "stdout",
     "output_type": "stream",
     "text": [
      "5\n"
     ]
    }
   ],
   "source": [
    "# Searches the string for a specified value and returns the position of where it was found\n",
    "\n",
    "mensaje_1 = \"Hola Mundo\"\n",
    "mensaje_2 = mensaje_1.find(\"Mundo\")\n",
    "\n",
    "print(mensaje_2)"
   ]
  },
  {
   "cell_type": "code",
   "execution_count": 5,
   "id": "33e82866",
   "metadata": {},
   "outputs": [
    {
     "name": "stdout",
     "output_type": "stream",
     "text": [
      "True\n"
     ]
    }
   ],
   "source": [
    "txt = \"The best things in life are free!\"\n",
    "print(\"free\" in txt)"
   ]
  },
  {
   "cell_type": "code",
   "execution_count": 6,
   "id": "7354e4d1",
   "metadata": {},
   "outputs": [
    {
     "name": "stdout",
     "output_type": "stream",
     "text": [
      "Yes, 'free' is present.\n"
     ]
    }
   ],
   "source": [
    "txt = \"The best things in life are free!\"\n",
    "if \"free\" in txt:\n",
    "    print(\"Yes, 'free' is present.\")"
   ]
  },
  {
   "cell_type": "code",
   "execution_count": 9,
   "id": "2084b88b",
   "metadata": {},
   "outputs": [
    {
     "name": "stdout",
     "output_type": "stream",
     "text": [
      "True\n"
     ]
    }
   ],
   "source": [
    "txt = \"The best things in life are free!\"\n",
    "print(\"expensive\" not in txt)"
   ]
  },
  {
   "cell_type": "code",
   "execution_count": 10,
   "id": "0c383b4b",
   "metadata": {},
   "outputs": [
    {
     "name": "stdout",
     "output_type": "stream",
     "text": [
      "No, 'expensive' is NOT present.\n"
     ]
    }
   ],
   "source": [
    "txt = \"The best things in life are free!\"\n",
    "if \"expensive\" not in txt:\n",
    "    print(\"No, 'expensive' is NOT present.\")"
   ]
  },
  {
   "cell_type": "markdown",
   "id": "30ca5cf6",
   "metadata": {},
   "source": [
    "## Slicing Strings"
   ]
  },
  {
   "cell_type": "code",
   "execution_count": 11,
   "id": "1ec4f563",
   "metadata": {},
   "outputs": [
    {
     "name": "stdout",
     "output_type": "stream",
     "text": [
      "llo\n"
     ]
    }
   ],
   "source": [
    "b = \"Hello, World!\"\n",
    "print(b[2:5])"
   ]
  },
  {
   "cell_type": "code",
   "execution_count": 12,
   "id": "f2a95497",
   "metadata": {},
   "outputs": [
    {
     "name": "stdout",
     "output_type": "stream",
     "text": [
      "Hello\n"
     ]
    }
   ],
   "source": [
    "b = \"Hello, World!\"\n",
    "print(b[:5])"
   ]
  },
  {
   "cell_type": "code",
   "execution_count": 13,
   "id": "f38580fa",
   "metadata": {},
   "outputs": [
    {
     "name": "stdout",
     "output_type": "stream",
     "text": [
      "orl\n"
     ]
    }
   ],
   "source": [
    "b = \"Hello, World!\"\n",
    "print(b[-5:-2])"
   ]
  },
  {
   "cell_type": "markdown",
   "id": "d36dbd6f",
   "metadata": {},
   "source": [
    "## Modify Strings"
   ]
  },
  {
   "cell_type": "code",
   "execution_count": 14,
   "id": "bdc3451b",
   "metadata": {},
   "outputs": [
    {
     "name": "stdout",
     "output_type": "stream",
     "text": [
      "HELLO, WORLD!\n"
     ]
    }
   ],
   "source": [
    "# Upper Case\n",
    "\n",
    "a = \"Hello, World!\"\n",
    "print(a.upper())"
   ]
  },
  {
   "cell_type": "code",
   "execution_count": 15,
   "id": "0f2d258d",
   "metadata": {},
   "outputs": [
    {
     "name": "stdout",
     "output_type": "stream",
     "text": [
      "hello, world!\n"
     ]
    }
   ],
   "source": [
    "# Lower Case\n",
    "\n",
    "a = \"Hello, World!\"\n",
    "print(a.lower())"
   ]
  },
  {
   "cell_type": "code",
   "execution_count": 17,
   "id": "aac4e1a1",
   "metadata": {},
   "outputs": [
    {
     "name": "stdout",
     "output_type": "stream",
     "text": [
      "Hello, World!\n"
     ]
    }
   ],
   "source": [
    "# Remove Whitespace\n",
    "\n",
    "a = \" Hello, World! \"\n",
    "print(a.strip())"
   ]
  },
  {
   "cell_type": "code",
   "execution_count": 18,
   "id": "bfd1ed2c",
   "metadata": {},
   "outputs": [
    {
     "name": "stdout",
     "output_type": "stream",
     "text": [
      "Jello, World!\n"
     ]
    }
   ],
   "source": [
    "# Replace String\n",
    "\n",
    "a = \"Hello, World!\"\n",
    "print(a.replace(\"H\", \"J\"))"
   ]
  },
  {
   "cell_type": "code",
   "execution_count": 20,
   "id": "57aca6bc",
   "metadata": {},
   "outputs": [
    {
     "name": "stdout",
     "output_type": "stream",
     "text": [
      "['Hello', ' World!']\n"
     ]
    }
   ],
   "source": [
    "# Split String\n",
    "\n",
    "a = \"Hello, World!\"\n",
    "print(a.split(\",\"))"
   ]
  },
  {
   "cell_type": "markdown",
   "id": "14492f00",
   "metadata": {},
   "source": [
    "## String Concatenation"
   ]
  },
  {
   "cell_type": "code",
   "execution_count": 22,
   "id": "8955a6fa",
   "metadata": {},
   "outputs": [
    {
     "name": "stdout",
     "output_type": "stream",
     "text": [
      "Hello World\n"
     ]
    }
   ],
   "source": [
    "a = \"Hello \"\n",
    "b = \"World\"\n",
    "c = a + b\n",
    "print(c)"
   ]
  },
  {
   "cell_type": "code",
   "execution_count": 23,
   "id": "071b30f8",
   "metadata": {},
   "outputs": [
    {
     "name": "stdout",
     "output_type": "stream",
     "text": [
      "Hello World\n"
     ]
    }
   ],
   "source": [
    "a = \"Hello\"\n",
    "b = \"World\"\n",
    "c = a + \" \" + b\n",
    "print(c)"
   ]
  },
  {
   "cell_type": "markdown",
   "id": "c82063da",
   "metadata": {},
   "source": [
    "## Format string"
   ]
  },
  {
   "cell_type": "code",
   "execution_count": 24,
   "id": "f31716e6",
   "metadata": {},
   "outputs": [
    {
     "name": "stdout",
     "output_type": "stream",
     "text": [
      "My name is John, and I am 36\n"
     ]
    }
   ],
   "source": [
    "# Use the format() method to insert numbers into strings\n",
    "\n",
    "age = 36\n",
    "txt = \"My name is John, and I am {}\" # To combine strings and numbers\n",
    "\n",
    "print(txt.format(age))"
   ]
  },
  {
   "cell_type": "code",
   "execution_count": 25,
   "id": "d5332aeb",
   "metadata": {},
   "outputs": [
    {
     "name": "stdout",
     "output_type": "stream",
     "text": [
      "I want 3 pieces of item 567 for 49.95 dollars.\n"
     ]
    }
   ],
   "source": [
    "quantity = 3\n",
    "itemno = 567\n",
    "price = 49.95\n",
    "myorder = \"I want {} pieces of item {} for {} dollars.\"\n",
    "\n",
    "print(myorder.format(quantity, itemno, price))"
   ]
  },
  {
   "cell_type": "code",
   "execution_count": 26,
   "id": "27250524",
   "metadata": {},
   "outputs": [
    {
     "name": "stdout",
     "output_type": "stream",
     "text": [
      "I want to pay 49.95 dollars for 3 pieces of item 567.\n"
     ]
    }
   ],
   "source": [
    "# You can use index numbers {0} to be sure the arguments are placed in the correct placeholders\n",
    "\n",
    "quantity = 3\n",
    "itemno = 567\n",
    "price = 49.95\n",
    "myorder = \"I want to pay {2} dollars for {0} pieces of item {1}.\" # You can use index numbers {0} to be sure the arguments are placed in the correct placeholders\n",
    "\n",
    "print(myorder.format(quantity, itemno, price))"
   ]
  },
  {
   "cell_type": "markdown",
   "id": "ff22987c",
   "metadata": {},
   "source": [
    "## Escape Characters"
   ]
  },
  {
   "cell_type": "code",
   "execution_count": 28,
   "id": "4ee6ee80",
   "metadata": {},
   "outputs": [
    {
     "name": "stdout",
     "output_type": "stream",
     "text": [
      "We are the so-called \"Vikings\" from the north.\n"
     ]
    }
   ],
   "source": [
    "txt = \"We are the so-called \\\"Vikings\\\" from the north.\" # To insert characters that are illegal in a string, use an escape character\n",
    "print(txt)"
   ]
  },
  {
   "cell_type": "code",
   "execution_count": 31,
   "id": "64fa5656",
   "metadata": {},
   "outputs": [
    {
     "name": "stdout",
     "output_type": "stream",
     "text": [
      "It's alright.\n"
     ]
    }
   ],
   "source": [
    "txt = 'It\\'s alright.' # Single Quote\n",
    "print(txt) "
   ]
  },
  {
   "cell_type": "code",
   "execution_count": 32,
   "id": "f0a6b520",
   "metadata": {},
   "outputs": [
    {
     "name": "stdout",
     "output_type": "stream",
     "text": [
      "This will insert one \\ (backslash).\n"
     ]
    }
   ],
   "source": [
    "txt = \"This will insert one \\\\ (backslash).\" # Backslash\n",
    "print(txt) "
   ]
  },
  {
   "cell_type": "code",
   "execution_count": 33,
   "id": "2b2a701c",
   "metadata": {},
   "outputs": [
    {
     "name": "stdout",
     "output_type": "stream",
     "text": [
      "Hello\n",
      "World!\n"
     ]
    }
   ],
   "source": [
    "txt = \"Hello\\nWorld!\" # New Line\n",
    "print(txt)"
   ]
  },
  {
   "cell_type": "code",
   "execution_count": 34,
   "id": "07b0ca06",
   "metadata": {},
   "outputs": [
    {
     "name": "stdout",
     "output_type": "stream",
     "text": [
      "Hello\r",
      "World!\n"
     ]
    }
   ],
   "source": [
    "txt = \"Hello\\rWorld!\" # Carriage Return\n",
    "print(txt) "
   ]
  },
  {
   "cell_type": "code",
   "execution_count": 35,
   "id": "555f53e1",
   "metadata": {},
   "outputs": [
    {
     "name": "stdout",
     "output_type": "stream",
     "text": [
      "Hello\tWorld!\n"
     ]
    }
   ],
   "source": [
    "txt = \"Hello\\tWorld!\" # Tab\n",
    "print(txt) "
   ]
  },
  {
   "cell_type": "code",
   "execution_count": 36,
   "id": "d341979c",
   "metadata": {},
   "outputs": [
    {
     "name": "stdout",
     "output_type": "stream",
     "text": [
      "Hello \bWorld!\n"
     ]
    }
   ],
   "source": [
    "#This example erases one character (backspace):\n",
    "txt = \"Hello \\bWorld!\"\n",
    "print(txt) "
   ]
  },
  {
   "cell_type": "code",
   "execution_count": 30,
   "id": "03694419",
   "metadata": {},
   "outputs": [
    {
     "name": "stdout",
     "output_type": "stream",
     "text": [
      "Hello\n"
     ]
    }
   ],
   "source": [
    "#A backslash followed by three integers will result in a octal value:\n",
    "txt = \"\\110\\145\\154\\154\\157\"\n",
    "print(txt) "
   ]
  },
  {
   "cell_type": "code",
   "execution_count": 29,
   "id": "579b6e02",
   "metadata": {},
   "outputs": [
    {
     "name": "stdout",
     "output_type": "stream",
     "text": [
      "Hello\n"
     ]
    }
   ],
   "source": [
    "#A backslash followed by an 'x' and a hex number represents a hex value:\n",
    "txt = \"\\x48\\x65\\x6c\\x6c\\x6f\"\n",
    "print(txt) "
   ]
  },
  {
   "cell_type": "markdown",
   "id": "b1685377",
   "metadata": {},
   "source": [
    "- \\'           Single Quote \t\n",
    "\n",
    "\n",
    "- \\\\ \t       Backslash \t\n",
    "\n",
    "\n",
    "- \\n   \t       New Line \t\n",
    "\n",
    "\n",
    "- \\r   \t       Carriage Return \t\n",
    "\n",
    "\n",
    "- \\t \t       Tab \t\n",
    "\n",
    "\n",
    "- \\b \t       Backspace \t\n",
    "\n",
    "\n",
    "- \\f \t       Form Feed \t\n",
    "\n",
    "\n",
    "- \\ooo \t       Octal value \t\n",
    "\n",
    "\n",
    "- \\xhh \t       Hex value"
   ]
  },
  {
   "cell_type": "markdown",
   "id": "1b33e385",
   "metadata": {},
   "source": [
    "## String Methods"
   ]
  },
  {
   "cell_type": "markdown",
   "id": "5cb1d8fe",
   "metadata": {},
   "source": [
    "#### More used:\n",
    "\n",
    "#### - strip() Devuelve una copia de la cadena con el espacio inicial y final suprimido.\n",
    "\n",
    "#### - rstrip() Devuelve una copia de la cadena con el espacio al final suprimido.\n",
    "\n",
    "#### - lstrip() Devuelve una copia de la cadena con el espacio del inicio suprimido. \n",
    "\n",
    "#### - swapcase () Devuelve una copia de la cadena con las mayúsculas pasadas a minúsculas y viceversa.\n",
    "\n",
    "#### - title () Devuelve una versión con formato título, es decir, con todas las palabras en minúsculas excepto la primera letra, que va en mayúsculas.\n",
    "\n",
    "#### - booleanendswidth(sub [,start[,end]]): retorna verdadero o falso si una cadena termina con la cadena especificada.\n",
    "\n",
    "#### - booleanstartswidth(sub [,start[,end]]): similar a endswidth."
   ]
  },
  {
   "cell_type": "code",
   "execution_count": 4,
   "id": "f83faefc",
   "metadata": {},
   "outputs": [
    {
     "name": "stdout",
     "output_type": "stream",
     "text": [
      "True\n",
      "False\n"
     ]
    }
   ],
   "source": [
    "#Ejemplo\n",
    "\n",
    "s = \"Hola mundo\"\n",
    "\n",
    "print(s.endswith('do'))\n",
    "\n",
    "print(s.endswith('d'))"
   ]
  },
  {
   "cell_type": "code",
   "execution_count": 5,
   "id": "8c302051",
   "metadata": {},
   "outputs": [
    {
     "name": "stdout",
     "output_type": "stream",
     "text": [
      "True\n",
      "False\n"
     ]
    }
   ],
   "source": [
    "print(s.startswith('Hola'))\n",
    "\n",
    "print(s.startswith('mundo'))"
   ]
  },
  {
   "cell_type": "markdown",
   "id": "ce967434",
   "metadata": {},
   "source": [
    "- capitalize()\n",
    "    Converts the first character to upper case\n",
    "   \n",
    "\n",
    "- casefold()\n",
    "    Converts string into lower case\n",
    "\n",
    "\n",
    "- center()\n",
    "    Returns a centered string\n",
    "    \n",
    "    \n",
    "- count()\n",
    "    Returns the number of times a specified value occurs in a string\n",
    "    \n",
    "    \n",
    "- encode()\n",
    "    Returns an encoded version of the string\n",
    "    \n",
    "    \n",
    "- endswith()\n",
    "    Returns true if the string ends with the specified value\n",
    "    \n",
    "    \n",
    "- expandtabs()\n",
    "    Sets the tab size of the string\n",
    "    \n",
    "    \n",
    "- find()\n",
    "    Searches the string for a specified value and returns the position of where it was found\n",
    "    \n",
    "    \n",
    "- format()\n",
    "    Formats specified values in a string\n",
    "    \n",
    "    \n",
    "- format_map()\n",
    "    Formats specified values in a string\n",
    "    \n",
    "    \n",
    "- index()\n",
    "    Searches the string for a specified value and returns the position of where it was found\n",
    "    \n",
    "    \n",
    "- isalnum()\n",
    "    Returns True if all characters in the string are alphanumeric\n",
    "    \n",
    "    \n",
    "- isalpha()\n",
    "    Returns True if all characters in the string are in the alphabet\n",
    "    \n",
    "    \n",
    "- isdecimal()\n",
    "    Returns True if all characters in the string are decimals\n",
    "    \n",
    "    \n",
    "- isdigit()\n",
    "    Returns True if all characters in the string are digits\n",
    "    \n",
    "    \n",
    "- isidentifier()\n",
    "    Returns True if the string is an identifier\n",
    "    \n",
    "    \n",
    "- islower()\n",
    "    Returns True if all characters in the string are lower case\n",
    "    \n",
    "    \n",
    "- isnumeric()\n",
    "    Returns True if all characters in the string are numeric\n",
    "    \n",
    "    \n",
    "- isprintable()\n",
    "    Returns True if all characters in the string are printable\n",
    "    \n",
    "    \n",
    "- isspace()\n",
    "    Returns True if all characters in the string are whitespaces\n",
    "    \n",
    "    \n",
    "- istitle()\n",
    "    Returns True if the string follows the rules of a title\n",
    "    \n",
    "    \n",
    "- isupper()\n",
    "    Returns True if all characters in the string are upper case\n",
    "    \n",
    "    \n",
    "- join()\n",
    "    Joins the elements of an iterable to the end of the string\n",
    "    \n",
    "    \n",
    "- ljust()\n",
    "    Returns a left justified version of the string\n",
    "    \n",
    "    \n",
    "- lower()\n",
    "    Converts a string into lower case\n",
    "    \n",
    "    \n",
    "- lstrip()\n",
    "    Returns a left trim version of the string\n",
    "    \n",
    "    \n",
    "- maketrans()\n",
    "    Returns a translation table to be used in translations\n",
    "    \n",
    "    \n",
    "- partition()\n",
    "    Returns a tuple where the string is parted into three parts\n",
    "    \n",
    "    \n",
    "- replace()\n",
    "    Returns a string where a specified value is replaced with a specified value\n",
    "    \n",
    "    \n",
    "- rfind()\n",
    "    Searches the string for a specified value and returns the last position of where it was found\n",
    "    \n",
    "    \n",
    "- rindex()\n",
    "    Searches the string for a specified value and returns the last position of where it was found\n",
    "    \n",
    "    \n",
    "- rjust()\n",
    "    Returns a right justified version of the string\n",
    "    \n",
    "    \n",
    "- rpartition()\n",
    "    Returns a tuple where the string is parted into three parts\n",
    "    \n",
    "    \n",
    "- rsplit()\n",
    "    Splits the string at the specified separator, and returns a list\n",
    "    \n",
    "    \n",
    "- rstrip()\n",
    "    Returns a right trim version of the string\n",
    "    \n",
    "    \n",
    "- split()\n",
    "    Splits the string at the specified separator, and returns a list\n",
    "    \n",
    "    \n",
    "- splitlines()\n",
    "    Splits the string at line breaks and returns a list\n",
    "    \n",
    "    \n",
    "- startswith()\n",
    "    Returns true if the string starts with the specified value\n",
    "    \n",
    "    \n",
    "- strip()\n",
    "    Returns a trimmed version of the string\n",
    "    \n",
    "    \n",
    "- swapcase()\n",
    "    Swaps cases, lower case becomes upper case and viceversa\n",
    "    \n",
    "    \n",
    "- title()\n",
    "    Converts the first character of each word to upper case\n",
    "    \n",
    "    \n",
    "- translate()\n",
    "    Returns a translated string\n",
    "    \n",
    "    \n",
    "- upper()\n",
    "    Converts a string into upper case\n",
    "    \n",
    "    \n",
    "- zfill()\n",
    "    Fills the string with a specified number of 0 values at the beginning"
   ]
  },
  {
   "cell_type": "code",
   "execution_count": null,
   "id": "6c8d1d55",
   "metadata": {},
   "outputs": [],
   "source": []
  }
 ],
 "metadata": {
  "kernelspec": {
   "display_name": "Python 3 (ipykernel)",
   "language": "python",
   "name": "python3"
  },
  "language_info": {
   "codemirror_mode": {
    "name": "ipython",
    "version": 3
   },
   "file_extension": ".py",
   "mimetype": "text/x-python",
   "name": "python",
   "nbconvert_exporter": "python",
   "pygments_lexer": "ipython3",
   "version": "3.9.12"
  }
 },
 "nbformat": 4,
 "nbformat_minor": 5
}
