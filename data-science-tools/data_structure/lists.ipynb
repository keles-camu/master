{
 "cells": [
  {
   "cell_type": "markdown",
   "id": "d5855e7a",
   "metadata": {},
   "source": [
    "## List Length"
   ]
  },
  {
   "cell_type": "code",
   "execution_count": 5,
   "id": "0835b5ea",
   "metadata": {},
   "outputs": [
    {
     "name": "stdout",
     "output_type": "stream",
     "text": [
      "3\n"
     ]
    }
   ],
   "source": [
    "thislist = [\"apple\", \"banana\", \"cherry\"]\n",
    "print(len(thislist))"
   ]
  },
  {
   "cell_type": "markdown",
   "id": "00ba2dcb",
   "metadata": {},
   "source": [
    "## The List() Constructor"
   ]
  },
  {
   "cell_type": "code",
   "execution_count": 2,
   "id": "b98f19e7",
   "metadata": {},
   "outputs": [
    {
     "name": "stdout",
     "output_type": "stream",
     "text": [
      "['apple', 'banana', 'cherry']\n"
     ]
    }
   ],
   "source": [
    "thislist = list((\"apple\", \"banana\", \"cherry\")) # note the double round-brackets\n",
    "print(thislist)"
   ]
  },
  {
   "cell_type": "markdown",
   "id": "cff6001f",
   "metadata": {},
   "source": [
    "## Slice"
   ]
  },
  {
   "cell_type": "code",
   "execution_count": 3,
   "id": "c2b6f467",
   "metadata": {},
   "outputs": [
    {
     "name": "stdout",
     "output_type": "stream",
     "text": [
      "[2, 'DAM']\n",
      "[2, False]\n",
      "[[1, 2], False]\n",
      "['DAM', False]\n",
      "[]\n"
     ]
    }
   ],
   "source": [
    "lista = [2,'DAM',False,[1, 2]]\n",
    "\n",
    "print (lista[0:2]) #[inicio:final]\n",
    "\n",
    "print (lista[0:4:2]) #[inicio:final:salto]\n",
    "         \n",
    "print (lista [4:1:-1])\n",
    "\n",
    "print (lista [-3: -1:])\n",
    "\n",
    "print (lista [-4: -2: -1])"
   ]
  },
  {
   "cell_type": "code",
   "execution_count": 1,
   "id": "3188c2ca",
   "metadata": {},
   "outputs": [
    {
     "name": "stdout",
     "output_type": "stream",
     "text": [
      "Ingrese un texto: Hello World!\n",
      "!dlroW olleH\n"
     ]
    }
   ],
   "source": [
    "cad = input (\"Ingrese un texto: \")\n",
    "print (cad [: : -1])"
   ]
  },
  {
   "cell_type": "markdown",
   "id": "26d5d5fe",
   "metadata": {},
   "source": [
    "## Access List Items"
   ]
  },
  {
   "cell_type": "code",
   "execution_count": 7,
   "id": "fa4dafa2",
   "metadata": {},
   "outputs": [
    {
     "name": "stdout",
     "output_type": "stream",
     "text": [
      "banana\n"
     ]
    }
   ],
   "source": [
    "thislist = [\"apple\", \"banana\", \"cherry\"]\n",
    "print(thislist[1])"
   ]
  },
  {
   "cell_type": "markdown",
   "id": "b2c60c8a",
   "metadata": {},
   "source": [
    "## Negative Indexing"
   ]
  },
  {
   "cell_type": "code",
   "execution_count": 4,
   "id": "da2f9f46",
   "metadata": {},
   "outputs": [
    {
     "name": "stdout",
     "output_type": "stream",
     "text": [
      "cherry\n"
     ]
    }
   ],
   "source": [
    "thislist = [\"apple\", \"banana\", \"cherry\"]\n",
    "print(thislist[-1])"
   ]
  },
  {
   "cell_type": "markdown",
   "id": "340495e5",
   "metadata": {},
   "source": [
    "## Range of Indexes"
   ]
  },
  {
   "cell_type": "code",
   "execution_count": 7,
   "id": "33e82866",
   "metadata": {},
   "outputs": [
    {
     "name": "stdout",
     "output_type": "stream",
     "text": [
      "('cherry', 'orange', 'kiwi')\n"
     ]
    }
   ],
   "source": [
    "thislist = [\"apple\", \"banana\", \"cherry\", \"orange\", \"kiwi\", \"melon\", \"mango\"]\n",
    "print(thislist[2:5])"
   ]
  },
  {
   "cell_type": "code",
   "execution_count": 10,
   "id": "7354e4d1",
   "metadata": {},
   "outputs": [
    {
     "name": "stdout",
     "output_type": "stream",
     "text": [
      "['apple', 'banana', 'cherry', 'orange']\n"
     ]
    }
   ],
   "source": [
    "thislist = [\"apple\", \"banana\", \"cherry\", \"orange\", \"kiwi\", \"melon\", \"mango\"]\n",
    "print(thislist[:4])"
   ]
  },
  {
   "cell_type": "code",
   "execution_count": 11,
   "id": "2084b88b",
   "metadata": {},
   "outputs": [
    {
     "name": "stdout",
     "output_type": "stream",
     "text": [
      "['cherry', 'orange', 'kiwi', 'melon', 'mango']\n"
     ]
    }
   ],
   "source": [
    "thislist = [\"apple\", \"banana\", \"cherry\", \"orange\", \"kiwi\", \"melon\", \"mango\"]\n",
    "print(thislist[2:])"
   ]
  },
  {
   "cell_type": "markdown",
   "id": "30ca5cf6",
   "metadata": {},
   "source": [
    "## Range of Negative Indexes"
   ]
  },
  {
   "cell_type": "code",
   "execution_count": 1,
   "id": "1ec4f563",
   "metadata": {},
   "outputs": [
    {
     "name": "stdout",
     "output_type": "stream",
     "text": [
      "['orange', 'kiwi', 'melon']\n"
     ]
    }
   ],
   "source": [
    "thislist = [\"apple\", \"banana\", \"cherry\", \"orange\", \"kiwi\", \"melon\", \"mango\"]\n",
    "print(thislist[-4:-1])"
   ]
  },
  {
   "cell_type": "markdown",
   "id": "c092cb61",
   "metadata": {},
   "source": [
    "## Check if Item Exists"
   ]
  },
  {
   "cell_type": "code",
   "execution_count": 15,
   "id": "783a59f8",
   "metadata": {},
   "outputs": [
    {
     "name": "stdout",
     "output_type": "stream",
     "text": [
      "Yes, 'apple' is in the fruits list\n"
     ]
    }
   ],
   "source": [
    "thislist = [\"apple\", \"banana\", \"cherry\"]\n",
    "if \"apple\" in thislist:\n",
    "    print(\"Yes, 'apple' is in the fruits list\")"
   ]
  },
  {
   "cell_type": "markdown",
   "id": "14492f00",
   "metadata": {},
   "source": [
    "## Change List Items"
   ]
  },
  {
   "cell_type": "code",
   "execution_count": 3,
   "id": "8955a6fa",
   "metadata": {},
   "outputs": [
    {
     "name": "stdout",
     "output_type": "stream",
     "text": [
      "['apple', 'blackcurrant', 'cherry']\n"
     ]
    }
   ],
   "source": [
    "# Change Item Value\n",
    "\n",
    "thislist = [\"apple\", \"banana\", \"cherry\"]\n",
    "thislist[1] = \"blackcurrant\"\n",
    "print(thislist)"
   ]
  },
  {
   "cell_type": "code",
   "execution_count": 4,
   "id": "121d23c8",
   "metadata": {},
   "outputs": [
    {
     "name": "stdout",
     "output_type": "stream",
     "text": [
      "['apple', 'blackcurrant', 'watermelon', 'orange', 'kiwi', 'mango']\n"
     ]
    }
   ],
   "source": [
    "# Change a Range of Item Values\n",
    "\n",
    "thislist = [\"apple\", \"banana\", \"cherry\", \"orange\", \"kiwi\", \"mango\"]\n",
    "thislist[1:3] = [\"blackcurrant\", \"watermelon\"]\n",
    "print(thislist)"
   ]
  },
  {
   "cell_type": "code",
   "execution_count": null,
   "id": "fa4733fe",
   "metadata": {},
   "outputs": [],
   "source": [
    "# Change and insert more items than you replace\n",
    "\n",
    "thislist = [\"apple\", \"banana\", \"cherry\"]\n",
    "thislist[1:2] = [\"blackcurrant\", \"watermelon\"]\n",
    "print(thislist)"
   ]
  },
  {
   "cell_type": "code",
   "execution_count": 5,
   "id": "f96c93ec",
   "metadata": {},
   "outputs": [
    {
     "name": "stdout",
     "output_type": "stream",
     "text": [
      "['apple', 'watermelon']\n"
     ]
    }
   ],
   "source": [
    "# Change and insert less items than you replace\n",
    "\n",
    "thislist = [\"apple\", \"banana\", \"cherry\"]\n",
    "thislist[1:3] = [\"watermelon\"]\n",
    "print(thislist)"
   ]
  },
  {
   "cell_type": "markdown",
   "id": "d36dbd6f",
   "metadata": {},
   "source": [
    "## Add List Items"
   ]
  },
  {
   "cell_type": "code",
   "execution_count": 6,
   "id": "bdc3451b",
   "metadata": {},
   "outputs": [
    {
     "name": "stdout",
     "output_type": "stream",
     "text": [
      "['apple', 'banana', 'cherry', 'orange']\n"
     ]
    }
   ],
   "source": [
    "# To add an item to the end of the list\n",
    "\n",
    "thislist = [\"apple\", \"banana\", \"cherry\"]\n",
    "thislist.append(\"orange\")\n",
    "print(thislist)"
   ]
  },
  {
   "cell_type": "code",
   "execution_count": 7,
   "id": "071b30f8",
   "metadata": {},
   "outputs": [
    {
     "name": "stdout",
     "output_type": "stream",
     "text": [
      "['apple', 'orange', 'banana', 'cherry']\n"
     ]
    }
   ],
   "source": [
    "# To insert a list item at a specified index\n",
    "\n",
    "thislist = [\"apple\", \"banana\", \"cherry\"]\n",
    "thislist.insert(1, \"orange\")\n",
    "print(thislist)"
   ]
  },
  {
   "cell_type": "code",
   "execution_count": 8,
   "id": "3abb0370",
   "metadata": {},
   "outputs": [
    {
     "name": "stdout",
     "output_type": "stream",
     "text": [
      "['apple', 'banana', 'cherry', 'mango', 'pineapple', 'papaya']\n"
     ]
    }
   ],
   "source": [
    "# To append elements from another list to the current list\n",
    "\n",
    "thislist = [\"apple\", \"banana\", \"cherry\"]\n",
    "tropical = [\"mango\", \"pineapple\", \"papaya\"]\n",
    "thislist.extend(tropical)\n",
    "print(thislist)"
   ]
  },
  {
   "cell_type": "code",
   "execution_count": 9,
   "id": "e4b32841",
   "metadata": {},
   "outputs": [
    {
     "name": "stdout",
     "output_type": "stream",
     "text": [
      "['apple', 'banana', 'cherry', 'kiwi', 'orange']\n"
     ]
    }
   ],
   "source": [
    "# Add Any Iterable\n",
    "\n",
    "thislist = [\"apple\", \"banana\", \"cherry\"]\n",
    "thistuple = (\"kiwi\", \"orange\")\n",
    "thislist.extend(thistuple)\n",
    "print(thislist)"
   ]
  },
  {
   "cell_type": "markdown",
   "id": "c82063da",
   "metadata": {},
   "source": [
    "## Remove List items"
   ]
  },
  {
   "cell_type": "code",
   "execution_count": 10,
   "id": "f31716e6",
   "metadata": {},
   "outputs": [
    {
     "name": "stdout",
     "output_type": "stream",
     "text": [
      "['apple', 'cherry']\n"
     ]
    }
   ],
   "source": [
    "# Remove Specified Item\n",
    "\n",
    "thislist = [\"apple\", \"banana\", \"cherry\"]\n",
    "thislist.remove(\"banana\")\n",
    "print(thislist)"
   ]
  },
  {
   "cell_type": "code",
   "execution_count": 11,
   "id": "d5332aeb",
   "metadata": {},
   "outputs": [
    {
     "name": "stdout",
     "output_type": "stream",
     "text": [
      "['apple', 'cherry']\n"
     ]
    }
   ],
   "source": [
    "# Remove Specified Index\n",
    "\n",
    "thislist = [\"apple\", \"banana\", \"cherry\"]\n",
    "thislist.pop(1)\n",
    "print(thislist)"
   ]
  },
  {
   "cell_type": "code",
   "execution_count": 12,
   "id": "539dccdc",
   "metadata": {},
   "outputs": [
    {
     "name": "stdout",
     "output_type": "stream",
     "text": [
      "['apple', 'banana']\n"
     ]
    }
   ],
   "source": [
    "# If you do not specify the index, the pop() method removes the last item\n",
    "\n",
    "thislist = [\"apple\", \"banana\", \"cherry\"]\n",
    "thislist.pop()\n",
    "print(thislist)"
   ]
  },
  {
   "cell_type": "code",
   "execution_count": 13,
   "id": "6c81c3a7",
   "metadata": {},
   "outputs": [
    {
     "name": "stdout",
     "output_type": "stream",
     "text": [
      "['banana', 'cherry']\n"
     ]
    }
   ],
   "source": [
    "# The del keyword removes the specified index\n",
    "\n",
    "thislist = [\"apple\", \"banana\", \"cherry\"]\n",
    "del thislist[0]\n",
    "print(thislist)"
   ]
  },
  {
   "cell_type": "code",
   "execution_count": 16,
   "id": "a15cdb4e",
   "metadata": {},
   "outputs": [],
   "source": [
    "# The del keyword can also delete the list completely\n",
    "\n",
    "thislist = [\"apple\", \"banana\", \"cherry\"]\n",
    "del thislist"
   ]
  },
  {
   "cell_type": "code",
   "execution_count": 17,
   "id": "dd733050",
   "metadata": {},
   "outputs": [
    {
     "name": "stdout",
     "output_type": "stream",
     "text": [
      "[]\n"
     ]
    }
   ],
   "source": [
    "# The clear() method empties the list. The list still remains, but it has no content\n",
    "\n",
    "thislist = [\"apple\", \"banana\", \"cherry\"]\n",
    "thislist.clear()\n",
    "print(thislist)"
   ]
  },
  {
   "cell_type": "markdown",
   "id": "ff22987c",
   "metadata": {},
   "source": [
    "## Loop lists"
   ]
  },
  {
   "cell_type": "code",
   "execution_count": 18,
   "id": "4ee6ee80",
   "metadata": {},
   "outputs": [
    {
     "name": "stdout",
     "output_type": "stream",
     "text": [
      "apple\n",
      "banana\n",
      "cherry\n"
     ]
    }
   ],
   "source": [
    "# Loop through a List\n",
    "\n",
    "thislist = [\"apple\", \"banana\", \"cherry\"]\n",
    "for x in thislist:\n",
    "    print(x) "
   ]
  },
  {
   "cell_type": "code",
   "execution_count": 19,
   "id": "206c2645",
   "metadata": {},
   "outputs": [
    {
     "name": "stdout",
     "output_type": "stream",
     "text": [
      "apple\n",
      "banana\n",
      "cherry\n"
     ]
    }
   ],
   "source": [
    "# Loop through the Index Numbers\n",
    "\n",
    "thislist = [\"apple\", \"banana\", \"cherry\"]\n",
    "for i in range(len(thislist)):\n",
    "    print(thislist[i]) "
   ]
  },
  {
   "cell_type": "code",
   "execution_count": 62,
   "id": "fa4cc45e",
   "metadata": {},
   "outputs": [
    {
     "name": "stdout",
     "output_type": "stream",
     "text": [
      "cherry\n"
     ]
    }
   ],
   "source": [
    "# Loop through specific Index Numbers\n",
    "\n",
    "thislist = [\"apple\", \"banana\", \"cherry\"]\n",
    "for i in range(2, len(thislist)):\n",
    "    print(thislist[i]) "
   ]
  },
  {
   "cell_type": "code",
   "execution_count": 1,
   "id": "34977177",
   "metadata": {},
   "outputs": [
    {
     "name": "stdout",
     "output_type": "stream",
     "text": [
      "apple\n",
      "banana\n",
      "cherry\n"
     ]
    }
   ],
   "source": [
    "# Using a While Loop\n",
    "\n",
    "thislist = [\"apple\", \"banana\", \"cherry\"]\n",
    "i = 0\n",
    "while i < len(thislist):\n",
    "    print(thislist[i])\n",
    "    i += 1"
   ]
  },
  {
   "cell_type": "code",
   "execution_count": 2,
   "id": "83b4628c",
   "metadata": {
    "scrolled": true
   },
   "outputs": [
    {
     "name": "stdout",
     "output_type": "stream",
     "text": [
      "apple\n",
      "banana\n",
      "cherry\n"
     ]
    },
    {
     "data": {
      "text/plain": [
       "[None, None, None]"
      ]
     },
     "execution_count": 2,
     "metadata": {},
     "output_type": "execute_result"
    }
   ],
   "source": [
    "# Looping using List Comprehension\n",
    "\n",
    "thislist = [\"apple\", \"banana\", \"cherry\"]\n",
    "[print(x) for x in thislist] "
   ]
  },
  {
   "cell_type": "code",
   "execution_count": 1,
   "id": "45a496fa",
   "metadata": {},
   "outputs": [
    {
     "name": "stdout",
     "output_type": "stream",
     "text": [
      "Elemento 0: 0.\n",
      "Elemento 1: 1.\n",
      "Elemento 2: 2.\n",
      "Elemento 3: 3.\n",
      "Elemento 4: 4.\n",
      "Elemento 5: 5.\n",
      "Elemento 6: 6.\n",
      "Elemento 7: 7.\n",
      "Elemento 8: 8.\n",
      "Elemento 9: 9.\n",
      "Elemento 10: 10.\n",
      "Elemento 11: 11.\n",
      "Elemento 12: 12.\n",
      "Elemento 13: 13.\n",
      "Elemento 14: 14.\n",
      "Elemento 15: 15.\n",
      "Elemento 16: 16.\n",
      "Elemento 17: 17.\n",
      "Elemento 18: 18.\n"
     ]
    }
   ],
   "source": [
    "# Using enumerate function\n",
    "\n",
    "A= [0, 1, 2, 3, 4, 5, 6, 7, 8, 9, 10, 11, 12, 13, 14, 15, 16, 17, 18]\n",
    "for indice, ítem in enumerate(A):\n",
    "    print (\"Elemento %d: %s.\" % (indice, str(ítem)))"
   ]
  },
  {
   "cell_type": "markdown",
   "id": "8b92f663",
   "metadata": {},
   "source": [
    "## List Comprehension"
   ]
  },
  {
   "cell_type": "code",
   "execution_count": 23,
   "id": "d6c35179",
   "metadata": {},
   "outputs": [
    {
     "name": "stdout",
     "output_type": "stream",
     "text": [
      "['apple', 'banana', 'mango']\n"
     ]
    }
   ],
   "source": [
    "# To create a new list based on the values of an existing list\n",
    "\n",
    "fruits = [\"apple\", \"banana\", \"cherry\", \"kiwi\", \"mango\"]\n",
    "newlist = []\n",
    "\n",
    "for x in fruits:\n",
    "    if \"a\" in x:\n",
    "        newlist.append(x)\n",
    "\n",
    "print(newlist) "
   ]
  },
  {
   "cell_type": "code",
   "execution_count": 24,
   "id": "31be5126",
   "metadata": {},
   "outputs": [
    {
     "name": "stdout",
     "output_type": "stream",
     "text": [
      "['apple', 'banana', 'mango']\n"
     ]
    }
   ],
   "source": [
    "# You can do all that with only one line of code\n",
    "\n",
    "fruits = [\"apple\", \"banana\", \"cherry\", \"kiwi\", \"mango\"]\n",
    "\n",
    "newlist = [x for x in fruits if \"a\" in x]\n",
    "\n",
    "print(newlist)"
   ]
  },
  {
   "cell_type": "code",
   "execution_count": 34,
   "id": "35b256ce",
   "metadata": {},
   "outputs": [
    {
     "name": "stdout",
     "output_type": "stream",
     "text": [
      "['banana', 'cherry', 'kiwi', 'mango']\n"
     ]
    }
   ],
   "source": [
    "# Condition\n",
    "\n",
    "fruits = [\"apple\", \"banana\", \"cherry\", \"kiwi\", \"mango\"]\n",
    "\n",
    "newlist = [x for x in fruits if x != \"apple\"]\n",
    "\n",
    "print(newlist)"
   ]
  },
  {
   "cell_type": "code",
   "execution_count": 37,
   "id": "45dd65a8",
   "metadata": {},
   "outputs": [
    {
     "name": "stdout",
     "output_type": "stream",
     "text": [
      "[0, 1, 2, 3, 4, 5, 6, 7, 8, 9]\n"
     ]
    }
   ],
   "source": [
    "# Iterable\n",
    "\n",
    "newlist = [x for x in range(10)]\n",
    "\n",
    "print(newlist)"
   ]
  },
  {
   "cell_type": "code",
   "execution_count": 39,
   "id": "d0972ed3",
   "metadata": {},
   "outputs": [
    {
     "name": "stdout",
     "output_type": "stream",
     "text": [
      "[0, 1, 2, 3, 4]\n"
     ]
    }
   ],
   "source": [
    "# Same example, but with a condition\n",
    "\n",
    "newlist = [x for x in range(10) if x < 5]\n",
    "\n",
    "print(newlist)"
   ]
  },
  {
   "cell_type": "code",
   "execution_count": 40,
   "id": "bc0c1e5e",
   "metadata": {},
   "outputs": [
    {
     "name": "stdout",
     "output_type": "stream",
     "text": [
      "['APPLE', 'BANANA', 'CHERRY', 'KIWI', 'MANGO']\n"
     ]
    }
   ],
   "source": [
    "# Set the values in the new list to upper case\n",
    "\n",
    "fruits = [\"apple\", \"banana\", \"cherry\", \"kiwi\", \"mango\"]\n",
    "\n",
    "newlist = [x.upper() for x in fruits]\n",
    "\n",
    "print(newlist)"
   ]
  },
  {
   "cell_type": "code",
   "execution_count": 41,
   "id": "146784f4",
   "metadata": {},
   "outputs": [
    {
     "name": "stdout",
     "output_type": "stream",
     "text": [
      "['hello', 'hello', 'hello', 'hello', 'hello']\n"
     ]
    }
   ],
   "source": [
    "# You can set the outcome to whatever you like\n",
    "\n",
    "fruits = [\"apple\", \"banana\", \"cherry\", \"kiwi\", \"mango\"]\n",
    "\n",
    "newlist = ['hello' for x in fruits]\n",
    "\n",
    "print(newlist)"
   ]
  },
  {
   "cell_type": "code",
   "execution_count": 42,
   "id": "84662623",
   "metadata": {},
   "outputs": [
    {
     "name": "stdout",
     "output_type": "stream",
     "text": [
      "['apple', 'orange', 'cherry', 'kiwi', 'mango']\n"
     ]
    }
   ],
   "source": [
    "# The expression can also contain conditions, not like a filter, but as a way to manipulate the outcome\n",
    "\n",
    "fruits = [\"apple\", \"banana\", \"cherry\", \"kiwi\", \"mango\"]\n",
    "\n",
    "newlist = [x if x != \"banana\" else \"orange\" for x in fruits]\n",
    "\n",
    "print(newlist)"
   ]
  },
  {
   "cell_type": "markdown",
   "id": "1b33e385",
   "metadata": {},
   "source": [
    "## Sort Lists"
   ]
  },
  {
   "cell_type": "code",
   "execution_count": 44,
   "id": "d6b22cd4",
   "metadata": {},
   "outputs": [
    {
     "name": "stdout",
     "output_type": "stream",
     "text": [
      "['banana', 'kiwi', 'mango', 'orange', 'pineapple']\n"
     ]
    }
   ],
   "source": [
    "# Sort the list alphanumerically\n",
    "\n",
    "thislist = [\"orange\", \"mango\", \"kiwi\", \"pineapple\", \"banana\"]\n",
    "thislist.sort()\n",
    "print(thislist)"
   ]
  },
  {
   "cell_type": "code",
   "execution_count": 45,
   "id": "a4159828",
   "metadata": {},
   "outputs": [
    {
     "name": "stdout",
     "output_type": "stream",
     "text": [
      "[23, 50, 65, 82, 100]\n"
     ]
    }
   ],
   "source": [
    "thislist = [100, 50, 65, 82, 23]\n",
    "thislist.sort()\n",
    "print(thislist)"
   ]
  },
  {
   "cell_type": "code",
   "execution_count": 46,
   "id": "a2f50919",
   "metadata": {},
   "outputs": [
    {
     "name": "stdout",
     "output_type": "stream",
     "text": [
      "['pineapple', 'orange', 'mango', 'kiwi', 'banana']\n"
     ]
    }
   ],
   "source": [
    "# Sort Descending\n",
    "\n",
    "thislist = [\"orange\", \"mango\", \"kiwi\", \"pineapple\", \"banana\"]\n",
    "thislist.sort(reverse = True)\n",
    "print(thislist)"
   ]
  },
  {
   "cell_type": "code",
   "execution_count": 47,
   "id": "7daa8f1c",
   "metadata": {},
   "outputs": [
    {
     "name": "stdout",
     "output_type": "stream",
     "text": [
      "[100, 82, 65, 50, 23]\n"
     ]
    }
   ],
   "source": [
    "thislist = [100, 50, 65, 82, 23]\n",
    "thislist.sort(reverse = True)\n",
    "print(thislist)"
   ]
  },
  {
   "cell_type": "code",
   "execution_count": 50,
   "id": "30e344ec",
   "metadata": {},
   "outputs": [
    {
     "name": "stdout",
     "output_type": "stream",
     "text": [
      "[50, 65, 23, 82, 100]\n"
     ]
    }
   ],
   "source": [
    "# Customize Sort Function\n",
    "\n",
    "def myfunc(n):\n",
    "    return abs(n - 50) # Sort the list based on how close the number is to 50\n",
    "\n",
    "thislist = [100, 50, 65, 82, 23]\n",
    "thislist.sort(key = myfunc)\n",
    "\n",
    "print(thislist)"
   ]
  },
  {
   "cell_type": "code",
   "execution_count": 51,
   "id": "59b7813d",
   "metadata": {},
   "outputs": [
    {
     "name": "stdout",
     "output_type": "stream",
     "text": [
      "['Kiwi', 'Orange', 'banana', 'cherry']\n"
     ]
    }
   ],
   "source": [
    "# Case Insensitive Sort\n",
    "\n",
    "thislist = [\"banana\", \"Orange\", \"Kiwi\", \"cherry\"] # Capital letters being sorted before lower case letters\n",
    "thislist.sort()\n",
    "print(thislist)"
   ]
  },
  {
   "cell_type": "code",
   "execution_count": 52,
   "id": "0380fe81",
   "metadata": {},
   "outputs": [
    {
     "name": "stdout",
     "output_type": "stream",
     "text": [
      "['banana', 'cherry', 'Kiwi', 'Orange']\n"
     ]
    }
   ],
   "source": [
    "# if you want a case-insensitive sort function, use str.lower as a key function\n",
    "\n",
    "thislist = [\"banana\", \"Orange\", \"Kiwi\", \"cherry\"]\n",
    "\n",
    "thislist.sort(key = str.lower)\n",
    "\n",
    "print(thislist)"
   ]
  },
  {
   "cell_type": "code",
   "execution_count": 55,
   "id": "3788a242",
   "metadata": {},
   "outputs": [
    {
     "name": "stdout",
     "output_type": "stream",
     "text": [
      "['cherry', 'Kiwi', 'Orange', 'banana']\n"
     ]
    }
   ],
   "source": [
    "# Reverse Order\n",
    "\n",
    "thislist = [\"banana\", \"Orange\", \"Kiwi\", \"cherry\"]\n",
    "\n",
    "thislist.reverse()\n",
    "\n",
    "print(thislist) "
   ]
  },
  {
   "cell_type": "markdown",
   "id": "a7f7ec50",
   "metadata": {},
   "source": [
    "## Copy Lists"
   ]
  },
  {
   "cell_type": "code",
   "execution_count": 56,
   "id": "9b7884eb",
   "metadata": {},
   "outputs": [
    {
     "name": "stdout",
     "output_type": "stream",
     "text": [
      "['apple', 'banana', 'cherry']\n"
     ]
    }
   ],
   "source": [
    "# Make a copy of a list with the copy() method\n",
    "\n",
    "thislist = [\"apple\", \"banana\", \"cherry\"]\n",
    "mylist = thislist.copy()\n",
    "print(mylist)"
   ]
  },
  {
   "cell_type": "code",
   "execution_count": 58,
   "id": "2cc82ca2",
   "metadata": {},
   "outputs": [
    {
     "name": "stdout",
     "output_type": "stream",
     "text": [
      "['apple', 'banana', 'cherry']\n"
     ]
    }
   ],
   "source": [
    "# Another way to make a copy is to use the built-in method list()\n",
    "\n",
    "thislist = [\"apple\", \"banana\", \"cherry\"]\n",
    "mylist = list(thislist)\n",
    "print(mylist)"
   ]
  },
  {
   "cell_type": "markdown",
   "id": "a2828868",
   "metadata": {},
   "source": [
    "## Join Lists"
   ]
  },
  {
   "cell_type": "code",
   "execution_count": 59,
   "id": "64448b49",
   "metadata": {},
   "outputs": [
    {
     "name": "stdout",
     "output_type": "stream",
     "text": [
      "['a', 'b', 'c', 1, 2, 3]\n"
     ]
    }
   ],
   "source": [
    "list1 = [\"a\", \"b\", \"c\"]\n",
    "list2 = [1, 2, 3]\n",
    "\n",
    "list3 = list1 + list2\n",
    "print(list3) "
   ]
  },
  {
   "cell_type": "code",
   "execution_count": 1,
   "id": "8c73522f",
   "metadata": {},
   "outputs": [
    {
     "name": "stdout",
     "output_type": "stream",
     "text": [
      "['a', 'b', 'c', 1, 2, 3]\n"
     ]
    }
   ],
   "source": [
    "list1 = [\"a\", \"b\" , \"c\"]\n",
    "list2 = [1, 2, 3]\n",
    "\n",
    "for x in list2:\n",
    "    list1.append(x)\n",
    "\n",
    "print(list1) "
   ]
  },
  {
   "cell_type": "code",
   "execution_count": 61,
   "id": "1a1086fd",
   "metadata": {},
   "outputs": [
    {
     "name": "stdout",
     "output_type": "stream",
     "text": [
      "['a', 'b', 'c', 1, 2, 3]\n"
     ]
    }
   ],
   "source": [
    "list1 = [\"a\", \"b\" , \"c\"]\n",
    "list2 = [1, 2, 3]\n",
    "\n",
    "list1.extend(list2)\n",
    "print(list1)"
   ]
  },
  {
   "cell_type": "markdown",
   "id": "1006e867",
   "metadata": {},
   "source": [
    "## List Methods"
   ]
  },
  {
   "cell_type": "markdown",
   "id": "396effdd",
   "metadata": {},
   "source": [
    "- append()\tAdds an element at the end of the list\n",
    "\n",
    "\n",
    "- clear()\tRemoves all the elements from the list\n",
    "\n",
    "\n",
    "- copy()\tReturns a copy of the list\n",
    "\n",
    "\n",
    "- count()\tReturns the number of elements with the specified value\n",
    "\n",
    "\n",
    "- extend()\tAdd the elements of a list (or any iterable), to the end of the current list\n",
    "\n",
    "\n",
    "- index()\tReturns the index of the first element with the specified value\n",
    "\n",
    "\n",
    "- insert()\tAdds an element at the specified position\n",
    "\n",
    "\n",
    "- pop()\tRemoves the element at the specified position\n",
    "\n",
    "\n",
    "- remove()\tRemoves the item with the specified value\n",
    "\n",
    "\n",
    "- reverse()\tReverses the order of the list\n",
    "\n",
    "\n",
    "- sort()\tSorts the list"
   ]
  },
  {
   "cell_type": "code",
   "execution_count": null,
   "id": "09fbb8d4",
   "metadata": {},
   "outputs": [],
   "source": []
  }
 ],
 "metadata": {
  "kernelspec": {
   "display_name": "Python 3 (ipykernel)",
   "language": "python",
   "name": "python3"
  },
  "language_info": {
   "codemirror_mode": {
    "name": "ipython",
    "version": 3
   },
   "file_extension": ".py",
   "mimetype": "text/x-python",
   "name": "python",
   "nbconvert_exporter": "python",
   "pygments_lexer": "ipython3",
   "version": "3.9.12"
  }
 },
 "nbformat": 4,
 "nbformat_minor": 5
}
