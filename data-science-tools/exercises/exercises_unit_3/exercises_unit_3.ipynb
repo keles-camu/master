{
 "cells": [
  {
   "cell_type": "markdown",
   "id": "bcaf1f2c",
   "metadata": {},
   "source": [
    "**EJERCICIO 1**\n",
    "\n",
    "Crea los siguientes arrays:\n",
    "- Un array con 10 ceros.\n",
    "- Un array con 10 unos.\n",
    "- Un array con 10 sietes."
   ]
  },
  {
   "cell_type": "code",
   "execution_count": 1,
   "id": "bb850bd5",
   "metadata": {},
   "outputs": [],
   "source": [
    "import numpy as np"
   ]
  },
  {
   "cell_type": "code",
   "execution_count": 2,
   "id": "6cae4dcb",
   "metadata": {},
   "outputs": [
    {
     "data": {
      "text/plain": [
       "array([0., 0., 0., 0., 0., 0., 0., 0., 0., 0.])"
      ]
     },
     "execution_count": 2,
     "metadata": {},
     "output_type": "execute_result"
    }
   ],
   "source": [
    "zeros = np.zeros(10)\n",
    "zeros"
   ]
  },
  {
   "cell_type": "code",
   "execution_count": 3,
   "id": "3986b687",
   "metadata": {},
   "outputs": [
    {
     "data": {
      "text/plain": [
       "array([1., 1., 1., 1., 1., 1., 1., 1., 1., 1.])"
      ]
     },
     "execution_count": 3,
     "metadata": {},
     "output_type": "execute_result"
    }
   ],
   "source": [
    "ones = np.ones(10)\n",
    "ones"
   ]
  },
  {
   "cell_type": "code",
   "execution_count": 4,
   "id": "5d43d467",
   "metadata": {},
   "outputs": [
    {
     "data": {
      "text/plain": [
       "array([7., 7., 7., 7., 7., 7., 7., 7., 7., 7.])"
      ]
     },
     "execution_count": 4,
     "metadata": {},
     "output_type": "execute_result"
    }
   ],
   "source": [
    "sevens = np.ones(10)*7\n",
    "sevens"
   ]
  },
  {
   "cell_type": "markdown",
   "id": "b83be85a",
   "metadata": {},
   "source": [
    "**EJERCICIO 2**\n",
    "\n",
    "- Crea un array con la secuencia de números del 20 a 40 (ambos inclusive).\n",
    "- Crea un array con la secuencia de números del 20 a 40 (ambos inclusive), tomados de cinco en cinco elementos.\n",
    "- Muestra el array anterior en orden inverso.\n",
    "- Si es posible, intenta reconvertir el array reverso en un nuevo array multidimensional de 2x3. Si no es posible, agrega elementos al array hasta que la longitud del array sea divisible entre tres.\n",
    "- Finalmente, elimina todas las dimensiones del array y devuelve un array plano."
   ]
  },
  {
   "cell_type": "markdown",
   "id": "54d2df65",
   "metadata": {},
   "source": [
    "2.1."
   ]
  },
  {
   "cell_type": "code",
   "execution_count": 5,
   "id": "d74ff6a7",
   "metadata": {},
   "outputs": [
    {
     "data": {
      "text/plain": [
       "array([20, 21, 22, 23, 24, 25, 26, 27, 28, 29, 30, 31, 32, 33, 34, 35, 36,\n",
       "       37, 38, 39, 40])"
      ]
     },
     "execution_count": 5,
     "metadata": {},
     "output_type": "execute_result"
    }
   ],
   "source": [
    "array_1 = np.arange(20, 40+1)\n",
    "array_1"
   ]
  },
  {
   "cell_type": "markdown",
   "id": "10f49e1e",
   "metadata": {},
   "source": [
    "2.2."
   ]
  },
  {
   "cell_type": "code",
   "execution_count": 6,
   "id": "fc9ab250",
   "metadata": {},
   "outputs": [
    {
     "data": {
      "text/plain": [
       "array([20, 25, 30, 35, 40])"
      ]
     },
     "execution_count": 6,
     "metadata": {},
     "output_type": "execute_result"
    }
   ],
   "source": [
    "array_2 = array_1[::5]\n",
    "array_2"
   ]
  },
  {
   "cell_type": "markdown",
   "id": "4eec12b1",
   "metadata": {},
   "source": [
    "2.3."
   ]
  },
  {
   "cell_type": "code",
   "execution_count": 7,
   "id": "119b3043",
   "metadata": {},
   "outputs": [
    {
     "data": {
      "text/plain": [
       "array([40, 35, 30, 25, 20])"
      ]
     },
     "execution_count": 7,
     "metadata": {},
     "output_type": "execute_result"
    }
   ],
   "source": [
    "array_3 = array_2[::-1]\n",
    "array_3"
   ]
  },
  {
   "cell_type": "markdown",
   "id": "588c8b95",
   "metadata": {},
   "source": [
    "2.4."
   ]
  },
  {
   "cell_type": "code",
   "execution_count": 8,
   "id": "eee562b0",
   "metadata": {},
   "outputs": [
    {
     "ename": "ValueError",
     "evalue": "cannot reshape array of size 5 into shape (2,3)",
     "output_type": "error",
     "traceback": [
      "\u001b[0;31m---------------------------------------------------------------------------\u001b[0m",
      "\u001b[0;31mValueError\u001b[0m                                Traceback (most recent call last)",
      "Cell \u001b[0;32mIn [8], line 1\u001b[0m\n\u001b[0;32m----> 1\u001b[0m array_4 \u001b[38;5;241m=\u001b[39m \u001b[43marray_3\u001b[49m\u001b[38;5;241;43m.\u001b[39;49m\u001b[43mreshape\u001b[49m\u001b[43m(\u001b[49m\u001b[38;5;241;43m2\u001b[39;49m\u001b[43m,\u001b[49m\u001b[38;5;241;43m3\u001b[39;49m\u001b[43m)\u001b[49m\n\u001b[1;32m      2\u001b[0m array_4\n",
      "\u001b[0;31mValueError\u001b[0m: cannot reshape array of size 5 into shape (2,3)"
     ]
    }
   ],
   "source": [
    "array_4 = array_3.reshape(2,3)\n",
    "array_4"
   ]
  },
  {
   "cell_type": "code",
   "execution_count": 9,
   "id": "a8224eee",
   "metadata": {},
   "outputs": [
    {
     "data": {
      "text/plain": [
       "array([15])"
      ]
     },
     "execution_count": 9,
     "metadata": {},
     "output_type": "execute_result"
    }
   ],
   "source": [
    "aux = np.array([15])\n",
    "aux"
   ]
  },
  {
   "cell_type": "code",
   "execution_count": 10,
   "id": "ad5a79df",
   "metadata": {},
   "outputs": [
    {
     "data": {
      "text/plain": [
       "array([40, 35, 30, 25, 20, 15])"
      ]
     },
     "execution_count": 10,
     "metadata": {},
     "output_type": "execute_result"
    }
   ],
   "source": [
    "new_array_4 = np.concatenate((array_3, aux))\n",
    "new_array_4"
   ]
  },
  {
   "cell_type": "code",
   "execution_count": 11,
   "id": "241f7e6e",
   "metadata": {},
   "outputs": [
    {
     "data": {
      "text/plain": [
       "array([[40, 35, 30],\n",
       "       [25, 20, 15]])"
      ]
     },
     "execution_count": 11,
     "metadata": {},
     "output_type": "execute_result"
    }
   ],
   "source": [
    "new_array_4 = new_array_4.reshape(2,3)\n",
    "new_array_4"
   ]
  },
  {
   "cell_type": "markdown",
   "id": "03c0ad47",
   "metadata": {},
   "source": [
    "2.5."
   ]
  },
  {
   "cell_type": "code",
   "execution_count": 12,
   "id": "c7697543",
   "metadata": {},
   "outputs": [
    {
     "data": {
      "text/plain": [
       "array([40, 35, 30, 25, 20, 15])"
      ]
     },
     "execution_count": 12,
     "metadata": {},
     "output_type": "execute_result"
    }
   ],
   "source": [
    "flat_array = new_array_4.ravel()\n",
    "flat_array"
   ]
  },
  {
   "cell_type": "markdown",
   "id": "667a66c1",
   "metadata": {},
   "source": [
    "**EJERCICIO 3**\n",
    "\n",
    "- Crea un objeto Pandas series a través de un array de 30 elementos aleatorios que sigan una distribución beta con parámetros 0,1 y 0,8.\n",
    "- Sobre este objeto series crea un dataframe.\n",
    "- Muestra sus primeros y últimos cuatro elementos.\n",
    "- Renombra la columna del dataframe a “BETA_DIST”.\n",
    "- Crea una nueva columna con nombre “SQUARE_BETA”, que sea cada elemento de la distribución beta al cuadrado.\n",
    "- Obtén los histogramas del dataframe."
   ]
  },
  {
   "cell_type": "code",
   "execution_count": 13,
   "id": "9044879f",
   "metadata": {},
   "outputs": [],
   "source": [
    "import numpy as np\n",
    "import pandas as pd"
   ]
  },
  {
   "cell_type": "markdown",
   "id": "800ef2d2",
   "metadata": {},
   "source": [
    "3.1."
   ]
  },
  {
   "cell_type": "code",
   "execution_count": 14,
   "id": "23815540",
   "metadata": {},
   "outputs": [
    {
     "data": {
      "text/plain": [
       "array([6.46076312e-02, 1.46097628e-12, 6.68872542e-02, 5.06726569e-11,\n",
       "       2.17633639e-07, 3.46018779e-10, 1.11508448e-04, 2.99596842e-07,\n",
       "       1.91875606e-16, 3.41573731e-02, 1.18565586e-01, 5.72071328e-05,\n",
       "       2.09197211e-01, 1.56345503e-02, 9.37835267e-04, 8.19347892e-07,\n",
       "       9.67375464e-03, 6.75777402e-08, 4.12790013e-01, 9.31004990e-16,\n",
       "       2.65828195e-06, 7.29296047e-03, 1.17342825e-07, 9.08840343e-01,\n",
       "       3.40056728e-06, 5.91748060e-05, 1.54729195e-08, 2.12447278e-17,\n",
       "       6.96801460e-01, 1.48562229e-02])"
      ]
     },
     "execution_count": 14,
     "metadata": {},
     "output_type": "execute_result"
    }
   ],
   "source": [
    "beta = np.random.beta(0.1, 0.8, 30)\n",
    "beta"
   ]
  },
  {
   "cell_type": "markdown",
   "id": "b27791d9",
   "metadata": {},
   "source": [
    "3.2."
   ]
  },
  {
   "cell_type": "code",
   "execution_count": 15,
   "id": "7c754dab",
   "metadata": {},
   "outputs": [
    {
     "data": {
      "text/plain": [
       "0     6.460763e-02\n",
       "1     1.460976e-12\n",
       "2     6.688725e-02\n",
       "3     5.067266e-11\n",
       "4     2.176336e-07\n",
       "5     3.460188e-10\n",
       "6     1.115084e-04\n",
       "7     2.995968e-07\n",
       "8     1.918756e-16\n",
       "9     3.415737e-02\n",
       "10    1.185656e-01\n",
       "11    5.720713e-05\n",
       "12    2.091972e-01\n",
       "13    1.563455e-02\n",
       "14    9.378353e-04\n",
       "15    8.193479e-07\n",
       "16    9.673755e-03\n",
       "17    6.757774e-08\n",
       "18    4.127900e-01\n",
       "19    9.310050e-16\n",
       "20    2.658282e-06\n",
       "21    7.292960e-03\n",
       "22    1.173428e-07\n",
       "23    9.088403e-01\n",
       "24    3.400567e-06\n",
       "25    5.917481e-05\n",
       "26    1.547292e-08\n",
       "27    2.124473e-17\n",
       "28    6.968015e-01\n",
       "29    1.485622e-02\n",
       "dtype: float64"
      ]
     },
     "execution_count": 15,
     "metadata": {},
     "output_type": "execute_result"
    }
   ],
   "source": [
    "serie = pd.Series(beta)\n",
    "serie"
   ]
  },
  {
   "cell_type": "code",
   "execution_count": 16,
   "id": "95248c4d",
   "metadata": {},
   "outputs": [
    {
     "name": "stdout",
     "output_type": "stream",
     "text": [
      "<class 'pandas.core.series.Series'>\n"
     ]
    }
   ],
   "source": [
    "print(type(serie))"
   ]
  },
  {
   "cell_type": "code",
   "execution_count": 17,
   "id": "901e7233",
   "metadata": {},
   "outputs": [
    {
     "data": {
      "text/html": [
       "<div>\n",
       "<style scoped>\n",
       "    .dataframe tbody tr th:only-of-type {\n",
       "        vertical-align: middle;\n",
       "    }\n",
       "\n",
       "    .dataframe tbody tr th {\n",
       "        vertical-align: top;\n",
       "    }\n",
       "\n",
       "    .dataframe thead th {\n",
       "        text-align: right;\n",
       "    }\n",
       "</style>\n",
       "<table border=\"1\" class=\"dataframe\">\n",
       "  <thead>\n",
       "    <tr style=\"text-align: right;\">\n",
       "      <th></th>\n",
       "      <th>0</th>\n",
       "    </tr>\n",
       "  </thead>\n",
       "  <tbody>\n",
       "    <tr>\n",
       "      <th>0</th>\n",
       "      <td>6.460763e-02</td>\n",
       "    </tr>\n",
       "    <tr>\n",
       "      <th>1</th>\n",
       "      <td>1.460976e-12</td>\n",
       "    </tr>\n",
       "    <tr>\n",
       "      <th>2</th>\n",
       "      <td>6.688725e-02</td>\n",
       "    </tr>\n",
       "    <tr>\n",
       "      <th>3</th>\n",
       "      <td>5.067266e-11</td>\n",
       "    </tr>\n",
       "    <tr>\n",
       "      <th>4</th>\n",
       "      <td>2.176336e-07</td>\n",
       "    </tr>\n",
       "    <tr>\n",
       "      <th>5</th>\n",
       "      <td>3.460188e-10</td>\n",
       "    </tr>\n",
       "    <tr>\n",
       "      <th>6</th>\n",
       "      <td>1.115084e-04</td>\n",
       "    </tr>\n",
       "    <tr>\n",
       "      <th>7</th>\n",
       "      <td>2.995968e-07</td>\n",
       "    </tr>\n",
       "    <tr>\n",
       "      <th>8</th>\n",
       "      <td>1.918756e-16</td>\n",
       "    </tr>\n",
       "    <tr>\n",
       "      <th>9</th>\n",
       "      <td>3.415737e-02</td>\n",
       "    </tr>\n",
       "    <tr>\n",
       "      <th>10</th>\n",
       "      <td>1.185656e-01</td>\n",
       "    </tr>\n",
       "    <tr>\n",
       "      <th>11</th>\n",
       "      <td>5.720713e-05</td>\n",
       "    </tr>\n",
       "    <tr>\n",
       "      <th>12</th>\n",
       "      <td>2.091972e-01</td>\n",
       "    </tr>\n",
       "    <tr>\n",
       "      <th>13</th>\n",
       "      <td>1.563455e-02</td>\n",
       "    </tr>\n",
       "    <tr>\n",
       "      <th>14</th>\n",
       "      <td>9.378353e-04</td>\n",
       "    </tr>\n",
       "    <tr>\n",
       "      <th>15</th>\n",
       "      <td>8.193479e-07</td>\n",
       "    </tr>\n",
       "    <tr>\n",
       "      <th>16</th>\n",
       "      <td>9.673755e-03</td>\n",
       "    </tr>\n",
       "    <tr>\n",
       "      <th>17</th>\n",
       "      <td>6.757774e-08</td>\n",
       "    </tr>\n",
       "    <tr>\n",
       "      <th>18</th>\n",
       "      <td>4.127900e-01</td>\n",
       "    </tr>\n",
       "    <tr>\n",
       "      <th>19</th>\n",
       "      <td>9.310050e-16</td>\n",
       "    </tr>\n",
       "    <tr>\n",
       "      <th>20</th>\n",
       "      <td>2.658282e-06</td>\n",
       "    </tr>\n",
       "    <tr>\n",
       "      <th>21</th>\n",
       "      <td>7.292960e-03</td>\n",
       "    </tr>\n",
       "    <tr>\n",
       "      <th>22</th>\n",
       "      <td>1.173428e-07</td>\n",
       "    </tr>\n",
       "    <tr>\n",
       "      <th>23</th>\n",
       "      <td>9.088403e-01</td>\n",
       "    </tr>\n",
       "    <tr>\n",
       "      <th>24</th>\n",
       "      <td>3.400567e-06</td>\n",
       "    </tr>\n",
       "    <tr>\n",
       "      <th>25</th>\n",
       "      <td>5.917481e-05</td>\n",
       "    </tr>\n",
       "    <tr>\n",
       "      <th>26</th>\n",
       "      <td>1.547292e-08</td>\n",
       "    </tr>\n",
       "    <tr>\n",
       "      <th>27</th>\n",
       "      <td>2.124473e-17</td>\n",
       "    </tr>\n",
       "    <tr>\n",
       "      <th>28</th>\n",
       "      <td>6.968015e-01</td>\n",
       "    </tr>\n",
       "    <tr>\n",
       "      <th>29</th>\n",
       "      <td>1.485622e-02</td>\n",
       "    </tr>\n",
       "  </tbody>\n",
       "</table>\n",
       "</div>"
      ],
      "text/plain": [
       "               0\n",
       "0   6.460763e-02\n",
       "1   1.460976e-12\n",
       "2   6.688725e-02\n",
       "3   5.067266e-11\n",
       "4   2.176336e-07\n",
       "5   3.460188e-10\n",
       "6   1.115084e-04\n",
       "7   2.995968e-07\n",
       "8   1.918756e-16\n",
       "9   3.415737e-02\n",
       "10  1.185656e-01\n",
       "11  5.720713e-05\n",
       "12  2.091972e-01\n",
       "13  1.563455e-02\n",
       "14  9.378353e-04\n",
       "15  8.193479e-07\n",
       "16  9.673755e-03\n",
       "17  6.757774e-08\n",
       "18  4.127900e-01\n",
       "19  9.310050e-16\n",
       "20  2.658282e-06\n",
       "21  7.292960e-03\n",
       "22  1.173428e-07\n",
       "23  9.088403e-01\n",
       "24  3.400567e-06\n",
       "25  5.917481e-05\n",
       "26  1.547292e-08\n",
       "27  2.124473e-17\n",
       "28  6.968015e-01\n",
       "29  1.485622e-02"
      ]
     },
     "execution_count": 17,
     "metadata": {},
     "output_type": "execute_result"
    }
   ],
   "source": [
    "df = pd.DataFrame(serie)\n",
    "df"
   ]
  },
  {
   "cell_type": "markdown",
   "id": "23de3bd3",
   "metadata": {},
   "source": [
    "3.3."
   ]
  },
  {
   "cell_type": "code",
   "execution_count": 18,
   "id": "ee4a591d",
   "metadata": {},
   "outputs": [
    {
     "data": {
      "text/html": [
       "<div>\n",
       "<style scoped>\n",
       "    .dataframe tbody tr th:only-of-type {\n",
       "        vertical-align: middle;\n",
       "    }\n",
       "\n",
       "    .dataframe tbody tr th {\n",
       "        vertical-align: top;\n",
       "    }\n",
       "\n",
       "    .dataframe thead th {\n",
       "        text-align: right;\n",
       "    }\n",
       "</style>\n",
       "<table border=\"1\" class=\"dataframe\">\n",
       "  <thead>\n",
       "    <tr style=\"text-align: right;\">\n",
       "      <th></th>\n",
       "      <th>0</th>\n",
       "    </tr>\n",
       "  </thead>\n",
       "  <tbody>\n",
       "    <tr>\n",
       "      <th>0</th>\n",
       "      <td>6.460763e-02</td>\n",
       "    </tr>\n",
       "    <tr>\n",
       "      <th>1</th>\n",
       "      <td>1.460976e-12</td>\n",
       "    </tr>\n",
       "    <tr>\n",
       "      <th>2</th>\n",
       "      <td>6.688725e-02</td>\n",
       "    </tr>\n",
       "    <tr>\n",
       "      <th>3</th>\n",
       "      <td>5.067266e-11</td>\n",
       "    </tr>\n",
       "  </tbody>\n",
       "</table>\n",
       "</div>"
      ],
      "text/plain": [
       "              0\n",
       "0  6.460763e-02\n",
       "1  1.460976e-12\n",
       "2  6.688725e-02\n",
       "3  5.067266e-11"
      ]
     },
     "execution_count": 18,
     "metadata": {},
     "output_type": "execute_result"
    }
   ],
   "source": [
    "df.head(4)"
   ]
  },
  {
   "cell_type": "code",
   "execution_count": 19,
   "id": "3710f21e",
   "metadata": {},
   "outputs": [
    {
     "data": {
      "text/html": [
       "<div>\n",
       "<style scoped>\n",
       "    .dataframe tbody tr th:only-of-type {\n",
       "        vertical-align: middle;\n",
       "    }\n",
       "\n",
       "    .dataframe tbody tr th {\n",
       "        vertical-align: top;\n",
       "    }\n",
       "\n",
       "    .dataframe thead th {\n",
       "        text-align: right;\n",
       "    }\n",
       "</style>\n",
       "<table border=\"1\" class=\"dataframe\">\n",
       "  <thead>\n",
       "    <tr style=\"text-align: right;\">\n",
       "      <th></th>\n",
       "      <th>0</th>\n",
       "    </tr>\n",
       "  </thead>\n",
       "  <tbody>\n",
       "    <tr>\n",
       "      <th>26</th>\n",
       "      <td>1.547292e-08</td>\n",
       "    </tr>\n",
       "    <tr>\n",
       "      <th>27</th>\n",
       "      <td>2.124473e-17</td>\n",
       "    </tr>\n",
       "    <tr>\n",
       "      <th>28</th>\n",
       "      <td>6.968015e-01</td>\n",
       "    </tr>\n",
       "    <tr>\n",
       "      <th>29</th>\n",
       "      <td>1.485622e-02</td>\n",
       "    </tr>\n",
       "  </tbody>\n",
       "</table>\n",
       "</div>"
      ],
      "text/plain": [
       "               0\n",
       "26  1.547292e-08\n",
       "27  2.124473e-17\n",
       "28  6.968015e-01\n",
       "29  1.485622e-02"
      ]
     },
     "execution_count": 19,
     "metadata": {},
     "output_type": "execute_result"
    }
   ],
   "source": [
    "df.tail(4)"
   ]
  },
  {
   "cell_type": "markdown",
   "id": "2c491e80",
   "metadata": {},
   "source": [
    "3.4."
   ]
  },
  {
   "cell_type": "code",
   "execution_count": 20,
   "id": "1a531968",
   "metadata": {},
   "outputs": [
    {
     "name": "stdout",
     "output_type": "stream",
     "text": [
      "Index(['BETA_DIST'], dtype='object')\n"
     ]
    }
   ],
   "source": [
    "df.columns = ['BETA_DIST']\n",
    "\n",
    "print(df.columns)"
   ]
  },
  {
   "cell_type": "markdown",
   "id": "2d15d8db",
   "metadata": {},
   "source": [
    "3.5."
   ]
  },
  {
   "cell_type": "code",
   "execution_count": 21,
   "id": "159334e1",
   "metadata": {},
   "outputs": [
    {
     "data": {
      "text/html": [
       "<div>\n",
       "<style scoped>\n",
       "    .dataframe tbody tr th:only-of-type {\n",
       "        vertical-align: middle;\n",
       "    }\n",
       "\n",
       "    .dataframe tbody tr th {\n",
       "        vertical-align: top;\n",
       "    }\n",
       "\n",
       "    .dataframe thead th {\n",
       "        text-align: right;\n",
       "    }\n",
       "</style>\n",
       "<table border=\"1\" class=\"dataframe\">\n",
       "  <thead>\n",
       "    <tr style=\"text-align: right;\">\n",
       "      <th></th>\n",
       "      <th>BETA_DIST</th>\n",
       "      <th>SQUARE_BETA</th>\n",
       "    </tr>\n",
       "  </thead>\n",
       "  <tbody>\n",
       "    <tr>\n",
       "      <th>0</th>\n",
       "      <td>6.460763e-02</td>\n",
       "      <td>4.174146e-03</td>\n",
       "    </tr>\n",
       "    <tr>\n",
       "      <th>1</th>\n",
       "      <td>1.460976e-12</td>\n",
       "      <td>2.134452e-24</td>\n",
       "    </tr>\n",
       "    <tr>\n",
       "      <th>2</th>\n",
       "      <td>6.688725e-02</td>\n",
       "      <td>4.473905e-03</td>\n",
       "    </tr>\n",
       "    <tr>\n",
       "      <th>3</th>\n",
       "      <td>5.067266e-11</td>\n",
       "      <td>2.567718e-21</td>\n",
       "    </tr>\n",
       "    <tr>\n",
       "      <th>4</th>\n",
       "      <td>2.176336e-07</td>\n",
       "      <td>4.736440e-14</td>\n",
       "    </tr>\n",
       "    <tr>\n",
       "      <th>5</th>\n",
       "      <td>3.460188e-10</td>\n",
       "      <td>1.197290e-19</td>\n",
       "    </tr>\n",
       "    <tr>\n",
       "      <th>6</th>\n",
       "      <td>1.115084e-04</td>\n",
       "      <td>1.243413e-08</td>\n",
       "    </tr>\n",
       "    <tr>\n",
       "      <th>7</th>\n",
       "      <td>2.995968e-07</td>\n",
       "      <td>8.975827e-14</td>\n",
       "    </tr>\n",
       "    <tr>\n",
       "      <th>8</th>\n",
       "      <td>1.918756e-16</td>\n",
       "      <td>3.681625e-32</td>\n",
       "    </tr>\n",
       "    <tr>\n",
       "      <th>9</th>\n",
       "      <td>3.415737e-02</td>\n",
       "      <td>1.166726e-03</td>\n",
       "    </tr>\n",
       "    <tr>\n",
       "      <th>10</th>\n",
       "      <td>1.185656e-01</td>\n",
       "      <td>1.405780e-02</td>\n",
       "    </tr>\n",
       "    <tr>\n",
       "      <th>11</th>\n",
       "      <td>5.720713e-05</td>\n",
       "      <td>3.272656e-09</td>\n",
       "    </tr>\n",
       "    <tr>\n",
       "      <th>12</th>\n",
       "      <td>2.091972e-01</td>\n",
       "      <td>4.376347e-02</td>\n",
       "    </tr>\n",
       "    <tr>\n",
       "      <th>13</th>\n",
       "      <td>1.563455e-02</td>\n",
       "      <td>2.444392e-04</td>\n",
       "    </tr>\n",
       "    <tr>\n",
       "      <th>14</th>\n",
       "      <td>9.378353e-04</td>\n",
       "      <td>8.795350e-07</td>\n",
       "    </tr>\n",
       "    <tr>\n",
       "      <th>15</th>\n",
       "      <td>8.193479e-07</td>\n",
       "      <td>6.713310e-13</td>\n",
       "    </tr>\n",
       "    <tr>\n",
       "      <th>16</th>\n",
       "      <td>9.673755e-03</td>\n",
       "      <td>9.358153e-05</td>\n",
       "    </tr>\n",
       "    <tr>\n",
       "      <th>17</th>\n",
       "      <td>6.757774e-08</td>\n",
       "      <td>4.566751e-15</td>\n",
       "    </tr>\n",
       "    <tr>\n",
       "      <th>18</th>\n",
       "      <td>4.127900e-01</td>\n",
       "      <td>1.703956e-01</td>\n",
       "    </tr>\n",
       "    <tr>\n",
       "      <th>19</th>\n",
       "      <td>9.310050e-16</td>\n",
       "      <td>8.667703e-31</td>\n",
       "    </tr>\n",
       "    <tr>\n",
       "      <th>20</th>\n",
       "      <td>2.658282e-06</td>\n",
       "      <td>7.066463e-12</td>\n",
       "    </tr>\n",
       "    <tr>\n",
       "      <th>21</th>\n",
       "      <td>7.292960e-03</td>\n",
       "      <td>5.318727e-05</td>\n",
       "    </tr>\n",
       "    <tr>\n",
       "      <th>22</th>\n",
       "      <td>1.173428e-07</td>\n",
       "      <td>1.376934e-14</td>\n",
       "    </tr>\n",
       "    <tr>\n",
       "      <th>23</th>\n",
       "      <td>9.088403e-01</td>\n",
       "      <td>8.259908e-01</td>\n",
       "    </tr>\n",
       "    <tr>\n",
       "      <th>24</th>\n",
       "      <td>3.400567e-06</td>\n",
       "      <td>1.156386e-11</td>\n",
       "    </tr>\n",
       "    <tr>\n",
       "      <th>25</th>\n",
       "      <td>5.917481e-05</td>\n",
       "      <td>3.501658e-09</td>\n",
       "    </tr>\n",
       "    <tr>\n",
       "      <th>26</th>\n",
       "      <td>1.547292e-08</td>\n",
       "      <td>2.394112e-16</td>\n",
       "    </tr>\n",
       "    <tr>\n",
       "      <th>27</th>\n",
       "      <td>2.124473e-17</td>\n",
       "      <td>4.513385e-34</td>\n",
       "    </tr>\n",
       "    <tr>\n",
       "      <th>28</th>\n",
       "      <td>6.968015e-01</td>\n",
       "      <td>4.855323e-01</td>\n",
       "    </tr>\n",
       "    <tr>\n",
       "      <th>29</th>\n",
       "      <td>1.485622e-02</td>\n",
       "      <td>2.207074e-04</td>\n",
       "    </tr>\n",
       "  </tbody>\n",
       "</table>\n",
       "</div>"
      ],
      "text/plain": [
       "       BETA_DIST   SQUARE_BETA\n",
       "0   6.460763e-02  4.174146e-03\n",
       "1   1.460976e-12  2.134452e-24\n",
       "2   6.688725e-02  4.473905e-03\n",
       "3   5.067266e-11  2.567718e-21\n",
       "4   2.176336e-07  4.736440e-14\n",
       "5   3.460188e-10  1.197290e-19\n",
       "6   1.115084e-04  1.243413e-08\n",
       "7   2.995968e-07  8.975827e-14\n",
       "8   1.918756e-16  3.681625e-32\n",
       "9   3.415737e-02  1.166726e-03\n",
       "10  1.185656e-01  1.405780e-02\n",
       "11  5.720713e-05  3.272656e-09\n",
       "12  2.091972e-01  4.376347e-02\n",
       "13  1.563455e-02  2.444392e-04\n",
       "14  9.378353e-04  8.795350e-07\n",
       "15  8.193479e-07  6.713310e-13\n",
       "16  9.673755e-03  9.358153e-05\n",
       "17  6.757774e-08  4.566751e-15\n",
       "18  4.127900e-01  1.703956e-01\n",
       "19  9.310050e-16  8.667703e-31\n",
       "20  2.658282e-06  7.066463e-12\n",
       "21  7.292960e-03  5.318727e-05\n",
       "22  1.173428e-07  1.376934e-14\n",
       "23  9.088403e-01  8.259908e-01\n",
       "24  3.400567e-06  1.156386e-11\n",
       "25  5.917481e-05  3.501658e-09\n",
       "26  1.547292e-08  2.394112e-16\n",
       "27  2.124473e-17  4.513385e-34\n",
       "28  6.968015e-01  4.855323e-01\n",
       "29  1.485622e-02  2.207074e-04"
      ]
     },
     "execution_count": 21,
     "metadata": {},
     "output_type": "execute_result"
    }
   ],
   "source": [
    "df['SQUARE_BETA'] = df['BETA_DIST']**2\n",
    "df"
   ]
  },
  {
   "cell_type": "markdown",
   "id": "80182cd5",
   "metadata": {},
   "source": [
    "3.6."
   ]
  },
  {
   "cell_type": "code",
   "execution_count": 22,
   "id": "5fc671ea",
   "metadata": {},
   "outputs": [
    {
     "name": "stdout",
     "output_type": "stream",
     "text": [
      "Using matplotlib backend: <object object at 0x7fcbca540620>\n",
      "%pylab is deprecated, use %matplotlib inline and import the required libraries.\n",
      "Populating the interactive namespace from numpy and matplotlib\n"
     ]
    },
    {
     "name": "stderr",
     "output_type": "stream",
     "text": [
      "/Users/jaimegomez/opt/anaconda3/lib/python3.9/site-packages/IPython/core/magics/pylab.py:162: UserWarning: pylab import has clobbered these variables: ['zeros', 'ones', 'beta']\n",
      "`%matplotlib` prevents importing * from pylab and numpy\n",
      "  warn(\"pylab import has clobbered these variables: %s\"  % clobbered +\n"
     ]
    },
    {
     "data": {
      "text/plain": [
       "array([[<AxesSubplot: title={'center': 'BETA_DIST'}>,\n",
       "        <AxesSubplot: title={'center': 'SQUARE_BETA'}>]], dtype=object)"
      ]
     },
     "execution_count": 22,
     "metadata": {},
     "output_type": "execute_result"
    },
    {
     "data": {
      "image/png": "[encoded data removed]",
      "text/plain": [
       "<Figure size 200x200 with 2 Axes>"
      ]
     },
     "metadata": {
      "image/png": {
       "height": 218,
       "width": 228
      }
     },
     "output_type": "display_data"
    }
   ],
   "source": [
    "%pylab\n",
    "%matplotlib inline\n",
    "%config InlineBackend.figure_format = 'retina'\n",
    "\n",
    "df.hist(figsize = (len(df.columns), len(df.columns)))"
   ]
  },
  {
   "cell_type": "markdown",
   "id": "72623ed0",
   "metadata": {},
   "source": [
    "**EJERCICIO 4**\n",
    "\n",
    "A partir de las siguientes notas de un examen:\n",
    "\n",
    "edad = np.random.randint(15, 18, 10)\n",
    "\n",
    "puntuacion = [3.25, 8.5, 7.75, np.nan, 9.80, 4, 6.5, np.nan, 8.70, 5.5]\n",
    "\n",
    "- Crea un dataframe en donde el array “edad” tenga como nombre de columna “Edad” y, para la lista “puntuación”, nombre “Puntuacion”.\n",
    "- Sustituye los valores nulos por 0.\n",
    "- Crea una nueva columna llamada “Situacion” que tenga como valores “PROMOCIONA” o “REPITE” en función de si los valores de la columna “Puntuacion” son mayores a cinco o no.\n",
    "- Agrupa el nuevo dataframe por la media de edad.\n",
    "- Obtén el porcentaje de aprobados y repetidores.\n",
    "- Realiza una matriz de análisis gráfico.\n",
    "- Obtén una matriz de correlación sobre los datos numéricos."
   ]
  },
  {
   "cell_type": "code",
   "execution_count": 23,
   "id": "0b7cf78e",
   "metadata": {},
   "outputs": [],
   "source": [
    "import numpy\n",
    "import pandas"
   ]
  },
  {
   "cell_type": "code",
   "execution_count": 24,
   "id": "644bb50c",
   "metadata": {},
   "outputs": [],
   "source": [
    "edad = numpy.random.randint(15, 18, 10)\n",
    "puntuacion = [3.25, 8.5, 7.75, numpy.nan, 9.80, 4, 6.5, numpy.nan, 8.70, 5.5]"
   ]
  },
  {
   "cell_type": "code",
   "execution_count": 25,
   "id": "4031c17d",
   "metadata": {},
   "outputs": [
    {
     "data": {
      "text/html": [
       "<div>\n",
       "<style scoped>\n",
       "    .dataframe tbody tr th:only-of-type {\n",
       "        vertical-align: middle;\n",
       "    }\n",
       "\n",
       "    .dataframe tbody tr th {\n",
       "        vertical-align: top;\n",
       "    }\n",
       "\n",
       "    .dataframe thead th {\n",
       "        text-align: right;\n",
       "    }\n",
       "</style>\n",
       "<table border=\"1\" class=\"dataframe\">\n",
       "  <thead>\n",
       "    <tr style=\"text-align: right;\">\n",
       "      <th></th>\n",
       "      <th>Edad</th>\n",
       "      <th>Puntuacion</th>\n",
       "    </tr>\n",
       "  </thead>\n",
       "  <tbody>\n",
       "    <tr>\n",
       "      <th>0</th>\n",
       "      <td>16</td>\n",
       "      <td>3.25</td>\n",
       "    </tr>\n",
       "    <tr>\n",
       "      <th>1</th>\n",
       "      <td>15</td>\n",
       "      <td>8.50</td>\n",
       "    </tr>\n",
       "    <tr>\n",
       "      <th>2</th>\n",
       "      <td>15</td>\n",
       "      <td>7.75</td>\n",
       "    </tr>\n",
       "    <tr>\n",
       "      <th>3</th>\n",
       "      <td>17</td>\n",
       "      <td>NaN</td>\n",
       "    </tr>\n",
       "    <tr>\n",
       "      <th>4</th>\n",
       "      <td>15</td>\n",
       "      <td>9.80</td>\n",
       "    </tr>\n",
       "    <tr>\n",
       "      <th>5</th>\n",
       "      <td>16</td>\n",
       "      <td>4.00</td>\n",
       "    </tr>\n",
       "    <tr>\n",
       "      <th>6</th>\n",
       "      <td>15</td>\n",
       "      <td>6.50</td>\n",
       "    </tr>\n",
       "    <tr>\n",
       "      <th>7</th>\n",
       "      <td>16</td>\n",
       "      <td>NaN</td>\n",
       "    </tr>\n",
       "    <tr>\n",
       "      <th>8</th>\n",
       "      <td>15</td>\n",
       "      <td>8.70</td>\n",
       "    </tr>\n",
       "    <tr>\n",
       "      <th>9</th>\n",
       "      <td>16</td>\n",
       "      <td>5.50</td>\n",
       "    </tr>\n",
       "  </tbody>\n",
       "</table>\n",
       "</div>"
      ],
      "text/plain": [
       "   Edad  Puntuacion\n",
       "0    16        3.25\n",
       "1    15        8.50\n",
       "2    15        7.75\n",
       "3    17         NaN\n",
       "4    15        9.80\n",
       "5    16        4.00\n",
       "6    15        6.50\n",
       "7    16         NaN\n",
       "8    15        8.70\n",
       "9    16        5.50"
      ]
     },
     "execution_count": 25,
     "metadata": {},
     "output_type": "execute_result"
    }
   ],
   "source": [
    "df_examen = pandas.DataFrame({\n",
    "    'Edad' : edad,\n",
    "    'Puntuacion' : puntuacion\n",
    "})\n",
    "\n",
    "df_examen"
   ]
  },
  {
   "cell_type": "code",
   "execution_count": 26,
   "id": "5566a6bf",
   "metadata": {},
   "outputs": [
    {
     "data": {
      "text/html": [
       "<div>\n",
       "<style scoped>\n",
       "    .dataframe tbody tr th:only-of-type {\n",
       "        vertical-align: middle;\n",
       "    }\n",
       "\n",
       "    .dataframe tbody tr th {\n",
       "        vertical-align: top;\n",
       "    }\n",
       "\n",
       "    .dataframe thead th {\n",
       "        text-align: right;\n",
       "    }\n",
       "</style>\n",
       "<table border=\"1\" class=\"dataframe\">\n",
       "  <thead>\n",
       "    <tr style=\"text-align: right;\">\n",
       "      <th></th>\n",
       "      <th>Edad</th>\n",
       "      <th>Puntuacion</th>\n",
       "    </tr>\n",
       "  </thead>\n",
       "  <tbody>\n",
       "    <tr>\n",
       "      <th>0</th>\n",
       "      <td>16</td>\n",
       "      <td>3.25</td>\n",
       "    </tr>\n",
       "    <tr>\n",
       "      <th>1</th>\n",
       "      <td>15</td>\n",
       "      <td>8.50</td>\n",
       "    </tr>\n",
       "    <tr>\n",
       "      <th>2</th>\n",
       "      <td>15</td>\n",
       "      <td>7.75</td>\n",
       "    </tr>\n",
       "    <tr>\n",
       "      <th>3</th>\n",
       "      <td>17</td>\n",
       "      <td>0.00</td>\n",
       "    </tr>\n",
       "    <tr>\n",
       "      <th>4</th>\n",
       "      <td>15</td>\n",
       "      <td>9.80</td>\n",
       "    </tr>\n",
       "    <tr>\n",
       "      <th>5</th>\n",
       "      <td>16</td>\n",
       "      <td>4.00</td>\n",
       "    </tr>\n",
       "    <tr>\n",
       "      <th>6</th>\n",
       "      <td>15</td>\n",
       "      <td>6.50</td>\n",
       "    </tr>\n",
       "    <tr>\n",
       "      <th>7</th>\n",
       "      <td>16</td>\n",
       "      <td>0.00</td>\n",
       "    </tr>\n",
       "    <tr>\n",
       "      <th>8</th>\n",
       "      <td>15</td>\n",
       "      <td>8.70</td>\n",
       "    </tr>\n",
       "    <tr>\n",
       "      <th>9</th>\n",
       "      <td>16</td>\n",
       "      <td>5.50</td>\n",
       "    </tr>\n",
       "  </tbody>\n",
       "</table>\n",
       "</div>"
      ],
      "text/plain": [
       "   Edad  Puntuacion\n",
       "0    16        3.25\n",
       "1    15        8.50\n",
       "2    15        7.75\n",
       "3    17        0.00\n",
       "4    15        9.80\n",
       "5    16        4.00\n",
       "6    15        6.50\n",
       "7    16        0.00\n",
       "8    15        8.70\n",
       "9    16        5.50"
      ]
     },
     "execution_count": 26,
     "metadata": {},
     "output_type": "execute_result"
    }
   ],
   "source": [
    "df_examen = df_examen.fillna(0)\n",
    "\n",
    "df_examen"
   ]
  },
  {
   "cell_type": "code",
   "execution_count": 27,
   "id": "9645822d",
   "metadata": {},
   "outputs": [],
   "source": [
    "def aprueba(target):\n",
    "    \n",
    "    promociona = []\n",
    "\n",
    "    for item in target:\n",
    "        if item <= 4.99:\n",
    "            promociona.append('REPITE')\n",
    "        else:\n",
    "            promociona.append('PROMOCIONA')\n",
    "            \n",
    "    return promociona"
   ]
  },
  {
   "cell_type": "code",
   "execution_count": 28,
   "id": "8c7c3ba1",
   "metadata": {},
   "outputs": [
    {
     "data": {
      "text/html": [
       "<div>\n",
       "<style scoped>\n",
       "    .dataframe tbody tr th:only-of-type {\n",
       "        vertical-align: middle;\n",
       "    }\n",
       "\n",
       "    .dataframe tbody tr th {\n",
       "        vertical-align: top;\n",
       "    }\n",
       "\n",
       "    .dataframe thead th {\n",
       "        text-align: right;\n",
       "    }\n",
       "</style>\n",
       "<table border=\"1\" class=\"dataframe\">\n",
       "  <thead>\n",
       "    <tr style=\"text-align: right;\">\n",
       "      <th></th>\n",
       "      <th>Edad</th>\n",
       "      <th>Puntuacion</th>\n",
       "      <th>Situacion</th>\n",
       "    </tr>\n",
       "  </thead>\n",
       "  <tbody>\n",
       "    <tr>\n",
       "      <th>0</th>\n",
       "      <td>16</td>\n",
       "      <td>3.25</td>\n",
       "      <td>REPITE</td>\n",
       "    </tr>\n",
       "    <tr>\n",
       "      <th>1</th>\n",
       "      <td>15</td>\n",
       "      <td>8.50</td>\n",
       "      <td>PROMOCIONA</td>\n",
       "    </tr>\n",
       "    <tr>\n",
       "      <th>2</th>\n",
       "      <td>15</td>\n",
       "      <td>7.75</td>\n",
       "      <td>PROMOCIONA</td>\n",
       "    </tr>\n",
       "    <tr>\n",
       "      <th>3</th>\n",
       "      <td>17</td>\n",
       "      <td>0.00</td>\n",
       "      <td>REPITE</td>\n",
       "    </tr>\n",
       "    <tr>\n",
       "      <th>4</th>\n",
       "      <td>15</td>\n",
       "      <td>9.80</td>\n",
       "      <td>PROMOCIONA</td>\n",
       "    </tr>\n",
       "    <tr>\n",
       "      <th>5</th>\n",
       "      <td>16</td>\n",
       "      <td>4.00</td>\n",
       "      <td>REPITE</td>\n",
       "    </tr>\n",
       "    <tr>\n",
       "      <th>6</th>\n",
       "      <td>15</td>\n",
       "      <td>6.50</td>\n",
       "      <td>PROMOCIONA</td>\n",
       "    </tr>\n",
       "    <tr>\n",
       "      <th>7</th>\n",
       "      <td>16</td>\n",
       "      <td>0.00</td>\n",
       "      <td>REPITE</td>\n",
       "    </tr>\n",
       "    <tr>\n",
       "      <th>8</th>\n",
       "      <td>15</td>\n",
       "      <td>8.70</td>\n",
       "      <td>PROMOCIONA</td>\n",
       "    </tr>\n",
       "    <tr>\n",
       "      <th>9</th>\n",
       "      <td>16</td>\n",
       "      <td>5.50</td>\n",
       "      <td>PROMOCIONA</td>\n",
       "    </tr>\n",
       "  </tbody>\n",
       "</table>\n",
       "</div>"
      ],
      "text/plain": [
       "   Edad  Puntuacion   Situacion\n",
       "0    16        3.25      REPITE\n",
       "1    15        8.50  PROMOCIONA\n",
       "2    15        7.75  PROMOCIONA\n",
       "3    17        0.00      REPITE\n",
       "4    15        9.80  PROMOCIONA\n",
       "5    16        4.00      REPITE\n",
       "6    15        6.50  PROMOCIONA\n",
       "7    16        0.00      REPITE\n",
       "8    15        8.70  PROMOCIONA\n",
       "9    16        5.50  PROMOCIONA"
      ]
     },
     "execution_count": 28,
     "metadata": {},
     "output_type": "execute_result"
    }
   ],
   "source": [
    "df_examen['Situacion'] = aprueba(target=list(df_examen['Puntuacion']))\n",
    "\n",
    "df_examen"
   ]
  },
  {
   "cell_type": "code",
   "execution_count": 29,
   "id": "7f775a13",
   "metadata": {},
   "outputs": [
    {
     "name": "stderr",
     "output_type": "stream",
     "text": [
      "/var/folders/cf/7nzhdlvs5nl0_zh6ky9hz9vc0000gn/T/ipykernel_10020/3053909139.py:1: FutureWarning: The default value of numeric_only in DataFrameGroupBy.mean is deprecated. In a future version, numeric_only will default to False. Either specify numeric_only or select only columns which should be valid for the function.\n",
      "  df_examen.groupby('Edad').mean()\n"
     ]
    },
    {
     "data": {
      "text/html": [
       "<div>\n",
       "<style scoped>\n",
       "    .dataframe tbody tr th:only-of-type {\n",
       "        vertical-align: middle;\n",
       "    }\n",
       "\n",
       "    .dataframe tbody tr th {\n",
       "        vertical-align: top;\n",
       "    }\n",
       "\n",
       "    .dataframe thead th {\n",
       "        text-align: right;\n",
       "    }\n",
       "</style>\n",
       "<table border=\"1\" class=\"dataframe\">\n",
       "  <thead>\n",
       "    <tr style=\"text-align: right;\">\n",
       "      <th></th>\n",
       "      <th>Puntuacion</th>\n",
       "    </tr>\n",
       "    <tr>\n",
       "      <th>Edad</th>\n",
       "      <th></th>\n",
       "    </tr>\n",
       "  </thead>\n",
       "  <tbody>\n",
       "    <tr>\n",
       "      <th>15</th>\n",
       "      <td>8.2500</td>\n",
       "    </tr>\n",
       "    <tr>\n",
       "      <th>16</th>\n",
       "      <td>3.1875</td>\n",
       "    </tr>\n",
       "    <tr>\n",
       "      <th>17</th>\n",
       "      <td>0.0000</td>\n",
       "    </tr>\n",
       "  </tbody>\n",
       "</table>\n",
       "</div>"
      ],
      "text/plain": [
       "      Puntuacion\n",
       "Edad            \n",
       "15        8.2500\n",
       "16        3.1875\n",
       "17        0.0000"
      ]
     },
     "execution_count": 29,
     "metadata": {},
     "output_type": "execute_result"
    }
   ],
   "source": [
    "df_examen.groupby('Edad').mean()"
   ]
  },
  {
   "cell_type": "code",
   "execution_count": 30,
   "id": "d872ea7b",
   "metadata": {},
   "outputs": [
    {
     "name": "stdout",
     "output_type": "stream",
     "text": [
      "col_0       count\n",
      "Situacion        \n",
      "PROMOCIONA   60.0\n",
      "REPITE       40.0\n"
     ]
    }
   ],
   "source": [
    "print((pandas.crosstab(index=df_examen[\"Situacion\"], columns=\"count\"))/len(df_examen) * 100)"
   ]
  },
  {
   "cell_type": "code",
   "execution_count": 31,
   "id": "21ffe9c5",
   "metadata": {},
   "outputs": [
    {
     "name": "stdout",
     "output_type": "stream",
     "text": [
      "Using matplotlib backend: MacOSX\n",
      "%pylab is deprecated, use %matplotlib inline and import the required libraries.\n",
      "Populating the interactive namespace from numpy and matplotlib\n"
     ]
    },
    {
     "data": {
      "image/png": "[encoded data removed]",
      "text/plain": [
       "<Figure size 300x300 with 4 Axes>"
      ]
     },
     "metadata": {
      "image/png": {
       "height": 296,
       "width": 301
      }
     },
     "output_type": "display_data"
    }
   ],
   "source": [
    "%pylab\n",
    "%matplotlib inline\n",
    "%config InlineBackend.figure_format = 'retina'\n",
    "\n",
    "from pandas.plotting import scatter_matrix\n",
    "\n",
    "scatter_matrix(df_examen, figsize = (len(df_examen.columns), \n",
    "                              len(df_examen.columns)), \n",
    "               diagonal = 'kde');"
   ]
  },
  {
   "cell_type": "code",
   "execution_count": 32,
   "id": "bf0eab2a",
   "metadata": {},
   "outputs": [
    {
     "name": "stderr",
     "output_type": "stream",
     "text": [
      "/var/folders/cf/7nzhdlvs5nl0_zh6ky9hz9vc0000gn/T/ipykernel_10020/3484837949.py:1: FutureWarning: The default value of numeric_only in DataFrame.corr is deprecated. In a future version, it will default to False. Select only valid columns or specify the value of numeric_only to silence this warning.\n",
      "  df_examen.corr()\n"
     ]
    },
    {
     "data": {
      "text/html": [
       "<div>\n",
       "<style scoped>\n",
       "    .dataframe tbody tr th:only-of-type {\n",
       "        vertical-align: middle;\n",
       "    }\n",
       "\n",
       "    .dataframe tbody tr th {\n",
       "        vertical-align: top;\n",
       "    }\n",
       "\n",
       "    .dataframe thead th {\n",
       "        text-align: right;\n",
       "    }\n",
       "</style>\n",
       "<table border=\"1\" class=\"dataframe\">\n",
       "  <thead>\n",
       "    <tr style=\"text-align: right;\">\n",
       "      <th></th>\n",
       "      <th>Edad</th>\n",
       "      <th>Puntuacion</th>\n",
       "    </tr>\n",
       "  </thead>\n",
       "  <tbody>\n",
       "    <tr>\n",
       "      <th>Edad</th>\n",
       "      <td>1.000000</td>\n",
       "      <td>-0.887134</td>\n",
       "    </tr>\n",
       "    <tr>\n",
       "      <th>Puntuacion</th>\n",
       "      <td>-0.887134</td>\n",
       "      <td>1.000000</td>\n",
       "    </tr>\n",
       "  </tbody>\n",
       "</table>\n",
       "</div>"
      ],
      "text/plain": [
       "                Edad  Puntuacion\n",
       "Edad        1.000000   -0.887134\n",
       "Puntuacion -0.887134    1.000000"
      ]
     },
     "execution_count": 32,
     "metadata": {},
     "output_type": "execute_result"
    }
   ],
   "source": [
    "df_examen.corr()"
   ]
  },
  {
   "cell_type": "code",
   "execution_count": null,
   "id": "93024c12",
   "metadata": {},
   "outputs": [],
   "source": []
  }
 ],
 "metadata": {
  "kernelspec": {
   "display_name": "Python 3 (ipykernel)",
   "language": "python",
   "name": "python3"
  },
  "language_info": {
   "codemirror_mode": {
    "name": "ipython",
    "version": 3
   },
   "file_extension": ".py",
   "mimetype": "text/x-python",
   "name": "python",
   "nbconvert_exporter": "python",
   "pygments_lexer": "ipython3",
   "version": "3.11.3"
  }
 },
 "nbformat": 4,
 "nbformat_minor": 5
}
