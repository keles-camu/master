{
 "cells": [
  {
   "cell_type": "markdown",
   "metadata": {},
   "source": [
    "# Unidad Repaso, Caso práctico Python\n",
    "\n",
    "Se han obtenidos dos datasets relacionados con la adquisición y fundación de *startups* a nivel global, el objetivo general, es realizar un análisis exploratorio de datos sobre los elementos comunes de ambos datasets. Estos son los objetivos a realizar:\n",
    "* Convierte los archivos **funds.csv** y **funding_rounds.csv** a pandas dataframes.\n",
    "* Busca un elemento común de ambos dataframes y conviértelos en uno solo.\n",
    "* Elimina las columnas 'id', 'source_url', 'source_description', 'updated_at'.\n",
    "* Muestra el número de nulos que tiene cada columna del dataframe y qué porcentaje supone dentro de cada columna el número de nulos.\n",
    "* Modifica todos los valores de 'raised_currency_dode' nulos a 'USD'.\n",
    "* Elimina el resto de nulos del dataset.\n",
    "* Muestra el porcentaje de los diferentes valores de 'raised_currency_code'.\n",
    "* Crea un sub-conjunto sin el valor USD y visualiza un diagrama de barras.\n",
    "* Crea un nuevo sub-conjunto filtrando del dataset todas las filas por debajo de 10M y visualiza el histograma.\n",
    "* Con el conjunto del apartado anterior. Investiga sobre la función contains() https://pandas.pydata.org/pandas-docs/stable/reference/api/pandas.Series.str.contains.html filtra el dataset por las fechas de creación de las startup en 2000\n",
    "* Sobre el conjunto filtrado por fecha visualiza la cuantía obtenida explicada por el tipo de moneda.\n",
    "\n",
    "# SOLUCIÓN\n",
    "\n",
    "Convierte los archivos **funds.csv** y **funding_rounds.csv** a pandas dataframes"
   ]
  },
  {
   "cell_type": "code",
   "execution_count": 1,
   "metadata": {},
   "outputs": [],
   "source": [
    "import pandas as pd"
   ]
  },
  {
   "cell_type": "code",
   "execution_count": 2,
   "metadata": {},
   "outputs": [],
   "source": [
    "# Leemos ambos dataframes\n",
    "funds = pd.read_csv('funds.csv')\n",
    "f_rounds = pd.read_csv('funding_rounds.csv')"
   ]
  },
  {
   "cell_type": "code",
   "execution_count": 3,
   "metadata": {},
   "outputs": [
    {
     "data": {
      "text/html": [
       "<div>\n",
       "<style scoped>\n",
       "    .dataframe tbody tr th:only-of-type {\n",
       "        vertical-align: middle;\n",
       "    }\n",
       "\n",
       "    .dataframe tbody tr th {\n",
       "        vertical-align: top;\n",
       "    }\n",
       "\n",
       "    .dataframe thead th {\n",
       "        text-align: right;\n",
       "    }\n",
       "</style>\n",
       "<table border=\"1\" class=\"dataframe\">\n",
       "  <thead>\n",
       "    <tr style=\"text-align: right;\">\n",
       "      <th></th>\n",
       "      <th>id</th>\n",
       "      <th>fund_id</th>\n",
       "      <th>object_id</th>\n",
       "      <th>name</th>\n",
       "      <th>funded_at</th>\n",
       "      <th>raised_amount</th>\n",
       "      <th>raised_currency_code</th>\n",
       "      <th>source_url</th>\n",
       "      <th>source_description</th>\n",
       "      <th>created_at</th>\n",
       "      <th>updated_at</th>\n",
       "    </tr>\n",
       "  </thead>\n",
       "  <tbody>\n",
       "    <tr>\n",
       "      <th>0</th>\n",
       "      <td>1</td>\n",
       "      <td>1</td>\n",
       "      <td>f:371</td>\n",
       "      <td>Second Fund</td>\n",
       "      <td>2008-12-16</td>\n",
       "      <td>300000000.0</td>\n",
       "      <td>USD</td>\n",
       "      <td>http://www.pehub.com/26194/dfj-dragon-raising-...</td>\n",
       "      <td>peHub</td>\n",
       "      <td>2008-12-17 03:07:16</td>\n",
       "      <td>2008-12-17 03:07:16</td>\n",
       "    </tr>\n",
       "    <tr>\n",
       "      <th>1</th>\n",
       "      <td>4</td>\n",
       "      <td>4</td>\n",
       "      <td>f:17</td>\n",
       "      <td>Sequoia Israel Fourth Fund</td>\n",
       "      <td>2008-12-17</td>\n",
       "      <td>200750000.0</td>\n",
       "      <td>USD</td>\n",
       "      <td>http://www.pehub.com/26725/sequoia-israel-rais...</td>\n",
       "      <td>Sequoia Israel Raises Fourth Fund</td>\n",
       "      <td>2008-12-18 22:04:42</td>\n",
       "      <td>2008-12-18 22:04:42</td>\n",
       "    </tr>\n",
       "    <tr>\n",
       "      <th>2</th>\n",
       "      <td>5</td>\n",
       "      <td>5</td>\n",
       "      <td>f:951</td>\n",
       "      <td>Tenth fund</td>\n",
       "      <td>2008-08-11</td>\n",
       "      <td>650000000.0</td>\n",
       "      <td>USD</td>\n",
       "      <td>http://venturebeat.com/2008/08/11/interwest-cl...</td>\n",
       "      <td>Venture Beat</td>\n",
       "      <td>2008-12-31 09:47:51</td>\n",
       "      <td>2008-12-31 09:47:51</td>\n",
       "    </tr>\n",
       "  </tbody>\n",
       "</table>\n",
       "</div>"
      ],
      "text/plain": [
       "   id  fund_id object_id                        name   funded_at  \\\n",
       "0   1        1     f:371                 Second Fund  2008-12-16   \n",
       "1   4        4      f:17  Sequoia Israel Fourth Fund  2008-12-17   \n",
       "2   5        5     f:951                  Tenth fund  2008-08-11   \n",
       "\n",
       "   raised_amount raised_currency_code  \\\n",
       "0    300000000.0                  USD   \n",
       "1    200750000.0                  USD   \n",
       "2    650000000.0                  USD   \n",
       "\n",
       "                                          source_url  \\\n",
       "0  http://www.pehub.com/26194/dfj-dragon-raising-...   \n",
       "1  http://www.pehub.com/26725/sequoia-israel-rais...   \n",
       "2  http://venturebeat.com/2008/08/11/interwest-cl...   \n",
       "\n",
       "                  source_description           created_at           updated_at  \n",
       "0                              peHub  2008-12-17 03:07:16  2008-12-17 03:07:16  \n",
       "1  Sequoia Israel Raises Fourth Fund  2008-12-18 22:04:42  2008-12-18 22:04:42  \n",
       "2                       Venture Beat  2008-12-31 09:47:51  2008-12-31 09:47:51  "
      ]
     },
     "execution_count": 3,
     "metadata": {},
     "output_type": "execute_result"
    }
   ],
   "source": [
    "# Mostramos las 3 primeras posiciones\n",
    "funds.head(3)"
   ]
  },
  {
   "cell_type": "code",
   "execution_count": 4,
   "metadata": {},
   "outputs": [
    {
     "data": {
      "text/html": [
       "<div>\n",
       "<style scoped>\n",
       "    .dataframe tbody tr th:only-of-type {\n",
       "        vertical-align: middle;\n",
       "    }\n",
       "\n",
       "    .dataframe tbody tr th {\n",
       "        vertical-align: top;\n",
       "    }\n",
       "\n",
       "    .dataframe thead th {\n",
       "        text-align: right;\n",
       "    }\n",
       "</style>\n",
       "<table border=\"1\" class=\"dataframe\">\n",
       "  <thead>\n",
       "    <tr style=\"text-align: right;\">\n",
       "      <th></th>\n",
       "      <th>id</th>\n",
       "      <th>funding_round_id</th>\n",
       "      <th>object_id</th>\n",
       "      <th>funded_at</th>\n",
       "      <th>funding_round_type</th>\n",
       "      <th>funding_round_code</th>\n",
       "      <th>raised_amount_usd</th>\n",
       "      <th>raised_amount</th>\n",
       "      <th>raised_currency_code</th>\n",
       "      <th>pre_money_valuation_usd</th>\n",
       "      <th>...</th>\n",
       "      <th>post_money_valuation</th>\n",
       "      <th>post_money_currency_code</th>\n",
       "      <th>participants</th>\n",
       "      <th>is_first_round</th>\n",
       "      <th>is_last_round</th>\n",
       "      <th>source_url</th>\n",
       "      <th>source_description</th>\n",
       "      <th>created_by</th>\n",
       "      <th>created_at</th>\n",
       "      <th>updated_at</th>\n",
       "    </tr>\n",
       "  </thead>\n",
       "  <tbody>\n",
       "    <tr>\n",
       "      <th>0</th>\n",
       "      <td>1</td>\n",
       "      <td>1</td>\n",
       "      <td>c:4</td>\n",
       "      <td>2006-12-01</td>\n",
       "      <td>series-b</td>\n",
       "      <td>b</td>\n",
       "      <td>8500000.0</td>\n",
       "      <td>8500000.0</td>\n",
       "      <td>USD</td>\n",
       "      <td>0.0</td>\n",
       "      <td>...</td>\n",
       "      <td>0.0</td>\n",
       "      <td>NaN</td>\n",
       "      <td>2</td>\n",
       "      <td>0</td>\n",
       "      <td>0</td>\n",
       "      <td>http://www.marketingvox.com/archives/2006/12/2...</td>\n",
       "      <td>NaN</td>\n",
       "      <td>initial-importer</td>\n",
       "      <td>2007-07-04 04:52:57</td>\n",
       "      <td>2008-02-27 23:14:29</td>\n",
       "    </tr>\n",
       "    <tr>\n",
       "      <th>1</th>\n",
       "      <td>2</td>\n",
       "      <td>2</td>\n",
       "      <td>c:5</td>\n",
       "      <td>2004-09-01</td>\n",
       "      <td>angel</td>\n",
       "      <td>angel</td>\n",
       "      <td>500000.0</td>\n",
       "      <td>500000.0</td>\n",
       "      <td>USD</td>\n",
       "      <td>0.0</td>\n",
       "      <td>...</td>\n",
       "      <td>0.0</td>\n",
       "      <td>USD</td>\n",
       "      <td>2</td>\n",
       "      <td>0</td>\n",
       "      <td>1</td>\n",
       "      <td>NaN</td>\n",
       "      <td>NaN</td>\n",
       "      <td>initial-importer</td>\n",
       "      <td>2007-05-27 06:08:18</td>\n",
       "      <td>2013-06-28 20:07:23</td>\n",
       "    </tr>\n",
       "    <tr>\n",
       "      <th>2</th>\n",
       "      <td>3</td>\n",
       "      <td>3</td>\n",
       "      <td>c:5</td>\n",
       "      <td>2005-05-01</td>\n",
       "      <td>series-a</td>\n",
       "      <td>a</td>\n",
       "      <td>12700000.0</td>\n",
       "      <td>12700000.0</td>\n",
       "      <td>USD</td>\n",
       "      <td>115000000.0</td>\n",
       "      <td>...</td>\n",
       "      <td>0.0</td>\n",
       "      <td>USD</td>\n",
       "      <td>3</td>\n",
       "      <td>0</td>\n",
       "      <td>0</td>\n",
       "      <td>http://www.techcrunch.com/2007/11/02/jim-breye...</td>\n",
       "      <td>Jim Breyer: Extra $500 Million Round For Faceb...</td>\n",
       "      <td>initial-importer</td>\n",
       "      <td>2007-05-27 06:09:10</td>\n",
       "      <td>2013-06-28 20:07:23</td>\n",
       "    </tr>\n",
       "  </tbody>\n",
       "</table>\n",
       "<p>3 rows × 23 columns</p>\n",
       "</div>"
      ],
      "text/plain": [
       "   id  funding_round_id object_id   funded_at funding_round_type  \\\n",
       "0   1                 1       c:4  2006-12-01           series-b   \n",
       "1   2                 2       c:5  2004-09-01              angel   \n",
       "2   3                 3       c:5  2005-05-01           series-a   \n",
       "\n",
       "  funding_round_code  raised_amount_usd  raised_amount raised_currency_code  \\\n",
       "0                  b          8500000.0      8500000.0                  USD   \n",
       "1              angel           500000.0       500000.0                  USD   \n",
       "2                  a         12700000.0     12700000.0                  USD   \n",
       "\n",
       "   pre_money_valuation_usd  ...  post_money_valuation  \\\n",
       "0                      0.0  ...                   0.0   \n",
       "1                      0.0  ...                   0.0   \n",
       "2              115000000.0  ...                   0.0   \n",
       "\n",
       "  post_money_currency_code  participants  is_first_round is_last_round  \\\n",
       "0                      NaN             2               0             0   \n",
       "1                      USD             2               0             1   \n",
       "2                      USD             3               0             0   \n",
       "\n",
       "                                          source_url  \\\n",
       "0  http://www.marketingvox.com/archives/2006/12/2...   \n",
       "1                                                NaN   \n",
       "2  http://www.techcrunch.com/2007/11/02/jim-breye...   \n",
       "\n",
       "                                  source_description        created_by  \\\n",
       "0                                                NaN  initial-importer   \n",
       "1                                                NaN  initial-importer   \n",
       "2  Jim Breyer: Extra $500 Million Round For Faceb...  initial-importer   \n",
       "\n",
       "            created_at           updated_at  \n",
       "0  2007-07-04 04:52:57  2008-02-27 23:14:29  \n",
       "1  2007-05-27 06:08:18  2013-06-28 20:07:23  \n",
       "2  2007-05-27 06:09:10  2013-06-28 20:07:23  \n",
       "\n",
       "[3 rows x 23 columns]"
      ]
     },
     "execution_count": 4,
     "metadata": {},
     "output_type": "execute_result"
    }
   ],
   "source": [
    "f_rounds.head(3)"
   ]
  },
  {
   "cell_type": "code",
   "execution_count": 5,
   "metadata": {},
   "outputs": [
    {
     "data": {
      "text/plain": [
       "Index(['id', 'fund_id', 'object_id', 'name', 'funded_at', 'raised_amount',\n",
       "       'raised_currency_code', 'source_url', 'source_description',\n",
       "       'created_at', 'updated_at'],\n",
       "      dtype='object')"
      ]
     },
     "execution_count": 5,
     "metadata": {},
     "output_type": "execute_result"
    }
   ],
   "source": [
    "funds.columns"
   ]
  },
  {
   "cell_type": "code",
   "execution_count": 6,
   "metadata": {},
   "outputs": [
    {
     "data": {
      "text/plain": [
       "(1564, 11)"
      ]
     },
     "execution_count": 6,
     "metadata": {},
     "output_type": "execute_result"
    }
   ],
   "source": [
    "funds.shape"
   ]
  },
  {
   "cell_type": "code",
   "execution_count": 7,
   "metadata": {},
   "outputs": [
    {
     "data": {
      "text/plain": [
       "Index(['id', 'funding_round_id', 'object_id', 'funded_at',\n",
       "       'funding_round_type', 'funding_round_code', 'raised_amount_usd',\n",
       "       'raised_amount', 'raised_currency_code', 'pre_money_valuation_usd',\n",
       "       'pre_money_valuation', 'pre_money_currency_code',\n",
       "       'post_money_valuation_usd', 'post_money_valuation',\n",
       "       'post_money_currency_code', 'participants', 'is_first_round',\n",
       "       'is_last_round', 'source_url', 'source_description', 'created_by',\n",
       "       'created_at', 'updated_at'],\n",
       "      dtype='object')"
      ]
     },
     "execution_count": 7,
     "metadata": {},
     "output_type": "execute_result"
    }
   ],
   "source": [
    "f_rounds.columns"
   ]
  },
  {
   "cell_type": "code",
   "execution_count": 8,
   "metadata": {},
   "outputs": [
    {
     "data": {
      "text/plain": [
       "(52928, 23)"
      ]
     },
     "execution_count": 8,
     "metadata": {},
     "output_type": "execute_result"
    }
   ],
   "source": [
    "f_rounds.shape"
   ]
  },
  {
   "cell_type": "markdown",
   "metadata": {},
   "source": [
    "Busca un elemento común de ambos dataframes y conviértelos en uno solo."
   ]
  },
  {
   "cell_type": "code",
   "execution_count": 9,
   "metadata": {},
   "outputs": [],
   "source": [
    "df = pd.concat([f_rounds, funds], ignore_index=True, join='inner')"
   ]
  },
  {
   "cell_type": "code",
   "execution_count": 10,
   "metadata": {},
   "outputs": [
    {
     "data": {
      "text/html": [
       "<div>\n",
       "<style scoped>\n",
       "    .dataframe tbody tr th:only-of-type {\n",
       "        vertical-align: middle;\n",
       "    }\n",
       "\n",
       "    .dataframe tbody tr th {\n",
       "        vertical-align: top;\n",
       "    }\n",
       "\n",
       "    .dataframe thead th {\n",
       "        text-align: right;\n",
       "    }\n",
       "</style>\n",
       "<table border=\"1\" class=\"dataframe\">\n",
       "  <thead>\n",
       "    <tr style=\"text-align: right;\">\n",
       "      <th></th>\n",
       "      <th>id</th>\n",
       "      <th>object_id</th>\n",
       "      <th>funded_at</th>\n",
       "      <th>raised_amount</th>\n",
       "      <th>raised_currency_code</th>\n",
       "      <th>source_url</th>\n",
       "      <th>source_description</th>\n",
       "      <th>created_at</th>\n",
       "      <th>updated_at</th>\n",
       "    </tr>\n",
       "  </thead>\n",
       "  <tbody>\n",
       "    <tr>\n",
       "      <th>0</th>\n",
       "      <td>1</td>\n",
       "      <td>c:4</td>\n",
       "      <td>2006-12-01</td>\n",
       "      <td>8500000.0</td>\n",
       "      <td>USD</td>\n",
       "      <td>http://www.marketingvox.com/archives/2006/12/2...</td>\n",
       "      <td>NaN</td>\n",
       "      <td>2007-07-04 04:52:57</td>\n",
       "      <td>2008-02-27 23:14:29</td>\n",
       "    </tr>\n",
       "    <tr>\n",
       "      <th>1</th>\n",
       "      <td>2</td>\n",
       "      <td>c:5</td>\n",
       "      <td>2004-09-01</td>\n",
       "      <td>500000.0</td>\n",
       "      <td>USD</td>\n",
       "      <td>NaN</td>\n",
       "      <td>NaN</td>\n",
       "      <td>2007-05-27 06:08:18</td>\n",
       "      <td>2013-06-28 20:07:23</td>\n",
       "    </tr>\n",
       "    <tr>\n",
       "      <th>2</th>\n",
       "      <td>3</td>\n",
       "      <td>c:5</td>\n",
       "      <td>2005-05-01</td>\n",
       "      <td>12700000.0</td>\n",
       "      <td>USD</td>\n",
       "      <td>http://www.techcrunch.com/2007/11/02/jim-breye...</td>\n",
       "      <td>Jim Breyer: Extra $500 Million Round For Faceb...</td>\n",
       "      <td>2007-05-27 06:09:10</td>\n",
       "      <td>2013-06-28 20:07:23</td>\n",
       "    </tr>\n",
       "  </tbody>\n",
       "</table>\n",
       "</div>"
      ],
      "text/plain": [
       "   id object_id   funded_at  raised_amount raised_currency_code  \\\n",
       "0   1       c:4  2006-12-01      8500000.0                  USD   \n",
       "1   2       c:5  2004-09-01       500000.0                  USD   \n",
       "2   3       c:5  2005-05-01     12700000.0                  USD   \n",
       "\n",
       "                                          source_url  \\\n",
       "0  http://www.marketingvox.com/archives/2006/12/2...   \n",
       "1                                                NaN   \n",
       "2  http://www.techcrunch.com/2007/11/02/jim-breye...   \n",
       "\n",
       "                                  source_description           created_at  \\\n",
       "0                                                NaN  2007-07-04 04:52:57   \n",
       "1                                                NaN  2007-05-27 06:08:18   \n",
       "2  Jim Breyer: Extra $500 Million Round For Faceb...  2007-05-27 06:09:10   \n",
       "\n",
       "            updated_at  \n",
       "0  2008-02-27 23:14:29  \n",
       "1  2013-06-28 20:07:23  \n",
       "2  2013-06-28 20:07:23  "
      ]
     },
     "execution_count": 10,
     "metadata": {},
     "output_type": "execute_result"
    }
   ],
   "source": [
    "df.head(3)"
   ]
  },
  {
   "cell_type": "code",
   "execution_count": 11,
   "metadata": {},
   "outputs": [
    {
     "data": {
      "text/plain": [
       "(54492, 9)"
      ]
     },
     "execution_count": 11,
     "metadata": {},
     "output_type": "execute_result"
    }
   ],
   "source": [
    "df.shape"
   ]
  },
  {
   "cell_type": "markdown",
   "metadata": {},
   "source": [
    "Elimina las columnas 'id', 'source_url', 'source_description', 'updated_at'."
   ]
  },
  {
   "cell_type": "code",
   "execution_count": 12,
   "metadata": {},
   "outputs": [],
   "source": [
    "items_to_drop = ['id', 'source_url', 'source_description', 'updated_at']"
   ]
  },
  {
   "cell_type": "code",
   "execution_count": 13,
   "metadata": {},
   "outputs": [],
   "source": [
    "df = df.drop(items_to_drop, axis=1)"
   ]
  },
  {
   "cell_type": "code",
   "execution_count": 14,
   "metadata": {},
   "outputs": [],
   "source": [
    "#También es válido:\n",
    "#df = df.drop(['id', 'source_url', 'source_description', 'updated_at'], axis = 1)"
   ]
  },
  {
   "cell_type": "markdown",
   "metadata": {},
   "source": [
    "Muestra el número de nulos que tiene cada columna del dataframe y qué porcentaje supone dentro de cada columna el número de nulos."
   ]
  },
  {
   "cell_type": "code",
   "execution_count": 1,
   "metadata": {},
   "outputs": [],
   "source": [
    "def show_nulls(df):\n",
    "    # Nulos totales\n",
    "    total_nan = df.isnull().sum()\n",
    "    # Porcentaje nulos\n",
    "    perc_nan = total_nan/len(df)*100\n",
    "    \n",
    "    return total_nan, perc_nan"
   ]
  },
  {
   "cell_type": "code",
   "execution_count": 2,
   "metadata": {},
   "outputs": [
    {
     "ename": "NameError",
     "evalue": "name 'df' is not defined",
     "output_type": "error",
     "traceback": [
      "\u001b[0;31m---------------------------------------------------------------------------\u001b[0m",
      "\u001b[0;31mNameError\u001b[0m                                 Traceback (most recent call last)",
      "Cell \u001b[0;32mIn[2], line 1\u001b[0m\n\u001b[0;32m----> 1\u001b[0m \u001b[38;5;28mprint\u001b[39m(\u001b[38;5;124m'\u001b[39m\u001b[38;5;124mTotal nulos \u001b[39m\u001b[38;5;124m'\u001b[39m, show_nulls(df\u001b[38;5;241m=\u001b[39m\u001b[43mdf\u001b[49m)[\u001b[38;5;241m0\u001b[39m])\n",
      "\u001b[0;31mNameError\u001b[0m: name 'df' is not defined"
     ]
    }
   ],
   "source": [
    "print('Total nulos ', show_nulls(df=df)[0])"
   ]
  },
  {
   "cell_type": "code",
   "execution_count": null,
   "metadata": {},
   "outputs": [],
   "source": [
    "print('Porcentaje de nulos ', show_nulls(df=df)[1])"
   ]
  },
  {
   "cell_type": "code",
   "execution_count": null,
   "metadata": {},
   "outputs": [],
   "source": [
    "#También es válido:\n",
    "#print(df.isnull().sum())\n",
    "#print(df.isnull().sum()/len(df)*100)"
   ]
  },
  {
   "cell_type": "markdown",
   "metadata": {},
   "source": [
    "Modifica todos los valores de 'raised_currency_dode' nulos a 'USD'."
   ]
  },
  {
   "cell_type": "code",
   "execution_count": null,
   "metadata": {},
   "outputs": [],
   "source": [
    "df['raised_currency_code'] = df['raised_currency_code'].fillna('USD')"
   ]
  },
  {
   "cell_type": "markdown",
   "metadata": {},
   "source": [
    "Elimina el resto de nulos del dataset."
   ]
  },
  {
   "cell_type": "code",
   "execution_count": null,
   "metadata": {},
   "outputs": [],
   "source": [
    "df = df.dropna()"
   ]
  },
  {
   "cell_type": "markdown",
   "metadata": {},
   "source": [
    "Muestra el porcentaje de los diferentes valores de 'raised_currency_dode'"
   ]
  },
  {
   "cell_type": "code",
   "execution_count": null,
   "metadata": {},
   "outputs": [],
   "source": [
    "# Primero atendemos a los valores únicos del tipo de moneda.\n",
    "df['raised_currency_code'].unique()"
   ]
  },
  {
   "cell_type": "code",
   "execution_count": null,
   "metadata": {},
   "outputs": [],
   "source": [
    "print((pd.crosstab(index=df[\"raised_currency_code\"], columns=\"count\"))/len(df) * 100)"
   ]
  },
  {
   "cell_type": "markdown",
   "metadata": {},
   "source": [
    "Crea un sub-conjunto sin el valor USD y visualiza un diagrama de barras."
   ]
  },
  {
   "cell_type": "code",
   "execution_count": null,
   "metadata": {},
   "outputs": [],
   "source": [
    "no_usd = df[df['raised_currency_code'] != 'USD'].copy()"
   ]
  },
  {
   "cell_type": "code",
   "execution_count": null,
   "metadata": {},
   "outputs": [],
   "source": [
    "from plotnine import *"
   ]
  },
  {
   "cell_type": "code",
   "execution_count": null,
   "metadata": {},
   "outputs": [],
   "source": [
    "(ggplot(no_usd)         \n",
    " + aes(x='raised_currency_code', fill = 'raised_currency_code')   \n",
    " + geom_bar(color=\"blue\", alpha = 0.4) \n",
    " + labs(title='Tipo de moneda, capital por startup', \n",
    "         x = 'Tipo de moneda',\n",
    "         y = 'Cuantía')\n",
    ")"
   ]
  },
  {
   "cell_type": "markdown",
   "metadata": {},
   "source": [
    "Crea un nuevo sub-conjunto filtrando del dataset todas las filas por debajo de 10M y visualiza el histograma."
   ]
  },
  {
   "cell_type": "code",
   "execution_count": null,
   "metadata": {},
   "outputs": [],
   "source": [
    "less_tenm = df[df['raised_amount'] <= 10000000].copy()"
   ]
  },
  {
   "cell_type": "code",
   "execution_count": null,
   "metadata": {},
   "outputs": [],
   "source": [
    "less_tenm.describe()"
   ]
  },
  {
   "cell_type": "code",
   "execution_count": null,
   "metadata": {},
   "outputs": [],
   "source": [
    "(ggplot(less_tenm) +\n",
    " geom_histogram(mapping = aes('raised_amount'))\n",
    ")"
   ]
  },
  {
   "cell_type": "code",
   "execution_count": null,
   "metadata": {
    "scrolled": true
   },
   "outputs": [],
   "source": [
    "import seaborn as sns\n",
    "sns.distplot(a=less_tenm['raised_amount'], color='green')"
   ]
  },
  {
   "cell_type": "markdown",
   "metadata": {},
   "source": [
    "Con el conjunto del apartado anterior. Investiga sobre la función contains() https://pandas.pydata.org/pandas-docs/stable/reference/api/pandas.Series.str.contains.html filtra el dataset por las fechas de creación de las startup en 2000"
   ]
  },
  {
   "cell_type": "code",
   "execution_count": null,
   "metadata": {},
   "outputs": [],
   "source": [
    "less_tenm = less_tenm[less_tenm['funded_at'].str.contains('2000')].copy()"
   ]
  },
  {
   "cell_type": "code",
   "execution_count": null,
   "metadata": {},
   "outputs": [],
   "source": [
    "less_tenm"
   ]
  },
  {
   "cell_type": "markdown",
   "metadata": {},
   "source": [
    "Sobre el conjunto filtrado por fecha visualiza la cuantía obtenida explicada por el tipo de moneda."
   ]
  },
  {
   "cell_type": "code",
   "execution_count": null,
   "metadata": {},
   "outputs": [],
   "source": [
    "(\n",
    "    ggplot(less_tenm) +\n",
    "    geom_histogram(mapping=aes('raised_amount', fill = 'raised_currency_code'), color = \"blue\") +\n",
    "    facet_wrap('~raised_currency_code')\n",
    ")"
   ]
  },
  {
   "cell_type": "code",
   "execution_count": null,
   "metadata": {},
   "outputs": [],
   "source": []
  }
 ],
 "metadata": {
  "kernelspec": {
   "display_name": "Python 3 (ipykernel)",
   "language": "python",
   "name": "python3"
  },
  "language_info": {
   "codemirror_mode": {
    "name": "ipython",
    "version": 3
   },
   "file_extension": ".py",
   "mimetype": "text/x-python",
   "name": "python",
   "nbconvert_exporter": "python",
   "pygments_lexer": "ipython3",
   "version": "3.11.0"
  }
 },
 "nbformat": 4,
 "nbformat_minor": 2
}
