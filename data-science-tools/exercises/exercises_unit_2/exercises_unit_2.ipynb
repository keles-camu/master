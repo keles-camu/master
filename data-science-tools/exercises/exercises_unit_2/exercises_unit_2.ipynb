{
 "cells": [
  {
   "cell_type": "markdown",
   "id": "606a948b",
   "metadata": {},
   "source": [
    "1. Escribir una función que reciba una secuencia de números (puede ser lista o tupla y los números pueden ser enteros o decimales) y devuelva la cantidad de números, el valor máximo, el mínimo y la media."
   ]
  },
  {
   "cell_type": "code",
   "execution_count": 20,
   "id": "c11db1ed",
   "metadata": {},
   "outputs": [
    {
     "name": "stdout",
     "output_type": "stream",
     "text": [
      "La longitud de la secuencia es: 9\n",
      "El valor máximo de la secuencia es: 98\n",
      "El valor mínimo de la secuencia es: 1\n",
      "El valor medio de la secuencia es: 39.29\n"
     ]
    }
   ],
   "source": [
    "sequence = (1, 89, 54, 98, 45, 23, 32.8, 1.3, 9.5)\n",
    "\n",
    "def sequence_calc(sequence):\n",
    "    \n",
    "    length = len(sequence)\n",
    "    \n",
    "    max_value = max(sequence)\n",
    "    \n",
    "    min_value = min(sequence)\n",
    "    \n",
    "    #Cálculo de la media\n",
    "    \n",
    "    i = 0\n",
    "    \n",
    "    for mean in sequence:\n",
    "        i += mean\n",
    "    mean = round(i/length, 2)\n",
    "    \n",
    "    \n",
    "    return length, max_value, min_value, mean\n",
    "\n",
    "if __name__ == '__main__':\n",
    "    \n",
    "    length, max_value, min_value, mean = sequence_calc(sequence)\n",
    "    \n",
    "    print('La longitud de la secuencia es: {}'.format(length))\n",
    "    print('El valor máximo de la secuencia es: {}'.format(max_value))\n",
    "    print('El valor mínimo de la secuencia es: {}'.format(min_value))\n",
    "    print('El valor medio de la secuencia es: {}'.format(mean))"
   ]
  },
  {
   "cell_type": "markdown",
   "id": "e3ae9716",
   "metadata": {},
   "source": [
    "2. Escribir un programa que, partiendo de las dos siguientes listas con nombres, borre de la lista uno los nombres de la lista dos.\n",
    " \n",
    "\n",
    "lista_uno = ['Mario', 'Paula', 'David', 'Ana', 'Jorge', 'Ivan', 'Laura', 'Beatriz']\n",
    "\n",
    "lista_dos = ['Paula', 'Francisco', 'Jorge', 'Juan', 'David']"
   ]
  },
  {
   "cell_type": "code",
   "execution_count": 30,
   "id": "6bfec967",
   "metadata": {},
   "outputs": [
    {
     "name": "stdout",
     "output_type": "stream",
     "text": [
      "Final list:  ['Mario', 'David', 'Ana', 'Ivan', 'Laura', 'Beatriz']\n"
     ]
    }
   ],
   "source": [
    "list_one = ['Mario', 'Paula', 'David', 'Ana', 'Jorge', 'Ivan', 'Laura', 'Beatriz']\n",
    "\n",
    "list_two = ['Paula', 'Francisco', 'Jorge', 'Juan', 'David']\n",
    "\n",
    "def clean_list(list_one, list_two):\n",
    "    \n",
    "    for name in list_one:\n",
    "        if name in list_two:\n",
    "            list_one.remove(name)\n",
    "        else:\n",
    "            pass\n",
    "\n",
    "    return list_one\n",
    "        \n",
    "if __name__ == '__main__':\n",
    "\n",
    "    clean_names = clean_list(list_one, list_two)\n",
    "    \n",
    "    print('Final list: ', clean_names)"
   ]
  },
  {
   "cell_type": "code",
   "execution_count": 25,
   "id": "9c7f9633",
   "metadata": {},
   "outputs": [
    {
     "name": "stdout",
     "output_type": "stream",
     "text": [
      "['Mario', 'Paula', 'David', 'Ana', 'Jorge', 'Ivan', 'Laura', 'Beatriz', 'Francisco', 'Juan']\n"
     ]
    }
   ],
   "source": [
    "#Tercera lista con todos los nombres sin repeticiones\n",
    "\n",
    "list_one = ['Mario', 'Paula', 'David', 'Ana', 'Jorge', 'Ivan', 'Laura', 'Beatriz']\n",
    "list_two = ['Paula', 'Francisco', 'Jorge', 'Juan', 'David']\n",
    "\n",
    "list_three = list_one + list_two\n",
    "\n",
    "mylist = list(dict.fromkeys(list_three))\n",
    "print(mylist) \n"
   ]
  },
  {
   "cell_type": "markdown",
   "id": "b9f972f0",
   "metadata": {},
   "source": [
    "3. Dado el siguiente diccionario de datos:\n",
    "\n",
    " \n",
    "\n",
    "precios = {\n",
    "\n",
    "     'ACCIONA': [78.60, 84.95, 77.20],\n",
    "\n",
    "     'ACERINOX': [5.88, 51.25, 58.42],\n",
    "\n",
    "     'INDITEX': [49.99, 57.89, 68.5],\n",
    "\n",
    "     'ENEGAS': [0.5, 0.78, 48.75],\n",
    "\n",
    "    'FERROVIAL': [78.58, 24.25, 65.45]\n",
    "\n",
    "}\n",
    "\n",
    " \n",
    "\n",
    "Modificar cualquier precio inferior a 50 y, finalmente, devolver el diccionario de datos actualizado por cada nombre de empresa."
   ]
  },
  {
   "cell_type": "code",
   "execution_count": 11,
   "id": "7ebead60",
   "metadata": {},
   "outputs": [
    {
     "name": "stdout",
     "output_type": "stream",
     "text": [
      "La empresa ACCIONA tiene los siguientes precios [78.6, 84.95, 77.2]\n",
      "La empresa ACERINOX tiene los siguientes precios [50, 51.25, 58.42]\n",
      "La empresa INDITEX tiene los siguientes precios [50, 57.89, 68.5]\n",
      "La empresa ENEGAS tiene los siguientes precios [50, 50, 50]\n",
      "La empresa FERROVIAL tiene los siguientes precios [78.58, 50, 65.45]\n"
     ]
    }
   ],
   "source": [
    "precios = {\n",
    "    'ACCIONA': [78.60, 84.95, 77.20],\n",
    "    'ACERINOX': [5.88, 51.25, 58.42],\n",
    "    'INDITEX': [49.99, 57.89, 68.5],\n",
    "    'ENEGAS': [0.5, 0.78, 48.75],\n",
    "    'FERROVIAL': [78.58, 24.25, 65.45]\n",
    "}\n",
    "\n",
    "def update_value(value):\n",
    "    \n",
    "    if value < 50:\n",
    "        return 50\n",
    "    else:\n",
    "        return value\n",
    "\n",
    "def update_dict(input_dict):\n",
    "\n",
    "    for campo_clave in input_dict.keys():\n",
    "        \n",
    "        sub_lista = input_dict[campo_clave]\n",
    "        \n",
    "        for item_lista in range(len(sub_lista)):\n",
    "            sub_lista[item_lista] = update_value(value=sub_lista[item_lista])\n",
    "        \n",
    "        input_dict[campo_clave] = sub_lista\n",
    "        \n",
    "    return input_dict\n",
    "\n",
    "def show_companies(dict_object):\n",
    "\n",
    "    for item in dict_object.keys():\n",
    "        print('La empresa {} tiene los siguientes precios {}'.format(item, dict_object[item]))\n",
    "        \n",
    "if __name__ == '__main__':\n",
    "    clean_dict = update_dict(input_dict = precios)\n",
    "    show_companies(dict_object=clean_dict)"
   ]
  },
  {
   "cell_type": "markdown",
   "id": "5570735c",
   "metadata": {},
   "source": [
    "A través de una secuencia del cero al diez, determinar si el número es par, mostrar su exponencial de dos y, si no, que lo divida entre dos."
   ]
  },
  {
   "cell_type": "code",
   "execution_count": 18,
   "id": "caa1cfb2",
   "metadata": {},
   "outputs": [
    {
     "name": "stdout",
     "output_type": "stream",
     "text": [
      "el número 0 es par y su exponencial de dos es 0 \n",
      "\n",
      "el número 1 es impar y su división entre dos es 0.5 \n",
      "\n",
      "el número 2 es par y su exponencial de dos es 4 \n",
      "\n",
      "el número 3 es impar y su división entre dos es 1.5 \n",
      "\n",
      "el número 4 es par y su exponencial de dos es 16 \n",
      "\n",
      "el número 5 es impar y su división entre dos es 2.5 \n",
      "\n",
      "el número 6 es par y su exponencial de dos es 36 \n",
      "\n",
      "el número 7 es impar y su división entre dos es 3.5 \n",
      "\n",
      "el número 8 es par y su exponencial de dos es 64 \n",
      "\n",
      "el número 9 es impar y su división entre dos es 4.5 \n",
      "\n",
      "el número 10 es par y su exponencial de dos es 100 \n",
      "\n"
     ]
    }
   ],
   "source": [
    "for i in range(11):\n",
    "\n",
    "    if i % 2 == 0:\n",
    "        print('el número', i, 'es par y su exponencial de dos es', i**2, '\\n')\n",
    "\n",
    "    else:\n",
    "        print('el número', i, 'es impar y su división entre dos es', i/2, '\\n')"
   ]
  },
  {
   "cell_type": "markdown",
   "id": "c89dc071",
   "metadata": {},
   "source": [
    "Elabora un programa que realice la tabla de multiplicar del uno al nueve."
   ]
  },
  {
   "cell_type": "code",
   "execution_count": 19,
   "id": "2adbea03",
   "metadata": {},
   "outputs": [
    {
     "name": "stdout",
     "output_type": "stream",
     "text": [
      "1  *  0  =  0\n",
      "1  *  1  =  1\n",
      "1  *  2  =  2\n",
      "1  *  3  =  3\n",
      "1  *  4  =  4\n",
      "1  *  5  =  5\n",
      "1  *  6  =  6\n",
      "1  *  7  =  7\n",
      "1  *  8  =  8\n",
      "1  *  9  =  9\n",
      "\n",
      "\n",
      "2  *  0  =  0\n",
      "2  *  1  =  2\n",
      "2  *  2  =  4\n",
      "2  *  3  =  6\n",
      "2  *  4  =  8\n",
      "2  *  5  =  10\n",
      "2  *  6  =  12\n",
      "2  *  7  =  14\n",
      "2  *  8  =  16\n",
      "2  *  9  =  18\n",
      "\n",
      "\n",
      "3  *  0  =  0\n",
      "3  *  1  =  3\n",
      "3  *  2  =  6\n",
      "3  *  3  =  9\n",
      "3  *  4  =  12\n",
      "3  *  5  =  15\n",
      "3  *  6  =  18\n",
      "3  *  7  =  21\n",
      "3  *  8  =  24\n",
      "3  *  9  =  27\n",
      "\n",
      "\n",
      "4  *  0  =  0\n",
      "4  *  1  =  4\n",
      "4  *  2  =  8\n",
      "4  *  3  =  12\n",
      "4  *  4  =  16\n",
      "4  *  5  =  20\n",
      "4  *  6  =  24\n",
      "4  *  7  =  28\n",
      "4  *  8  =  32\n",
      "4  *  9  =  36\n",
      "\n",
      "\n",
      "5  *  0  =  0\n",
      "5  *  1  =  5\n",
      "5  *  2  =  10\n",
      "5  *  3  =  15\n",
      "5  *  4  =  20\n",
      "5  *  5  =  25\n",
      "5  *  6  =  30\n",
      "5  *  7  =  35\n",
      "5  *  8  =  40\n",
      "5  *  9  =  45\n",
      "\n",
      "\n",
      "6  *  0  =  0\n",
      "6  *  1  =  6\n",
      "6  *  2  =  12\n",
      "6  *  3  =  18\n",
      "6  *  4  =  24\n",
      "6  *  5  =  30\n",
      "6  *  6  =  36\n",
      "6  *  7  =  42\n",
      "6  *  8  =  48\n",
      "6  *  9  =  54\n",
      "\n",
      "\n",
      "7  *  0  =  0\n",
      "7  *  1  =  7\n",
      "7  *  2  =  14\n",
      "7  *  3  =  21\n",
      "7  *  4  =  28\n",
      "7  *  5  =  35\n",
      "7  *  6  =  42\n",
      "7  *  7  =  49\n",
      "7  *  8  =  56\n",
      "7  *  9  =  63\n",
      "\n",
      "\n",
      "8  *  0  =  0\n",
      "8  *  1  =  8\n",
      "8  *  2  =  16\n",
      "8  *  3  =  24\n",
      "8  *  4  =  32\n",
      "8  *  5  =  40\n",
      "8  *  6  =  48\n",
      "8  *  7  =  56\n",
      "8  *  8  =  64\n",
      "8  *  9  =  72\n",
      "\n",
      "\n",
      "9  *  0  =  0\n",
      "9  *  1  =  9\n",
      "9  *  2  =  18\n",
      "9  *  3  =  27\n",
      "9  *  4  =  36\n",
      "9  *  5  =  45\n",
      "9  *  6  =  54\n",
      "9  *  7  =  63\n",
      "9  *  8  =  72\n",
      "9  *  9  =  81\n",
      "\n",
      "\n"
     ]
    }
   ],
   "source": [
    "for i in range(10):\n",
    "    \n",
    "    if i == 0:\n",
    "        pass\n",
    "    \n",
    "    else:\n",
    "        for multiplicador in range(10):\n",
    "            print(i, ' * ', multiplicador, ' = ', i * multiplicador)\n",
    "        \n",
    "        print('\\n')"
   ]
  },
  {
   "cell_type": "markdown",
   "id": "633fd1c9",
   "metadata": {},
   "source": [
    "Mientras el valor numérico de una variable (con valor “1”) no sea igual a “10”, imprimiremos “ERROR !” en cada iteración y sumaremos uno al valor actual de la variable."
   ]
  },
  {
   "cell_type": "code",
   "execution_count": 20,
   "id": "05459378",
   "metadata": {},
   "outputs": [
    {
     "name": "stdout",
     "output_type": "stream",
     "text": [
      "ERROR!\n",
      "ERROR!\n",
      "ERROR!\n",
      "ERROR!\n",
      "ERROR!\n",
      "ERROR!\n",
      "ERROR!\n",
      "ERROR!\n",
      "ERROR!\n",
      "La variable i ya tiene el valor 10\n"
     ]
    }
   ],
   "source": [
    "i = 1\n",
    "\n",
    "while i != 10:\n",
    "    print('ERROR!')\n",
    "    i += 1\n",
    "else:\n",
    "    print('La variable i ya tiene el valor 10')"
   ]
  },
  {
   "cell_type": "markdown",
   "id": "25bbc4d7",
   "metadata": {},
   "source": [
    "Mientras el usuario no teclee la cadena de texto “‘fin’”, el programa seguirá solicitando la entrada de una nueva cadena de texto."
   ]
  },
  {
   "cell_type": "code",
   "execution_count": 21,
   "id": "6374e9be",
   "metadata": {},
   "outputs": [
    {
     "name": "stdout",
     "output_type": "stream",
     "text": [
      "Introduce una palabra hola\n",
      "La palabra introducida  hola  no es fin\n",
      "Introduce una nueva palabra caracola\n",
      "La palabra introducida  caracola  no es fin\n",
      "Introduce una nueva palabra adiós\n",
      "La palabra introducida  adiós  no es fin\n",
      "Introduce una nueva palabra timón\n",
      "La palabra introducida  timón  no es fin\n",
      "Introduce una nueva palabra fin\n",
      "fin\n"
     ]
    }
   ],
   "source": [
    "cadena = input('Introduce una palabra ')\n",
    "\n",
    "while not cadena == 'fin': # Equivalente a while cadena != 'fin'\n",
    "    print('La palabra introducida ', cadena, ' no es fin')\n",
    "    cadena = input('Introduce una nueva palabra ')\n",
    "else:\n",
    "    print(cadena)"
   ]
  },
  {
   "cell_type": "code",
   "execution_count": 26,
   "id": "754623f0",
   "metadata": {},
   "outputs": [
    {
     "name": "stdout",
     "output_type": "stream",
     "text": [
      "There are 9 words\n"
     ]
    }
   ],
   "source": [
    "text = 'The quick brown fox jumps over the lazy dog'\n",
    "\n",
    "result = len(text.split())\n",
    "\n",
    "print(\"There are \" + str(result) + \" words\")"
   ]
  },
  {
   "cell_type": "code",
   "execution_count": 29,
   "id": "b2eb2981",
   "metadata": {},
   "outputs": [
    {
     "name": "stdout",
     "output_type": "stream",
     "text": [
      "['Japan', ' Singapore', ' Maldives', ' Europe', ' Italy', ' Korea']\n",
      "There are  6  words.\n"
     ]
    }
   ],
   "source": [
    "bucket_list = 'Japan, Singapore, Maldives, Europe, Italy, Korea'\n",
    "\n",
    "result = len(bucket_list.split(','))\n",
    "\n",
    "print(bucket_list.split(','))\n",
    "\n",
    "print(\"There are \", result, \" words.\")"
   ]
  },
  {
   "cell_type": "code",
   "execution_count": 30,
   "id": "d6be78fe",
   "metadata": {},
   "outputs": [
    {
     "name": "stdout",
     "output_type": "stream",
     "text": [
      "['Japan', ' Singapore', ' Maldives', ' Europe, Italy, Korea']\n",
      "There are 4 words.\n"
     ]
    }
   ],
   "source": [
    "bucket_list = 'Japan, Singapore, Maldives, Europe, Italy, Korea'\n",
    "\n",
    "result = len(bucket_list.split(',', 3))\n",
    "\n",
    "print(bucket_list.split(',', 3))\n",
    "\n",
    "print(\"There are \" + str(result) + \" words.\")\n"
   ]
  },
  {
   "cell_type": "code",
   "execution_count": null,
   "id": "18af1b7e",
   "metadata": {},
   "outputs": [],
   "source": []
  }
 ],
 "metadata": {
  "kernelspec": {
   "display_name": "Python 3 (ipykernel)",
   "language": "python",
   "name": "python3"
  },
  "language_info": {
   "codemirror_mode": {
    "name": "ipython",
    "version": 3
   },
   "file_extension": ".py",
   "mimetype": "text/x-python",
   "name": "python",
   "nbconvert_exporter": "python",
   "pygments_lexer": "ipython3",
   "version": "3.11.3"
  }
 },
 "nbformat": 4,
 "nbformat_minor": 5
}
