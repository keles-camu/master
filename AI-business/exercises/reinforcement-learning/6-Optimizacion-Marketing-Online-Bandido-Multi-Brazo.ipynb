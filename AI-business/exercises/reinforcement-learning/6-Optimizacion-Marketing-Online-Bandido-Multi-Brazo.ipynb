{
 "cells": [
  {
   "cell_type": "markdown",
   "metadata": {},
   "source": [
    "# Caso Práctico de Módulo 1: Optimización de campañas de markeing online\n",
    "\n",
    "\n",
    "\n",
    "* Supongamos el caso en el que tenemos que hacer una campaña de marketing online para promocionar un determinado producto. Para ello se mostrará en una página web un banner con una imagen del producto a promocionar. El equipo de diseño ha realizado 5 imágenes distintas del producto para poner en el banner con el objetivo de captar la atención del usuario para que pulse en el banner y acceda a la web con los detalles del producto a promocionar:\n",
    "\n",
    "<img src=\"../imgs/img_mo.png\" style=\"width: 700px;\"/>\n",
    "\n",
    "* Dado que no sabemos a priori cual es la imagen del producto que captará mayor atención, debemos de aprender en base a los clicks que se realizan sobre el banner que imagen será las más llamativa y conseguirá más visitas. Para ello aplicaremos el método del Bandido Multi-Brazo con el fin maximizar las visitas a la web del producto a promocionar.\n",
    "\n",
    "$$Q(imagen_i) = \\frac{Nº Clicks}{Nº impresiones de la pagina}$$\n",
    "\n",
    "* El ***objetivo es encontrar la imagen que capte mayor atención a los usuarios***; es decir que mayor número de clicks obtenga:\n",
    "\n",
    "$$Q(imagen^{*}) = max Q(imagen_i)$$\n",
    "\n",
    "\n",
    "* Dado el método a continuación implementado \"multi_armed_bandit(num_games=1000, epsilon=0.1, verbose=False)\" se pide llamar a este método pasandole un ratio de exploración adecuado (epsilon) para que encuentre la imagen que mayor número de clicks tiene.\n"
   ]
  },
  {
   "cell_type": "code",
   "execution_count": 1,
   "metadata": {},
   "outputs": [],
   "source": [
    "import random\n",
    "import numpy as np\n",
    "\n",
    "   \n",
    "    \n",
    "def multi_armed_bandit(num_games=1000, epsilon=0.1, verbose=False):\n",
    "    \n",
    "    bandits = [0.1, 0.6, 0.2, 0.1, 0.3]\n",
    "    total_reward = 0\n",
    "    acum_reward_bandit = np.zeros(len(bandits))  # numerador\n",
    "    num_selected_bandit = np.zeros(len(bandits)) # denominador\n",
    "    q_bandits = np.zeros(len(bandits))            # Q(a)\n",
    "    \n",
    "    if verbose:\n",
    "        print(\"Initial Bandits Distribution\\n  {}\".format(bandits))\n",
    "    \n",
    "    for game in range(0,num_games):\n",
    "        \n",
    "        old_q_bandits = q_bandits.copy()\n",
    "        \n",
    "        if np.random.random() < epsilon:\n",
    "            bandit = np.random.randint(len(bandits)) # Exploro\n",
    "        else:\n",
    "            bandit = np.random.choice(np.flatnonzero(q_bandits == q_bandits.max())) # Exploto \n",
    "            \n",
    "        # Obtengo el reward\n",
    "        reward = 1 if (np.random.random() < bandits[bandit]) else 0\n",
    "        \n",
    "        # Actualizo reward total\n",
    "        total_reward += reward\n",
    "        \n",
    "        # Actualizo valor (Q) de la imagen\n",
    "        acum_reward_bandit[bandit] += reward\n",
    "        num_selected_bandit[bandit] += 1\n",
    "        q_bandits[bandit] = acum_reward_bandit[bandit] / num_selected_bandit[bandit]\n",
    "        \n",
    "        if verbose:\n",
    "            print(\"\\nGAME {game}\\n  Old Q_Bandits = {old_q_bandits}\\n  Selected Bandit = {bandit} \\\n",
    "                  \\n  Reward = {reward}\\n  Q_Bandits = {q_bandits}\"\n",
    "                  .format(game=game+1, old_q_bandits=old_q_bandits, bandit=bandit, \n",
    "                          reward=reward, q_bandits=q_bandits))\n",
    "    \n",
    "    return bandits, total_reward, q_bandits, num_selected_bandit\n"
   ]
  },
  {
   "cell_type": "markdown",
   "metadata": {},
   "source": [
    "### Ratio de Exploración EPSILON:\n",
    "\n",
    "\n",
    "* Modificando la constante \"EPSILON\" que es el ratio de exploración se pide:\n",
    "\n",
    "\n",
    "1. Cual es el valor de EPSILON que maximiza la imagen con mayor número de clicks\n",
    "    + ***RESPUESTA***: El valor debería de ser entorno a 0.1 [0.05-0.2] serian valores válidos.\n",
    "\n",
    "\n",
    "2. Cual es la imagen que más clicks obtiene y cuantos:\n",
    "    + ***RESPUESTA***: Es la imagen B (en la gráfica la imagen 1) con un número de Clicks que debe de rondar entorno a 550.\n",
    "\n",
    "\n",
    "3. Poniendo un ratio de explotación del 100% (exploración al 0%) que resultado obtenemos:\n",
    "    + ***RESPUESTA***: Con este ratio de exploración a 0 (epsilon a 0) que significa que explotamos el 100% de las veces, vemos que vamos a seleccionar como imagen a mostrar aquella que primero obtenga un click ya que una vez que esa haya obtenido recompensa siempre mostraremos la misma ya que estaremos explotando la información que tenemos.\n",
    "    "
   ]
  },
  {
   "cell_type": "code",
   "execution_count": 2,
   "metadata": {},
   "outputs": [
    {
     "name": "stdout",
     "output_type": "stream",
     "text": [
      "Initial Bandits Distribution\n",
      "  [0.1, 0.6, 0.2, 0.1, 0.3]\n",
      "Bandits Distribution games\n",
      "  [ 18. 909.  29.  15.  29.]\n",
      "Q(a) Bandits\n",
      "  [0.0556 0.6007 0.2069 0.2    0.3448]\n",
      "CLICKS: 566\n"
     ]
    },
    {
     "data": {
      "image/png": "[encoded data removed]",
      "text/plain": [
       "<Figure size 432x288 with 1 Axes>"
      ]
     },
     "metadata": {
      "needs_background": "light"
     },
     "output_type": "display_data"
    }
   ],
   "source": [
    "EPSILON = 0.1 # PREGUNTA 1\n",
    "# EPSILON = 0   # PREGUNTA 3\n",
    "\n",
    "import matplotlib.pyplot as plt\n",
    "%matplotlib inline\n",
    "np.set_printoptions(precision=4)\n",
    "\n",
    "bandits, total_reward, q_bandits, num_selected_bandit = multi_armed_bandit(num_games=1000, \n",
    "                                                                           epsilon=EPSILON, \n",
    "                                                                           verbose=False)\n",
    "\n",
    "print(\"Initial Bandits Distribution\\n  {}\".format(bandits))\n",
    "print(\"Bandits Distribution games\\n  {}\".format(num_selected_bandit))\n",
    "print(\"Q(a) Bandits\\n  {}\".format(q_bandits))\n",
    "print(\"CLICKS: {}\".format(total_reward))\n",
    "\n",
    "# Mostramos en una gráfica de barras el número de veces que elegimos cada \"tragaperras\"\n",
    "plt.title('Epsilon-greedy')\n",
    "plt.bar(range(0,len(bandits)), num_selected_bandit)\n",
    "plt.xlabel('Bandido')\n",
    "plt.ylabel('num veces elegido')\n",
    "plt.show()"
   ]
  }
 ],
 "metadata": {
  "kernelspec": {
   "display_name": "Python 3 (ipykernel)",
   "language": "python",
   "name": "python3"
  },
  "language_info": {
   "codemirror_mode": {
    "name": "ipython",
    "version": 3
   },
   "file_extension": ".py",
   "mimetype": "text/x-python",
   "name": "python",
   "nbconvert_exporter": "python",
   "pygments_lexer": "ipython3",
   "version": "3.11.4"
  }
 },
 "nbformat": 4,
 "nbformat_minor": 2
}
